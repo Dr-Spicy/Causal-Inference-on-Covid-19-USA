{
  "nbformat": 4,
  "nbformat_minor": 0,
  "metadata": {
    "colab": {
      "name": "preprocessing.ipynb",
      "provenance": [],
      "toc_visible": true,
      "machine_shape": "hm",
      "collapsed_sections": []
    },
    "kernelspec": {
      "name": "python3",
      "display_name": "Python 3"
    },
    "language_info": {
      "name": "python"
    }
  },
  "cells": [
    {
      "cell_type": "markdown",
      "source": [
        "# Dowload data and preprocess"
      ],
      "metadata": {
        "id": "wePHNBt3lcuA"
      }
    },
    {
      "cell_type": "code",
      "metadata": {
        "colab": {
          "base_uri": "https://localhost:8080/"
        },
        "id": "LqCKBDmmXJtH",
        "outputId": "c6839096-39e3-49ce-fba2-19c0ccb279f9"
      },
      "source": [
        "pip install plotly --upgrade\n",
        "pip install covidcast"
      ],
      "execution_count": null,
      "outputs": [
        {
          "output_type": "stream",
          "name": "stdout",
          "text": [
            "Requirement already satisfied: plotly in /usr/local/lib/python3.7/dist-packages (4.4.1)\n",
            "Collecting plotly\n",
            "  Downloading plotly-5.4.0-py2.py3-none-any.whl (25.3 MB)\n",
            "\u001b[K     |████████████████████████████████| 25.3 MB 1.4 MB/s \n",
            "\u001b[?25hRequirement already satisfied: tenacity>=6.2.0 in /usr/local/lib/python3.7/dist-packages (from plotly) (8.0.1)\n",
            "Requirement already satisfied: six in /usr/local/lib/python3.7/dist-packages (from plotly) (1.15.0)\n",
            "Installing collected packages: plotly\n",
            "  Attempting uninstall: plotly\n",
            "    Found existing installation: plotly 4.4.1\n",
            "    Uninstalling plotly-4.4.1:\n",
            "      Successfully uninstalled plotly-4.4.1\n",
            "Successfully installed plotly-5.4.0\n"
          ]
        }
      ]
    },
    {
      "cell_type": "code",
      "metadata": {
        "id": "ElBoIP29Cv0L"
      },
      "source": [
        "import pandas as pd"
      ],
      "execution_count": null,
      "outputs": []
    },
    {
      "cell_type": "code",
      "metadata": {
        "id": "9dMrkMxzXJtG"
      },
      "source": [
        "from datetime import date\n",
        "import covidcast\n",
        "# cases_asis = covidcast.signal(\"jhu-csse\", \"confirmed_incidence_num\",\n",
        "#                           date(2020, 2, 18), date(2021, 11, 1),\n",
        "#                           geo_type=\"state\",geo_values=[\"il\",\"wi\",\"mi\",\"in\",\"mo\",\"ia\",\"ky\"])\n",
        "# cases_asis = covidcast.signal(\"jhu-csse\", \"confirmed_incidence_num\",\n",
        "#                           date(2020, 2, 18), date(2021, 11, 1),\n",
        "#                           geo_type=\"state\",geo_values=[\"il\",\"id\",\"sc\",\"az\",\"ga\",\"mo\",\"tn\",\"sd\",\"fl\",\"ok\",\"ne\"])\n",
        "#Washington,Nevada,California,New Mexico,Hawaii,Connecticut,New York\n",
        "cases_asis = covidcast.signal(\"jhu-csse\", \"confirmed_incidence_prop\",\n",
        "                          date(2020,1,22), date(2021, 11, 21),\n",
        "                          geo_type=\"state\")#,geo_values=[\"mi\",\"ny\",\"ct\",\"nm\",\"ca\",\"nv\",\"wa\"])\n",
        "cases_asis.geo_value = covidcast.abbr_to_name(cases_asis.geo_value,ignore_case = True)"
      ],
      "execution_count": null,
      "outputs": []
    },
    {
      "cell_type": "code",
      "metadata": {
        "id": "yWF9d_KuXJtG"
      },
      "source": [
        "cases_asis['time_value'] = pd.to_datetime(cases_asis['time_value'])"
      ],
      "execution_count": null,
      "outputs": []
    },
    {
      "cell_type": "code",
      "metadata": {
        "id": "4Syn0C3PXJtG"
      },
      "source": [
        "cases_asis.to_csv('covidcasesper100k.csv',index=False)"
      ],
      "execution_count": null,
      "outputs": []
    },
    {
      "cell_type": "code",
      "metadata": {
        "id": "MIm941O3ELzj"
      },
      "source": [
        "import pandas as pd\n",
        "covidcasesper100k = pd.read_csv(\"/covidcasesper100k.csv\")"
      ],
      "execution_count": 1,
      "outputs": []
    },
    {
      "cell_type": "code",
      "metadata": {
        "id": "B4fUisX6E2OV"
      },
      "source": [
        "covidcasesper100k['time_value'] = pd.to_datetime(covidcasesper100k['time_value'])"
      ],
      "execution_count": 2,
      "outputs": []
    },
    {
      "cell_type": "code",
      "metadata": {
        "id": "qM3V81dTXJtH"
      },
      "source": [
        "# Transform daily to weekly\n",
        "df = pd.DataFrame(covidcasesper100k.groupby(by=[pd.Grouper(key='time_value',freq=\"W-MON\"),covidcasesper100k.geo_value])[\"value\"].sum()).reset_index().set_index('time_value')"
      ],
      "execution_count": 3,
      "outputs": []
    },
    {
      "cell_type": "code",
      "metadata": {
        "id": "f9cM8A6jXJtH"
      },
      "source": [
        "dfpivot = df.pivot_table(index='time_value', columns='geo_value', values='value').rename_axis(None,axis=1)"
      ],
      "execution_count": 4,
      "outputs": []
    },
    {
      "cell_type": "markdown",
      "metadata": {
        "id": "UL4h73qhOdu8"
      },
      "source": [
        "# Michigan"
      ]
    },
    {
      "cell_type": "code",
      "metadata": {
        "id": "CdRvoLUdNdRh"
      },
      "source": [
        "import datetime\n",
        "from datetime import date\n",
        "from dateutil.relativedelta import relativedelta,MO\n",
        "enddate=pd.to_datetime(\"2021-06-22\")"
      ],
      "execution_count": null,
      "outputs": []
    },
    {
      "cell_type": "code",
      "metadata": {
        "colab": {
          "base_uri": "https://localhost:8080/"
        },
        "id": "rJJW58eOSli0",
        "outputId": "41780d7e-1d1f-4e83-c6dd-565010910847"
      },
      "source": [
        "dfpivot.Michigan.head(10)"
      ],
      "execution_count": null,
      "outputs": [
        {
          "output_type": "execute_result",
          "data": {
            "text/plain": [
              "time_value\n",
              "2020-01-27     0.000000\n",
              "2020-02-03     0.000000\n",
              "2020-02-10     0.000000\n",
              "2020-02-17     0.000000\n",
              "2020-02-24     0.000000\n",
              "2020-03-02     0.000000\n",
              "2020-03-09     0.000000\n",
              "2020-03-16     0.761041\n",
              "2020-03-23    13.798135\n",
              "2020-03-30    53.560394\n",
              "Name: Michigan, dtype: float64"
            ]
          },
          "metadata": {},
          "execution_count": 7
        }
      ]
    },
    {
      "cell_type": "code",
      "metadata": {
        "id": "UvyBdcSsXJtH"
      },
      "source": [
        "dfpivot_cor = dfpivot[(dfpivot.index >= \"2020-03-16\")&(dfpivot.index <= \"2021-06-28\")]\n",
        "#dfpivot_cor = dfpivot[(dfpivot.index > \"2020-5-4\")&(dfpivot.index < \"2021-6-30\")]#\n"
      ],
      "execution_count": null,
      "outputs": []
    },
    {
      "cell_type": "code",
      "metadata": {
        "colab": {
          "base_uri": "https://localhost:8080/"
        },
        "id": "zpL1X8OvQCui",
        "outputId": "50474ee8-de24-40b4-85cb-4a5f65fcac02"
      },
      "source": [
        "pd.to_datetime(\"2021-07-5\")+relativedelta(weeks=+8)"
      ],
      "execution_count": null,
      "outputs": [
        {
          "output_type": "execute_result",
          "data": {
            "text/plain": [
              "Timestamp('2021-08-30 00:00:00')"
            ]
          },
          "metadata": {},
          "execution_count": 76
        }
      ]
    },
    {
      "cell_type": "code",
      "metadata": {
        "colab": {
          "base_uri": "https://localhost:8080/"
        },
        "id": "uyjgDikmJKdF",
        "outputId": "7a50fd92-c78b-4052-8cd4-a79069f39a79"
      },
      "source": [
        "print(dfpivot_cor.head(1))\n",
        "print(dfpivot_cor.tail(1))"
      ],
      "execution_count": null,
      "outputs": [
        {
          "output_type": "stream",
          "name": "stdout",
          "text": [
            "             Alabama    Alaska   Arizona  ...  West Virginia  Wisconsin   Wyoming\n",
            "time_value                                ...                                    \n",
            "2020-03-16  0.731479  0.138345  0.188644  ...            0.0   0.822953  0.343449\n",
            "\n",
            "[1 rows x 52 columns]\n",
            "              Alabama     Alaska  ...  Wisconsin    Wyoming\n",
            "time_value                        ...                      \n",
            "2021-06-28  29.218544  24.763776  ...   9.875434  80.538803\n",
            "\n",
            "[1 rows x 52 columns]\n"
          ]
        }
      ]
    },
    {
      "cell_type": "code",
      "metadata": {
        "colab": {
          "base_uri": "https://localhost:8080/"
        },
        "id": "2DnnsZaN4199",
        "outputId": "f939acd2-13ed-43ce-d062-a33e73045200"
      },
      "source": [
        "maskmandate = pd.read_csv(\"/Statewidemaskorders.csv\")\n",
        "maskmandate[['Start_date', 'End_date']] = maskmandate['Effective'].str.split(' - ', expand=True)\n",
        "maskmandate['Start_date']=pd.to_datetime(maskmandate['Start_date'])\n",
        "maskmandate.End_date[maskmandate.End_date == 'present'] = \"November 21, 2021\"\n",
        "maskmandate['End_date']=pd.to_datetime(maskmandate['End_date'])\n",
        "state_names=[\"Alabama\", \"Alaska\", \"Arizona\", \"Arkansas\", \"California\", \"Colorado\", \"Connecticut\", \n",
        "             \"Delaware\", \"Florida\", \"Georgia\", \"Hawaii\", \"Idaho\", \"Illinois\", \"Indiana\", \"Iowa\", \n",
        "             \"Kansas\", \"Kentucky\", \"Louisiana\", \"Maine\", \"Maryland\", \"Massachusetts\", \"Michigan\", \n",
        "             \"Minnesota\", \"Mississippi\", \"Missouri\", \"Montana\", \"Nebraska\", \"Nevada\", \"New Hampshire\", \n",
        "             \"New Jersey\", \"New Mexico\", \"New York\", \"North Carolina\", \"North Dakota\", \"Ohio\", \"Oklahoma\", \n",
        "             \"Oregon\", \"Pennsylvania\", \"Rhode Island\", \"South Carolina\", \"South Dakota\", \"Tennessee\", \"Texas\", \n",
        "             \"Utah\", \"Vermont\", \"Virginia\", \"Washington\", \"West Virginia\", \"Wisconsin\", \"Wyoming\"]\n",
        "nomandate = list(set(state_names) - set(maskmandate.State.values))\n",
        "nomandatedf = pd.DataFrame(data={'State':nomandate})\n",
        "maskmandate = maskmandate.append(nomandatedf)"
      ],
      "execution_count": null,
      "outputs": [
        {
          "output_type": "stream",
          "name": "stderr",
          "text": [
            "/usr/local/lib/python3.7/dist-packages/ipykernel_launcher.py:4: SettingWithCopyWarning: \n",
            "A value is trying to be set on a copy of a slice from a DataFrame\n",
            "\n",
            "See the caveats in the documentation: https://pandas.pydata.org/pandas-docs/stable/user_guide/indexing.html#returning-a-view-versus-a-copy\n",
            "  after removing the cwd from sys.path.\n"
          ]
        }
      ]
    },
    {
      "cell_type": "code",
      "metadata": {
        "colab": {
          "base_uri": "https://localhost:8080/",
          "height": 1000
        },
        "id": "gWV39RyVXJtI",
        "outputId": "29334b2a-654c-4ef7-eb9d-da0887ea6076"
      },
      "source": [
        "corr = dfpivot_cor.pct_change().dropna().corr()\n",
        "mi = pd.DataFrame(corr.Michigan)\n",
        "mi = mi[mi.Michigan>0.7]\n",
        "mi.style.background_gradient(cmap='coolwarm')"
      ],
      "execution_count": null,
      "outputs": [
        {
          "output_type": "execute_result",
          "data": {
            "text/html": [
              "<style  type=\"text/css\" >\n",
              "#T_c51858fc_51a1_11ec_b45e_0242ac1c0002row0_col0,#T_c51858fc_51a1_11ec_b45e_0242ac1c0002row38_col0{\n",
              "            background-color:  #d24b40;\n",
              "            color:  #f1f1f1;\n",
              "        }#T_c51858fc_51a1_11ec_b45e_0242ac1c0002row1_col0,#T_c51858fc_51a1_11ec_b45e_0242ac1c0002row2_col0{\n",
              "            background-color:  #d1493f;\n",
              "            color:  #f1f1f1;\n",
              "        }#T_c51858fc_51a1_11ec_b45e_0242ac1c0002row3_col0{\n",
              "            background-color:  #779af7;\n",
              "            color:  #000000;\n",
              "        }#T_c51858fc_51a1_11ec_b45e_0242ac1c0002row4_col0{\n",
              "            background-color:  #7ea1fa;\n",
              "            color:  #000000;\n",
              "        }#T_c51858fc_51a1_11ec_b45e_0242ac1c0002row5_col0{\n",
              "            background-color:  #f0cdbb;\n",
              "            color:  #000000;\n",
              "        }#T_c51858fc_51a1_11ec_b45e_0242ac1c0002row6_col0{\n",
              "            background-color:  #f6a283;\n",
              "            color:  #000000;\n",
              "        }#T_c51858fc_51a1_11ec_b45e_0242ac1c0002row7_col0{\n",
              "            background-color:  #aac7fd;\n",
              "            color:  #000000;\n",
              "        }#T_c51858fc_51a1_11ec_b45e_0242ac1c0002row8_col0,#T_c51858fc_51a1_11ec_b45e_0242ac1c0002row27_col0,#T_c51858fc_51a1_11ec_b45e_0242ac1c0002row30_col0{\n",
              "            background-color:  #c83836;\n",
              "            color:  #f1f1f1;\n",
              "        }#T_c51858fc_51a1_11ec_b45e_0242ac1c0002row9_col0{\n",
              "            background-color:  #a2c1ff;\n",
              "            color:  #000000;\n",
              "        }#T_c51858fc_51a1_11ec_b45e_0242ac1c0002row10_col0,#T_c51858fc_51a1_11ec_b45e_0242ac1c0002row40_col0{\n",
              "            background-color:  #a9c6fd;\n",
              "            color:  #000000;\n",
              "        }#T_c51858fc_51a1_11ec_b45e_0242ac1c0002row11_col0{\n",
              "            background-color:  #d0473d;\n",
              "            color:  #f1f1f1;\n",
              "        }#T_c51858fc_51a1_11ec_b45e_0242ac1c0002row12_col0{\n",
              "            background-color:  #bd1f2d;\n",
              "            color:  #f1f1f1;\n",
              "        }#T_c51858fc_51a1_11ec_b45e_0242ac1c0002row13_col0{\n",
              "            background-color:  #ec8165;\n",
              "            color:  #000000;\n",
              "        }#T_c51858fc_51a1_11ec_b45e_0242ac1c0002row14_col0{\n",
              "            background-color:  #4961d2;\n",
              "            color:  #f1f1f1;\n",
              "        }#T_c51858fc_51a1_11ec_b45e_0242ac1c0002row15_col0,#T_c51858fc_51a1_11ec_b45e_0242ac1c0002row34_col0{\n",
              "            background-color:  #f7ad90;\n",
              "            color:  #000000;\n",
              "        }#T_c51858fc_51a1_11ec_b45e_0242ac1c0002row16_col0{\n",
              "            background-color:  #edd2c3;\n",
              "            color:  #000000;\n",
              "        }#T_c51858fc_51a1_11ec_b45e_0242ac1c0002row17_col0{\n",
              "            background-color:  #f5a081;\n",
              "            color:  #000000;\n",
              "        }#T_c51858fc_51a1_11ec_b45e_0242ac1c0002row18_col0{\n",
              "            background-color:  #eed0c0;\n",
              "            color:  #000000;\n",
              "        }#T_c51858fc_51a1_11ec_b45e_0242ac1c0002row19_col0{\n",
              "            background-color:  #f3c8b2;\n",
              "            color:  #000000;\n",
              "        }#T_c51858fc_51a1_11ec_b45e_0242ac1c0002row20_col0{\n",
              "            background-color:  #f49a7b;\n",
              "            color:  #000000;\n",
              "        }#T_c51858fc_51a1_11ec_b45e_0242ac1c0002row21_col0{\n",
              "            background-color:  #b40426;\n",
              "            color:  #f1f1f1;\n",
              "        }#T_c51858fc_51a1_11ec_b45e_0242ac1c0002row22_col0{\n",
              "            background-color:  #3b4cc0;\n",
              "            color:  #f1f1f1;\n",
              "        }#T_c51858fc_51a1_11ec_b45e_0242ac1c0002row23_col0{\n",
              "            background-color:  #c73635;\n",
              "            color:  #f1f1f1;\n",
              "        }#T_c51858fc_51a1_11ec_b45e_0242ac1c0002row24_col0,#T_c51858fc_51a1_11ec_b45e_0242ac1c0002row28_col0{\n",
              "            background-color:  #c43032;\n",
              "            color:  #f1f1f1;\n",
              "        }#T_c51858fc_51a1_11ec_b45e_0242ac1c0002row25_col0{\n",
              "            background-color:  #96b7ff;\n",
              "            color:  #000000;\n",
              "        }#T_c51858fc_51a1_11ec_b45e_0242ac1c0002row26_col0{\n",
              "            background-color:  #f29072;\n",
              "            color:  #000000;\n",
              "        }#T_c51858fc_51a1_11ec_b45e_0242ac1c0002row29_col0{\n",
              "            background-color:  #ca3b37;\n",
              "            color:  #f1f1f1;\n",
              "        }#T_c51858fc_51a1_11ec_b45e_0242ac1c0002row31_col0{\n",
              "            background-color:  #ee8669;\n",
              "            color:  #000000;\n",
              "        }#T_c51858fc_51a1_11ec_b45e_0242ac1c0002row32_col0{\n",
              "            background-color:  #e5d8d1;\n",
              "            color:  #000000;\n",
              "        }#T_c51858fc_51a1_11ec_b45e_0242ac1c0002row33_col0{\n",
              "            background-color:  #f59f80;\n",
              "            color:  #000000;\n",
              "        }#T_c51858fc_51a1_11ec_b45e_0242ac1c0002row35_col0{\n",
              "            background-color:  #d85646;\n",
              "            color:  #000000;\n",
              "        }#T_c51858fc_51a1_11ec_b45e_0242ac1c0002row36_col0{\n",
              "            background-color:  #d75445;\n",
              "            color:  #000000;\n",
              "        }#T_c51858fc_51a1_11ec_b45e_0242ac1c0002row37_col0{\n",
              "            background-color:  #e16751;\n",
              "            color:  #000000;\n",
              "        }#T_c51858fc_51a1_11ec_b45e_0242ac1c0002row39_col0{\n",
              "            background-color:  #93b5fe;\n",
              "            color:  #000000;\n",
              "        }#T_c51858fc_51a1_11ec_b45e_0242ac1c0002row41_col0{\n",
              "            background-color:  #d44e41;\n",
              "            color:  #000000;\n",
              "        }#T_c51858fc_51a1_11ec_b45e_0242ac1c0002row42_col0{\n",
              "            background-color:  #f7b093;\n",
              "            color:  #000000;\n",
              "        }</style><table id=\"T_c51858fc_51a1_11ec_b45e_0242ac1c0002\" class=\"dataframe\"><thead>    <tr>        <th class=\"blank level0\" ></th>        <th class=\"col_heading level0 col0\" >Michigan</th>    </tr></thead><tbody>\n",
              "                <tr>\n",
              "                        <th id=\"T_c51858fc_51a1_11ec_b45e_0242ac1c0002level0_row0\" class=\"row_heading level0 row0\" >Alaska</th>\n",
              "                        <td id=\"T_c51858fc_51a1_11ec_b45e_0242ac1c0002row0_col0\" class=\"data row0 col0\" >0.975772</td>\n",
              "            </tr>\n",
              "            <tr>\n",
              "                        <th id=\"T_c51858fc_51a1_11ec_b45e_0242ac1c0002level0_row1\" class=\"row_heading level0 row1\" >Arizona</th>\n",
              "                        <td id=\"T_c51858fc_51a1_11ec_b45e_0242ac1c0002row1_col0\" class=\"data row1 col0\" >0.976138</td>\n",
              "            </tr>\n",
              "            <tr>\n",
              "                        <th id=\"T_c51858fc_51a1_11ec_b45e_0242ac1c0002level0_row2\" class=\"row_heading level0 row2\" >Arkansas</th>\n",
              "                        <td id=\"T_c51858fc_51a1_11ec_b45e_0242ac1c0002row2_col0\" class=\"data row2 col0\" >0.976114</td>\n",
              "            </tr>\n",
              "            <tr>\n",
              "                        <th id=\"T_c51858fc_51a1_11ec_b45e_0242ac1c0002level0_row3\" class=\"row_heading level0 row3\" >California</th>\n",
              "                        <td id=\"T_c51858fc_51a1_11ec_b45e_0242ac1c0002row3_col0\" class=\"data row3 col0\" >0.771532</td>\n",
              "            </tr>\n",
              "            <tr>\n",
              "                        <th id=\"T_c51858fc_51a1_11ec_b45e_0242ac1c0002level0_row4\" class=\"row_heading level0 row4\" >Colorado</th>\n",
              "                        <td id=\"T_c51858fc_51a1_11ec_b45e_0242ac1c0002row4_col0\" class=\"data row4 col0\" >0.777116</td>\n",
              "            </tr>\n",
              "            <tr>\n",
              "                        <th id=\"T_c51858fc_51a1_11ec_b45e_0242ac1c0002level0_row5\" class=\"row_heading level0 row5\" >Connecticut</th>\n",
              "                        <td id=\"T_c51858fc_51a1_11ec_b45e_0242ac1c0002row5_col0\" class=\"data row5 col0\" >0.884351</td>\n",
              "            </tr>\n",
              "            <tr>\n",
              "                        <th id=\"T_c51858fc_51a1_11ec_b45e_0242ac1c0002level0_row6\" class=\"row_heading level0 row6\" >Delaware</th>\n",
              "                        <td id=\"T_c51858fc_51a1_11ec_b45e_0242ac1c0002row6_col0\" class=\"data row6 col0\" >0.923689</td>\n",
              "            </tr>\n",
              "            <tr>\n",
              "                        <th id=\"T_c51858fc_51a1_11ec_b45e_0242ac1c0002level0_row7\" class=\"row_heading level0 row7\" >District of Columbia</th>\n",
              "                        <td id=\"T_c51858fc_51a1_11ec_b45e_0242ac1c0002row7_col0\" class=\"data row7 col0\" >0.812698</td>\n",
              "            </tr>\n",
              "            <tr>\n",
              "                        <th id=\"T_c51858fc_51a1_11ec_b45e_0242ac1c0002level0_row8\" class=\"row_heading level0 row8\" >Florida</th>\n",
              "                        <td id=\"T_c51858fc_51a1_11ec_b45e_0242ac1c0002row8_col0\" class=\"data row8 col0\" >0.983827</td>\n",
              "            </tr>\n",
              "            <tr>\n",
              "                        <th id=\"T_c51858fc_51a1_11ec_b45e_0242ac1c0002level0_row9\" class=\"row_heading level0 row9\" >Georgia</th>\n",
              "                        <td id=\"T_c51858fc_51a1_11ec_b45e_0242ac1c0002row9_col0\" class=\"data row9 col0\" >0.805652</td>\n",
              "            </tr>\n",
              "            <tr>\n",
              "                        <th id=\"T_c51858fc_51a1_11ec_b45e_0242ac1c0002level0_row10\" class=\"row_heading level0 row10\" >Hawaii</th>\n",
              "                        <td id=\"T_c51858fc_51a1_11ec_b45e_0242ac1c0002row10_col0\" class=\"data row10 col0\" >0.811404</td>\n",
              "            </tr>\n",
              "            <tr>\n",
              "                        <th id=\"T_c51858fc_51a1_11ec_b45e_0242ac1c0002level0_row11\" class=\"row_heading level0 row11\" >Idaho</th>\n",
              "                        <td id=\"T_c51858fc_51a1_11ec_b45e_0242ac1c0002row11_col0\" class=\"data row11 col0\" >0.976934</td>\n",
              "            </tr>\n",
              "            <tr>\n",
              "                        <th id=\"T_c51858fc_51a1_11ec_b45e_0242ac1c0002level0_row12\" class=\"row_heading level0 row12\" >Illinois</th>\n",
              "                        <td id=\"T_c51858fc_51a1_11ec_b45e_0242ac1c0002row12_col0\" class=\"data row12 col0\" >0.992505</td>\n",
              "            </tr>\n",
              "            <tr>\n",
              "                        <th id=\"T_c51858fc_51a1_11ec_b45e_0242ac1c0002level0_row13\" class=\"row_heading level0 row13\" >Indiana</th>\n",
              "                        <td id=\"T_c51858fc_51a1_11ec_b45e_0242ac1c0002row13_col0\" class=\"data row13 col0\" >0.945258</td>\n",
              "            </tr>\n",
              "            <tr>\n",
              "                        <th id=\"T_c51858fc_51a1_11ec_b45e_0242ac1c0002level0_row14\" class=\"row_heading level0 row14\" >Iowa</th>\n",
              "                        <td id=\"T_c51858fc_51a1_11ec_b45e_0242ac1c0002row14_col0\" class=\"data row14 col0\" >0.731933</td>\n",
              "            </tr>\n",
              "            <tr>\n",
              "                        <th id=\"T_c51858fc_51a1_11ec_b45e_0242ac1c0002level0_row15\" class=\"row_heading level0 row15\" >Kansas</th>\n",
              "                        <td id=\"T_c51858fc_51a1_11ec_b45e_0242ac1c0002row15_col0\" class=\"data row15 col0\" >0.914650</td>\n",
              "            </tr>\n",
              "            <tr>\n",
              "                        <th id=\"T_c51858fc_51a1_11ec_b45e_0242ac1c0002level0_row16\" class=\"row_heading level0 row16\" >Kentucky</th>\n",
              "                        <td id=\"T_c51858fc_51a1_11ec_b45e_0242ac1c0002row16_col0\" class=\"data row16 col0\" >0.879001</td>\n",
              "            </tr>\n",
              "            <tr>\n",
              "                        <th id=\"T_c51858fc_51a1_11ec_b45e_0242ac1c0002level0_row17\" class=\"row_heading level0 row17\" >Louisiana</th>\n",
              "                        <td id=\"T_c51858fc_51a1_11ec_b45e_0242ac1c0002row17_col0\" class=\"data row17 col0\" >0.924180</td>\n",
              "            </tr>\n",
              "            <tr>\n",
              "                        <th id=\"T_c51858fc_51a1_11ec_b45e_0242ac1c0002level0_row18\" class=\"row_heading level0 row18\" >Maine</th>\n",
              "                        <td id=\"T_c51858fc_51a1_11ec_b45e_0242ac1c0002row18_col0\" class=\"data row18 col0\" >0.880618</td>\n",
              "            </tr>\n",
              "            <tr>\n",
              "                        <th id=\"T_c51858fc_51a1_11ec_b45e_0242ac1c0002level0_row19\" class=\"row_heading level0 row19\" >Maryland</th>\n",
              "                        <td id=\"T_c51858fc_51a1_11ec_b45e_0242ac1c0002row19_col0\" class=\"data row19 col0\" >0.890235</td>\n",
              "            </tr>\n",
              "            <tr>\n",
              "                        <th id=\"T_c51858fc_51a1_11ec_b45e_0242ac1c0002level0_row20\" class=\"row_heading level0 row20\" >Massachusetts</th>\n",
              "                        <td id=\"T_c51858fc_51a1_11ec_b45e_0242ac1c0002row20_col0\" class=\"data row20 col0\" >0.929356</td>\n",
              "            </tr>\n",
              "            <tr>\n",
              "                        <th id=\"T_c51858fc_51a1_11ec_b45e_0242ac1c0002level0_row21\" class=\"row_heading level0 row21\" >Michigan</th>\n",
              "                        <td id=\"T_c51858fc_51a1_11ec_b45e_0242ac1c0002row21_col0\" class=\"data row21 col0\" >1.000000</td>\n",
              "            </tr>\n",
              "            <tr>\n",
              "                        <th id=\"T_c51858fc_51a1_11ec_b45e_0242ac1c0002level0_row22\" class=\"row_heading level0 row22\" >Minnesota</th>\n",
              "                        <td id=\"T_c51858fc_51a1_11ec_b45e_0242ac1c0002row22_col0\" class=\"data row22 col0\" >0.718670</td>\n",
              "            </tr>\n",
              "            <tr>\n",
              "                        <th id=\"T_c51858fc_51a1_11ec_b45e_0242ac1c0002level0_row23\" class=\"row_heading level0 row23\" >Mississippi</th>\n",
              "                        <td id=\"T_c51858fc_51a1_11ec_b45e_0242ac1c0002row23_col0\" class=\"data row23 col0\" >0.984731</td>\n",
              "            </tr>\n",
              "            <tr>\n",
              "                        <th id=\"T_c51858fc_51a1_11ec_b45e_0242ac1c0002level0_row24\" class=\"row_heading level0 row24\" >Missouri</th>\n",
              "                        <td id=\"T_c51858fc_51a1_11ec_b45e_0242ac1c0002row24_col0\" class=\"data row24 col0\" >0.987534</td>\n",
              "            </tr>\n",
              "            <tr>\n",
              "                        <th id=\"T_c51858fc_51a1_11ec_b45e_0242ac1c0002level0_row25\" class=\"row_heading level0 row25\" >Nevada</th>\n",
              "                        <td id=\"T_c51858fc_51a1_11ec_b45e_0242ac1c0002row25_col0\" class=\"data row25 col0\" >0.795616</td>\n",
              "            </tr>\n",
              "            <tr>\n",
              "                        <th id=\"T_c51858fc_51a1_11ec_b45e_0242ac1c0002level0_row26\" class=\"row_heading level0 row26\" >New Hampshire</th>\n",
              "                        <td id=\"T_c51858fc_51a1_11ec_b45e_0242ac1c0002row26_col0\" class=\"data row26 col0\" >0.935763</td>\n",
              "            </tr>\n",
              "            <tr>\n",
              "                        <th id=\"T_c51858fc_51a1_11ec_b45e_0242ac1c0002level0_row27\" class=\"row_heading level0 row27\" >New Jersey</th>\n",
              "                        <td id=\"T_c51858fc_51a1_11ec_b45e_0242ac1c0002row27_col0\" class=\"data row27 col0\" >0.983554</td>\n",
              "            </tr>\n",
              "            <tr>\n",
              "                        <th id=\"T_c51858fc_51a1_11ec_b45e_0242ac1c0002level0_row28\" class=\"row_heading level0 row28\" >New York</th>\n",
              "                        <td id=\"T_c51858fc_51a1_11ec_b45e_0242ac1c0002row28_col0\" class=\"data row28 col0\" >0.986936</td>\n",
              "            </tr>\n",
              "            <tr>\n",
              "                        <th id=\"T_c51858fc_51a1_11ec_b45e_0242ac1c0002level0_row29\" class=\"row_heading level0 row29\" >North Carolina</th>\n",
              "                        <td id=\"T_c51858fc_51a1_11ec_b45e_0242ac1c0002row29_col0\" class=\"data row29 col0\" >0.983034</td>\n",
              "            </tr>\n",
              "            <tr>\n",
              "                        <th id=\"T_c51858fc_51a1_11ec_b45e_0242ac1c0002level0_row30\" class=\"row_heading level0 row30\" >North Dakota</th>\n",
              "                        <td id=\"T_c51858fc_51a1_11ec_b45e_0242ac1c0002row30_col0\" class=\"data row30 col0\" >0.983893</td>\n",
              "            </tr>\n",
              "            <tr>\n",
              "                        <th id=\"T_c51858fc_51a1_11ec_b45e_0242ac1c0002level0_row31\" class=\"row_heading level0 row31\" >Ohio</th>\n",
              "                        <td id=\"T_c51858fc_51a1_11ec_b45e_0242ac1c0002row31_col0\" class=\"data row31 col0\" >0.942595</td>\n",
              "            </tr>\n",
              "            <tr>\n",
              "                        <th id=\"T_c51858fc_51a1_11ec_b45e_0242ac1c0002level0_row32\" class=\"row_heading level0 row32\" >Oklahoma</th>\n",
              "                        <td id=\"T_c51858fc_51a1_11ec_b45e_0242ac1c0002row32_col0\" class=\"data row32 col0\" >0.868724</td>\n",
              "            </tr>\n",
              "            <tr>\n",
              "                        <th id=\"T_c51858fc_51a1_11ec_b45e_0242ac1c0002level0_row33\" class=\"row_heading level0 row33\" >Oregon</th>\n",
              "                        <td id=\"T_c51858fc_51a1_11ec_b45e_0242ac1c0002row33_col0\" class=\"data row33 col0\" >0.925315</td>\n",
              "            </tr>\n",
              "            <tr>\n",
              "                        <th id=\"T_c51858fc_51a1_11ec_b45e_0242ac1c0002level0_row34\" class=\"row_heading level0 row34\" >Pennsylvania</th>\n",
              "                        <td id=\"T_c51858fc_51a1_11ec_b45e_0242ac1c0002row34_col0\" class=\"data row34 col0\" >0.914616</td>\n",
              "            </tr>\n",
              "            <tr>\n",
              "                        <th id=\"T_c51858fc_51a1_11ec_b45e_0242ac1c0002level0_row35\" class=\"row_heading level0 row35\" >South Carolina</th>\n",
              "                        <td id=\"T_c51858fc_51a1_11ec_b45e_0242ac1c0002row35_col0\" class=\"data row35 col0\" >0.969357</td>\n",
              "            </tr>\n",
              "            <tr>\n",
              "                        <th id=\"T_c51858fc_51a1_11ec_b45e_0242ac1c0002level0_row36\" class=\"row_heading level0 row36\" >Tennessee</th>\n",
              "                        <td id=\"T_c51858fc_51a1_11ec_b45e_0242ac1c0002row36_col0\" class=\"data row36 col0\" >0.971367</td>\n",
              "            </tr>\n",
              "            <tr>\n",
              "                        <th id=\"T_c51858fc_51a1_11ec_b45e_0242ac1c0002level0_row37\" class=\"row_heading level0 row37\" >Texas</th>\n",
              "                        <td id=\"T_c51858fc_51a1_11ec_b45e_0242ac1c0002row37_col0\" class=\"data row37 col0\" >0.961280</td>\n",
              "            </tr>\n",
              "            <tr>\n",
              "                        <th id=\"T_c51858fc_51a1_11ec_b45e_0242ac1c0002level0_row38\" class=\"row_heading level0 row38\" >Utah</th>\n",
              "                        <td id=\"T_c51858fc_51a1_11ec_b45e_0242ac1c0002row38_col0\" class=\"data row38 col0\" >0.974725</td>\n",
              "            </tr>\n",
              "            <tr>\n",
              "                        <th id=\"T_c51858fc_51a1_11ec_b45e_0242ac1c0002level0_row39\" class=\"row_heading level0 row39\" >Virginia</th>\n",
              "                        <td id=\"T_c51858fc_51a1_11ec_b45e_0242ac1c0002row39_col0\" class=\"data row39 col0\" >0.794405</td>\n",
              "            </tr>\n",
              "            <tr>\n",
              "                        <th id=\"T_c51858fc_51a1_11ec_b45e_0242ac1c0002level0_row40\" class=\"row_heading level0 row40\" >West Virginia</th>\n",
              "                        <td id=\"T_c51858fc_51a1_11ec_b45e_0242ac1c0002row40_col0\" class=\"data row40 col0\" >0.811539</td>\n",
              "            </tr>\n",
              "            <tr>\n",
              "                        <th id=\"T_c51858fc_51a1_11ec_b45e_0242ac1c0002level0_row41\" class=\"row_heading level0 row41\" >Wisconsin</th>\n",
              "                        <td id=\"T_c51858fc_51a1_11ec_b45e_0242ac1c0002row41_col0\" class=\"data row41 col0\" >0.974569</td>\n",
              "            </tr>\n",
              "            <tr>\n",
              "                        <th id=\"T_c51858fc_51a1_11ec_b45e_0242ac1c0002level0_row42\" class=\"row_heading level0 row42\" >Wyoming</th>\n",
              "                        <td id=\"T_c51858fc_51a1_11ec_b45e_0242ac1c0002row42_col0\" class=\"data row42 col0\" >0.912449</td>\n",
              "            </tr>\n",
              "    </tbody></table>"
            ],
            "text/plain": [
              "<pandas.io.formats.style.Styler at 0x7f105c71c250>"
            ]
          },
          "metadata": {},
          "execution_count": 79
        }
      ]
    },
    {
      "cell_type": "code",
      "metadata": {
        "id": "oo-zDcFXUSfO"
      },
      "source": [
        "maskmandate=maskmandate[(maskmandate.State.isin(mi.index))]#&(maskmandate.End_date>enddate)]"
      ],
      "execution_count": null,
      "outputs": []
    },
    {
      "cell_type": "code",
      "metadata": {
        "colab": {
          "base_uri": "https://localhost:8080/"
        },
        "id": "pTO4cRviDrv-",
        "outputId": "1070408c-d21d-4ebf-94ed-e6e5d2612293"
      },
      "source": [
        "set(list(maskmandate.State))"
      ],
      "execution_count": null,
      "outputs": [
        {
          "output_type": "execute_result",
          "data": {
            "text/plain": [
              "{'Alaska',\n",
              " 'Arizona',\n",
              " 'Arkansas',\n",
              " 'California',\n",
              " 'Colorado',\n",
              " 'Connecticut',\n",
              " 'Delaware',\n",
              " 'Florida',\n",
              " 'Georgia',\n",
              " 'Hawaii',\n",
              " 'Idaho',\n",
              " 'Illinois',\n",
              " 'Indiana',\n",
              " 'Iowa',\n",
              " 'Kansas',\n",
              " 'Kentucky',\n",
              " 'Louisiana',\n",
              " 'Maine',\n",
              " 'Maryland',\n",
              " 'Massachusetts',\n",
              " 'Michigan',\n",
              " 'Minnesota',\n",
              " 'Mississippi',\n",
              " 'Missouri',\n",
              " 'Nevada',\n",
              " 'New Hampshire',\n",
              " 'New Jersey',\n",
              " 'New York',\n",
              " 'North Carolina',\n",
              " 'North Dakota',\n",
              " 'Ohio',\n",
              " 'Oklahoma',\n",
              " 'Oregon',\n",
              " 'Pennsylvania',\n",
              " 'South Carolina',\n",
              " 'Tennessee',\n",
              " 'Texas',\n",
              " 'Utah',\n",
              " 'Virginia',\n",
              " 'West Virginia',\n",
              " 'Wisconsin',\n",
              " 'Wyoming'}"
            ]
          },
          "metadata": {},
          "execution_count": 81
        }
      ]
    },
    {
      "cell_type": "code",
      "metadata": {
        "id": "dlM7jCgbXJtH"
      },
      "source": [
        "# import plotly.graph_objects as go\n",
        "\n",
        "# # Create traces\n",
        "# fig = go.Figure()\n",
        "# fig.add_trace(go.Scatter(x=dfpivot.index, y=dfpivot.Michigan,\n",
        "#                     mode='lines',\n",
        "#                     name='Michigan'))\n",
        "# fig.add_trace(go.Scatter(x=dfpivot.index, y=dfpivot[\"New York\"],\n",
        "#                     mode='lines',\n",
        "#                     name='New York'))\n",
        "# fig.add_trace(go.Scatter(x=dfpivot.index, y=dfpivot[\"Nebraska\"],\n",
        "#                     mode='lines',\n",
        "#                     name='Nebraska'))\n",
        "# fig.add_trace(go.Scatter(x=dfpivot.index, y=dfpivot[\"Idaho\"],\n",
        "#                     mode='lines',\n",
        "#                     name='Idaho'))\n",
        "# fig.add_vrect(x0=\"2021-6-14\", x1=\"2021-8-30\",\n",
        "#               fillcolor=\"green\", opacity=0.25, line_width=0)\n",
        "# fig.update_layout(\n",
        "#     legend=dict(\n",
        "#         x=0,\n",
        "#         y=1),\n",
        "#     autosize=False,\n",
        "#     width=800,\n",
        "#     height=500)\n",
        "# fig.show()"
      ],
      "execution_count": null,
      "outputs": []
    },
    {
      "cell_type": "code",
      "metadata": {
        "id": "0Hg_AZlrXJtI"
      },
      "source": [
        "\n",
        "final_series = dfpivot[[ 'Michigan','Alaska',\n",
        " 'Arizona',\n",
        " 'Arkansas',\n",
        " 'California',\n",
        " 'Colorado',\n",
        " 'Connecticut',\n",
        " 'Delaware',\n",
        " 'Florida',\n",
        " 'Georgia',\n",
        " 'Hawaii',\n",
        " 'Idaho',\n",
        " 'Illinois',\n",
        " 'Indiana',\n",
        " 'Iowa',\n",
        " 'Kansas',\n",
        " 'Kentucky',\n",
        " 'Louisiana',\n",
        " 'Maine',\n",
        " 'Maryland',\n",
        " 'Massachusetts',\n",
        " 'Minnesota',\n",
        " 'Mississippi',\n",
        " 'Missouri',\n",
        " 'Nevada',\n",
        " 'New Hampshire',\n",
        " 'New Jersey',\n",
        " 'New York',\n",
        " 'North Carolina',\n",
        " 'North Dakota',\n",
        " 'Ohio',\n",
        " 'Oklahoma',\n",
        " 'Oregon',\n",
        " 'Pennsylvania',\n",
        " 'South Carolina',\n",
        " 'Tennessee',\n",
        " 'Texas',\n",
        " 'Utah',\n",
        " 'Virginia',\n",
        " 'West Virginia',\n",
        " 'Wisconsin',\n",
        " 'Wyoming']]\n",
        "\n",
        "\n",
        "\n",
        "final_series.to_csv(\"Michigan.csv\")"
      ],
      "execution_count": null,
      "outputs": []
    },
    {
      "cell_type": "markdown",
      "metadata": {
        "id": "mkE-hfW-Tt51"
      },
      "source": [
        "# Illinois"
      ]
    },
    {
      "cell_type": "code",
      "metadata": {
        "id": "2lpnv1XHTuV6"
      },
      "source": [
        "import datetime\n",
        "from datetime import date\n",
        "from dateutil.relativedelta import relativedelta,MO"
      ],
      "execution_count": null,
      "outputs": []
    },
    {
      "cell_type": "code",
      "metadata": {
        "colab": {
          "base_uri": "https://localhost:8080/"
        },
        "id": "O1ifrfCMTuV6",
        "outputId": "40d06790-6a22-4341-cb8a-dc328f047ddf"
      },
      "source": [
        "dfpivot.Illinois.head(10)"
      ],
      "execution_count": null,
      "outputs": [
        {
          "output_type": "execute_result",
          "data": {
            "text/plain": [
              "time_value\n",
              "2020-01-27     0.007892\n",
              "2020-02-03     0.007892\n",
              "2020-02-10     0.000000\n",
              "2020-02-17     0.000000\n",
              "2020-02-24     0.000000\n",
              "2020-03-02     0.015889\n",
              "2020-03-09     0.023833\n",
              "2020-03-16     0.603772\n",
              "2020-03-23     9.549133\n",
              "2020-03-30    29.958220\n",
              "Name: Illinois, dtype: float64"
            ]
          },
          "metadata": {},
          "execution_count": 48
        }
      ]
    },
    {
      "cell_type": "code",
      "metadata": {
        "id": "eJwRBIGJTuV7"
      },
      "source": [
        "dfpivot_cor = dfpivot[(dfpivot.index >= \"2020-03-16\")&(dfpivot.index <= \"2021-06-21\")]\n",
        "#dfpivot_cor = dfpivot[(dfpivot.index > \"2020-5-4\")&(dfpivot.index < \"2021-6-30\")]#\n"
      ],
      "execution_count": null,
      "outputs": []
    },
    {
      "cell_type": "code",
      "metadata": {
        "colab": {
          "base_uri": "https://localhost:8080/"
        },
        "id": "vj5kN_GKTuV7",
        "outputId": "043a40a8-2c09-4555-8715-97201cb6e2a5"
      },
      "source": [
        "pd.to_datetime(\"2021-06-28\")+relativedelta(weeks=+8)"
      ],
      "execution_count": null,
      "outputs": [
        {
          "output_type": "execute_result",
          "data": {
            "text/plain": [
              "Timestamp('2021-08-23 00:00:00')"
            ]
          },
          "metadata": {},
          "execution_count": 51
        }
      ]
    },
    {
      "cell_type": "code",
      "metadata": {
        "colab": {
          "base_uri": "https://localhost:8080/"
        },
        "id": "jXlob29sTuV7",
        "outputId": "4a7bcbb1-d788-4c0e-b7f5-52663be016fe"
      },
      "source": [
        "print(dfpivot_cor.head(1))\n",
        "print(dfpivot_cor.tail(1))"
      ],
      "execution_count": null,
      "outputs": [
        {
          "output_type": "stream",
          "name": "stdout",
          "text": [
            "             Alabama    Alaska   Arizona  ...  West Virginia  Wisconsin   Wyoming\n",
            "time_value                                ...                                    \n",
            "2020-03-16  0.731479  0.138345  0.188644  ...            0.0   0.822953  0.343449\n",
            "\n",
            "[1 rows x 52 columns]\n",
            "              Alabama     Alaska  ...  Wisconsin    Wyoming\n",
            "time_value                        ...                      \n",
            "2021-06-21  23.163519  29.605855  ...   9.326799  68.002912\n",
            "\n",
            "[1 rows x 52 columns]\n"
          ]
        }
      ]
    },
    {
      "cell_type": "code",
      "metadata": {
        "colab": {
          "base_uri": "https://localhost:8080/"
        },
        "id": "tOQFfugjTuV7",
        "outputId": "01ca9b20-8bea-4c3b-af2f-0482acf35fc8"
      },
      "source": [
        "maskmandate = pd.read_csv(\"/Statewidemaskorders.csv\")\n",
        "maskmandate[['Start_date', 'End_date']] = maskmandate['Effective'].str.split(' - ', expand=True)\n",
        "maskmandate['Start_date']=pd.to_datetime(maskmandate['Start_date'])\n",
        "maskmandate.End_date[maskmandate.End_date == 'present'] = \"November 21, 2021\"\n",
        "maskmandate['End_date']=pd.to_datetime(maskmandate['End_date'])\n",
        "state_names=[\"Alabama\", \"Alaska\", \"Arizona\", \"Arkansas\", \"California\", \"Colorado\", \"Connecticut\", \n",
        "             \"Delaware\", \"Florida\", \"Georgia\", \"Hawaii\", \"Idaho\", \"Illinois\", \"Indiana\", \"Iowa\", \n",
        "             \"Kansas\", \"Kentucky\", \"Louisiana\", \"Maine\", \"Maryland\", \"Massachusetts\", \"Michigan\", \n",
        "             \"Minnesota\", \"Mississippi\", \"Missouri\", \"Montana\", \"Nebraska\", \"Nevada\", \"New Hampshire\", \n",
        "             \"New Jersey\", \"New Mexico\", \"New York\", \"North Carolina\", \"North Dakota\", \"Ohio\", \"Oklahoma\", \n",
        "             \"Oregon\", \"Pennsylvania\", \"Rhode Island\", \"South Carolina\", \"South Dakota\", \"Tennessee\", \"Texas\", \n",
        "             \"Utah\", \"Vermont\", \"Virginia\", \"Washington\", \"West Virginia\", \"Wisconsin\", \"Wyoming\"]\n",
        "nomandate = list(set(state_names) - set(maskmandate.State.values))\n",
        "nomandatedf = pd.DataFrame(data={'State':nomandate})\n",
        "maskmandate = maskmandate.append(nomandatedf)"
      ],
      "execution_count": null,
      "outputs": [
        {
          "output_type": "stream",
          "name": "stderr",
          "text": [
            "/usr/local/lib/python3.7/dist-packages/ipykernel_launcher.py:4: SettingWithCopyWarning: \n",
            "A value is trying to be set on a copy of a slice from a DataFrame\n",
            "\n",
            "See the caveats in the documentation: https://pandas.pydata.org/pandas-docs/stable/user_guide/indexing.html#returning-a-view-versus-a-copy\n",
            "  after removing the cwd from sys.path.\n"
          ]
        }
      ]
    },
    {
      "cell_type": "code",
      "metadata": {
        "colab": {
          "base_uri": "https://localhost:8080/",
          "height": 1000
        },
        "id": "zOPu0EsaTuV7",
        "outputId": "33da40f3-3f4c-41b1-a69f-511bd481196e"
      },
      "source": [
        "corr = dfpivot_cor.pct_change().dropna().corr()\n",
        "mi = pd.DataFrame(corr.Illinois)\n",
        "mi = mi[mi.Illinois>0.7]\n",
        "mi.style.background_gradient(cmap='coolwarm')"
      ],
      "execution_count": null,
      "outputs": [
        {
          "output_type": "execute_result",
          "data": {
            "text/html": [
              "<style  type=\"text/css\" >\n",
              "#T_6e844408_519f_11ec_b45e_0242ac1c0002row0_col0,#T_6e844408_519f_11ec_b45e_0242ac1c0002row41_col0{\n",
              "            background-color:  #d24b40;\n",
              "            color:  #f1f1f1;\n",
              "        }#T_6e844408_519f_11ec_b45e_0242ac1c0002row1_col0,#T_6e844408_519f_11ec_b45e_0242ac1c0002row38_col0{\n",
              "            background-color:  #d55042;\n",
              "            color:  #000000;\n",
              "        }#T_6e844408_519f_11ec_b45e_0242ac1c0002row2_col0{\n",
              "            background-color:  #cd423b;\n",
              "            color:  #f1f1f1;\n",
              "        }#T_6e844408_519f_11ec_b45e_0242ac1c0002row3_col0{\n",
              "            background-color:  #6a8bef;\n",
              "            color:  #000000;\n",
              "        }#T_6e844408_519f_11ec_b45e_0242ac1c0002row4_col0{\n",
              "            background-color:  #6687ed;\n",
              "            color:  #000000;\n",
              "        }#T_6e844408_519f_11ec_b45e_0242ac1c0002row5_col0{\n",
              "            background-color:  #e1dad6;\n",
              "            color:  #000000;\n",
              "        }#T_6e844408_519f_11ec_b45e_0242ac1c0002row6_col0{\n",
              "            background-color:  #f7ad90;\n",
              "            color:  #000000;\n",
              "        }#T_6e844408_519f_11ec_b45e_0242ac1c0002row7_col0{\n",
              "            background-color:  #9bbcff;\n",
              "            color:  #000000;\n",
              "        }#T_6e844408_519f_11ec_b45e_0242ac1c0002row8_col0{\n",
              "            background-color:  #d1493f;\n",
              "            color:  #f1f1f1;\n",
              "        }#T_6e844408_519f_11ec_b45e_0242ac1c0002row9_col0{\n",
              "            background-color:  #98b9ff;\n",
              "            color:  #000000;\n",
              "        }#T_6e844408_519f_11ec_b45e_0242ac1c0002row10_col0{\n",
              "            background-color:  #8badfd;\n",
              "            color:  #000000;\n",
              "        }#T_6e844408_519f_11ec_b45e_0242ac1c0002row11_col0{\n",
              "            background-color:  #e26952;\n",
              "            color:  #000000;\n",
              "        }#T_6e844408_519f_11ec_b45e_0242ac1c0002row12_col0{\n",
              "            background-color:  #b40426;\n",
              "            color:  #f1f1f1;\n",
              "        }#T_6e844408_519f_11ec_b45e_0242ac1c0002row13_col0{\n",
              "            background-color:  #f29072;\n",
              "            color:  #000000;\n",
              "        }#T_6e844408_519f_11ec_b45e_0242ac1c0002row14_col0{\n",
              "            background-color:  #3b4cc0;\n",
              "            color:  #f1f1f1;\n",
              "        }#T_6e844408_519f_11ec_b45e_0242ac1c0002row15_col0{\n",
              "            background-color:  #f7b396;\n",
              "            color:  #000000;\n",
              "        }#T_6e844408_519f_11ec_b45e_0242ac1c0002row16_col0{\n",
              "            background-color:  #e7d7ce;\n",
              "            color:  #000000;\n",
              "        }#T_6e844408_519f_11ec_b45e_0242ac1c0002row17_col0{\n",
              "            background-color:  #f7aa8c;\n",
              "            color:  #000000;\n",
              "        }#T_6e844408_519f_11ec_b45e_0242ac1c0002row18_col0{\n",
              "            background-color:  #e8d6cc;\n",
              "            color:  #000000;\n",
              "        }#T_6e844408_519f_11ec_b45e_0242ac1c0002row19_col0{\n",
              "            background-color:  #efcebd;\n",
              "            color:  #000000;\n",
              "        }#T_6e844408_519f_11ec_b45e_0242ac1c0002row20_col0{\n",
              "            background-color:  #f4987a;\n",
              "            color:  #000000;\n",
              "        }#T_6e844408_519f_11ec_b45e_0242ac1c0002row21_col0{\n",
              "            background-color:  #be242e;\n",
              "            color:  #f1f1f1;\n",
              "        }#T_6e844408_519f_11ec_b45e_0242ac1c0002row22_col0{\n",
              "            background-color:  #3f53c6;\n",
              "            color:  #f1f1f1;\n",
              "        }#T_6e844408_519f_11ec_b45e_0242ac1c0002row23_col0,#T_6e844408_519f_11ec_b45e_0242ac1c0002row24_col0,#T_6e844408_519f_11ec_b45e_0242ac1c0002row28_col0,#T_6e844408_519f_11ec_b45e_0242ac1c0002row30_col0{\n",
              "            background-color:  #c43032;\n",
              "            color:  #f1f1f1;\n",
              "        }#T_6e844408_519f_11ec_b45e_0242ac1c0002row25_col0{\n",
              "            background-color:  #6f92f3;\n",
              "            color:  #000000;\n",
              "        }#T_6e844408_519f_11ec_b45e_0242ac1c0002row26_col0{\n",
              "            background-color:  #f39778;\n",
              "            color:  #000000;\n",
              "        }#T_6e844408_519f_11ec_b45e_0242ac1c0002row27_col0{\n",
              "            background-color:  #cf453c;\n",
              "            color:  #f1f1f1;\n",
              "        }#T_6e844408_519f_11ec_b45e_0242ac1c0002row29_col0{\n",
              "            background-color:  #c73635;\n",
              "            color:  #f1f1f1;\n",
              "        }#T_6e844408_519f_11ec_b45e_0242ac1c0002row31_col0{\n",
              "            background-color:  #f39475;\n",
              "            color:  #000000;\n",
              "        }#T_6e844408_519f_11ec_b45e_0242ac1c0002row32_col0{\n",
              "            background-color:  #cfdaea;\n",
              "            color:  #000000;\n",
              "        }#T_6e844408_519f_11ec_b45e_0242ac1c0002row33_col0{\n",
              "            background-color:  #f7af91;\n",
              "            color:  #000000;\n",
              "        }#T_6e844408_519f_11ec_b45e_0242ac1c0002row34_col0{\n",
              "            background-color:  #f6bea4;\n",
              "            color:  #000000;\n",
              "        }#T_6e844408_519f_11ec_b45e_0242ac1c0002row35_col0{\n",
              "            background-color:  #dc5d4a;\n",
              "            color:  #000000;\n",
              "        }#T_6e844408_519f_11ec_b45e_0242ac1c0002row36_col0{\n",
              "            background-color:  #d44e41;\n",
              "            color:  #000000;\n",
              "        }#T_6e844408_519f_11ec_b45e_0242ac1c0002row37_col0{\n",
              "            background-color:  #e9785d;\n",
              "            color:  #000000;\n",
              "        }#T_6e844408_519f_11ec_b45e_0242ac1c0002row39_col0{\n",
              "            background-color:  #86a9fc;\n",
              "            color:  #000000;\n",
              "        }#T_6e844408_519f_11ec_b45e_0242ac1c0002row40_col0{\n",
              "            background-color:  #4c66d6;\n",
              "            color:  #000000;\n",
              "        }#T_6e844408_519f_11ec_b45e_0242ac1c0002row42_col0{\n",
              "            background-color:  #f7b194;\n",
              "            color:  #000000;\n",
              "        }</style><table id=\"T_6e844408_519f_11ec_b45e_0242ac1c0002\" class=\"dataframe\"><thead>    <tr>        <th class=\"blank level0\" ></th>        <th class=\"col_heading level0 col0\" >Illinois</th>    </tr></thead><tbody>\n",
              "                <tr>\n",
              "                        <th id=\"T_6e844408_519f_11ec_b45e_0242ac1c0002level0_row0\" class=\"row_heading level0 row0\" >Alaska</th>\n",
              "                        <td id=\"T_6e844408_519f_11ec_b45e_0242ac1c0002row0_col0\" class=\"data row0 col0\" >0.976586</td>\n",
              "            </tr>\n",
              "            <tr>\n",
              "                        <th id=\"T_6e844408_519f_11ec_b45e_0242ac1c0002level0_row1\" class=\"row_heading level0 row1\" >Arizona</th>\n",
              "                        <td id=\"T_6e844408_519f_11ec_b45e_0242ac1c0002row1_col0\" class=\"data row1 col0\" >0.974488</td>\n",
              "            </tr>\n",
              "            <tr>\n",
              "                        <th id=\"T_6e844408_519f_11ec_b45e_0242ac1c0002level0_row2\" class=\"row_heading level0 row2\" >Arkansas</th>\n",
              "                        <td id=\"T_6e844408_519f_11ec_b45e_0242ac1c0002row2_col0\" class=\"data row2 col0\" >0.980631</td>\n",
              "            </tr>\n",
              "            <tr>\n",
              "                        <th id=\"T_6e844408_519f_11ec_b45e_0242ac1c0002level0_row3\" class=\"row_heading level0 row3\" >California</th>\n",
              "                        <td id=\"T_6e844408_519f_11ec_b45e_0242ac1c0002row3_col0\" class=\"data row3 col0\" >0.776536</td>\n",
              "            </tr>\n",
              "            <tr>\n",
              "                        <th id=\"T_6e844408_519f_11ec_b45e_0242ac1c0002level0_row4\" class=\"row_heading level0 row4\" >Colorado</th>\n",
              "                        <td id=\"T_6e844408_519f_11ec_b45e_0242ac1c0002row4_col0\" class=\"data row4 col0\" >0.773740</td>\n",
              "            </tr>\n",
              "            <tr>\n",
              "                        <th id=\"T_6e844408_519f_11ec_b45e_0242ac1c0002level0_row5\" class=\"row_heading level0 row5\" >Connecticut</th>\n",
              "                        <td id=\"T_6e844408_519f_11ec_b45e_0242ac1c0002row5_col0\" class=\"data row5 col0\" >0.873439</td>\n",
              "            </tr>\n",
              "            <tr>\n",
              "                        <th id=\"T_6e844408_519f_11ec_b45e_0242ac1c0002level0_row6\" class=\"row_heading level0 row6\" >Delaware</th>\n",
              "                        <td id=\"T_6e844408_519f_11ec_b45e_0242ac1c0002row6_col0\" class=\"data row6 col0\" >0.920515</td>\n",
              "            </tr>\n",
              "            <tr>\n",
              "                        <th id=\"T_6e844408_519f_11ec_b45e_0242ac1c0002level0_row7\" class=\"row_heading level0 row7\" >District of Columbia</th>\n",
              "                        <td id=\"T_6e844408_519f_11ec_b45e_0242ac1c0002row7_col0\" class=\"data row7 col0\" >0.814403</td>\n",
              "            </tr>\n",
              "            <tr>\n",
              "                        <th id=\"T_6e844408_519f_11ec_b45e_0242ac1c0002level0_row8\" class=\"row_heading level0 row8\" >Florida</th>\n",
              "                        <td id=\"T_6e844408_519f_11ec_b45e_0242ac1c0002row8_col0\" class=\"data row8 col0\" >0.977666</td>\n",
              "            </tr>\n",
              "            <tr>\n",
              "                        <th id=\"T_6e844408_519f_11ec_b45e_0242ac1c0002level0_row9\" class=\"row_heading level0 row9\" >Georgia</th>\n",
              "                        <td id=\"T_6e844408_519f_11ec_b45e_0242ac1c0002row9_col0\" class=\"data row9 col0\" >0.812149</td>\n",
              "            </tr>\n",
              "            <tr>\n",
              "                        <th id=\"T_6e844408_519f_11ec_b45e_0242ac1c0002level0_row10\" class=\"row_heading level0 row10\" >Hawaii</th>\n",
              "                        <td id=\"T_6e844408_519f_11ec_b45e_0242ac1c0002row10_col0\" class=\"data row10 col0\" >0.801586</td>\n",
              "            </tr>\n",
              "            <tr>\n",
              "                        <th id=\"T_6e844408_519f_11ec_b45e_0242ac1c0002level0_row11\" class=\"row_heading level0 row11\" >Idaho</th>\n",
              "                        <td id=\"T_6e844408_519f_11ec_b45e_0242ac1c0002row11_col0\" class=\"data row11 col0\" >0.962181</td>\n",
              "            </tr>\n",
              "            <tr>\n",
              "                        <th id=\"T_6e844408_519f_11ec_b45e_0242ac1c0002level0_row12\" class=\"row_heading level0 row12\" >Illinois</th>\n",
              "                        <td id=\"T_6e844408_519f_11ec_b45e_0242ac1c0002row12_col0\" class=\"data row12 col0\" >1.000000</td>\n",
              "            </tr>\n",
              "            <tr>\n",
              "                        <th id=\"T_6e844408_519f_11ec_b45e_0242ac1c0002level0_row13\" class=\"row_heading level0 row13\" >Indiana</th>\n",
              "                        <td id=\"T_6e844408_519f_11ec_b45e_0242ac1c0002row13_col0\" class=\"data row13 col0\" >0.939674</td>\n",
              "            </tr>\n",
              "            <tr>\n",
              "                        <th id=\"T_6e844408_519f_11ec_b45e_0242ac1c0002level0_row14\" class=\"row_heading level0 row14\" >Iowa</th>\n",
              "                        <td id=\"T_6e844408_519f_11ec_b45e_0242ac1c0002row14_col0\" class=\"data row14 col0\" >0.737526</td>\n",
              "            </tr>\n",
              "            <tr>\n",
              "                        <th id=\"T_6e844408_519f_11ec_b45e_0242ac1c0002level0_row15\" class=\"row_heading level0 row15\" >Kansas</th>\n",
              "                        <td id=\"T_6e844408_519f_11ec_b45e_0242ac1c0002row15_col0\" class=\"data row15 col0\" >0.916715</td>\n",
              "            </tr>\n",
              "            <tr>\n",
              "                        <th id=\"T_6e844408_519f_11ec_b45e_0242ac1c0002level0_row16\" class=\"row_heading level0 row16\" >Kentucky</th>\n",
              "                        <td id=\"T_6e844408_519f_11ec_b45e_0242ac1c0002row16_col0\" class=\"data row16 col0\" >0.879133</td>\n",
              "            </tr>\n",
              "            <tr>\n",
              "                        <th id=\"T_6e844408_519f_11ec_b45e_0242ac1c0002level0_row17\" class=\"row_heading level0 row17\" >Louisiana</th>\n",
              "                        <td id=\"T_6e844408_519f_11ec_b45e_0242ac1c0002row17_col0\" class=\"data row17 col0\" >0.922274</td>\n",
              "            </tr>\n",
              "            <tr>\n",
              "                        <th id=\"T_6e844408_519f_11ec_b45e_0242ac1c0002level0_row18\" class=\"row_heading level0 row18\" >Maine</th>\n",
              "                        <td id=\"T_6e844408_519f_11ec_b45e_0242ac1c0002row18_col0\" class=\"data row18 col0\" >0.880942</td>\n",
              "            </tr>\n",
              "            <tr>\n",
              "                        <th id=\"T_6e844408_519f_11ec_b45e_0242ac1c0002level0_row19\" class=\"row_heading level0 row19\" >Maryland</th>\n",
              "                        <td id=\"T_6e844408_519f_11ec_b45e_0242ac1c0002row19_col0\" class=\"data row19 col0\" >0.891218</td>\n",
              "            </tr>\n",
              "            <tr>\n",
              "                        <th id=\"T_6e844408_519f_11ec_b45e_0242ac1c0002level0_row20\" class=\"row_heading level0 row20\" >Massachusetts</th>\n",
              "                        <td id=\"T_6e844408_519f_11ec_b45e_0242ac1c0002row20_col0\" class=\"data row20 col0\" >0.934788</td>\n",
              "            </tr>\n",
              "            <tr>\n",
              "                        <th id=\"T_6e844408_519f_11ec_b45e_0242ac1c0002level0_row21\" class=\"row_heading level0 row21\" >Michigan</th>\n",
              "                        <td id=\"T_6e844408_519f_11ec_b45e_0242ac1c0002row21_col0\" class=\"data row21 col0\" >0.992505</td>\n",
              "            </tr>\n",
              "            <tr>\n",
              "                        <th id=\"T_6e844408_519f_11ec_b45e_0242ac1c0002level0_row22\" class=\"row_heading level0 row22\" >Minnesota</th>\n",
              "                        <td id=\"T_6e844408_519f_11ec_b45e_0242ac1c0002row22_col0\" class=\"data row22 col0\" >0.742247</td>\n",
              "            </tr>\n",
              "            <tr>\n",
              "                        <th id=\"T_6e844408_519f_11ec_b45e_0242ac1c0002level0_row23\" class=\"row_heading level0 row23\" >Mississippi</th>\n",
              "                        <td id=\"T_6e844408_519f_11ec_b45e_0242ac1c0002row23_col0\" class=\"data row23 col0\" >0.988256</td>\n",
              "            </tr>\n",
              "            <tr>\n",
              "                        <th id=\"T_6e844408_519f_11ec_b45e_0242ac1c0002level0_row24\" class=\"row_heading level0 row24\" >Missouri</th>\n",
              "                        <td id=\"T_6e844408_519f_11ec_b45e_0242ac1c0002row24_col0\" class=\"data row24 col0\" >0.988274</td>\n",
              "            </tr>\n",
              "            <tr>\n",
              "                        <th id=\"T_6e844408_519f_11ec_b45e_0242ac1c0002level0_row25\" class=\"row_heading level0 row25\" >Nevada</th>\n",
              "                        <td id=\"T_6e844408_519f_11ec_b45e_0242ac1c0002row25_col0\" class=\"data row25 col0\" >0.781004</td>\n",
              "            </tr>\n",
              "            <tr>\n",
              "                        <th id=\"T_6e844408_519f_11ec_b45e_0242ac1c0002level0_row26\" class=\"row_heading level0 row26\" >New Hampshire</th>\n",
              "                        <td id=\"T_6e844408_519f_11ec_b45e_0242ac1c0002row26_col0\" class=\"data row26 col0\" >0.935840</td>\n",
              "            </tr>\n",
              "            <tr>\n",
              "                        <th id=\"T_6e844408_519f_11ec_b45e_0242ac1c0002level0_row27\" class=\"row_heading level0 row27\" >New Jersey</th>\n",
              "                        <td id=\"T_6e844408_519f_11ec_b45e_0242ac1c0002row27_col0\" class=\"data row27 col0\" >0.980304</td>\n",
              "            </tr>\n",
              "            <tr>\n",
              "                        <th id=\"T_6e844408_519f_11ec_b45e_0242ac1c0002level0_row28\" class=\"row_heading level0 row28\" >New York</th>\n",
              "                        <td id=\"T_6e844408_519f_11ec_b45e_0242ac1c0002row28_col0\" class=\"data row28 col0\" >0.987828</td>\n",
              "            </tr>\n",
              "            <tr>\n",
              "                        <th id=\"T_6e844408_519f_11ec_b45e_0242ac1c0002level0_row29\" class=\"row_heading level0 row29\" >North Carolina</th>\n",
              "                        <td id=\"T_6e844408_519f_11ec_b45e_0242ac1c0002row29_col0\" class=\"data row29 col0\" >0.985724</td>\n",
              "            </tr>\n",
              "            <tr>\n",
              "                        <th id=\"T_6e844408_519f_11ec_b45e_0242ac1c0002level0_row30\" class=\"row_heading level0 row30\" >North Dakota</th>\n",
              "                        <td id=\"T_6e844408_519f_11ec_b45e_0242ac1c0002row30_col0\" class=\"data row30 col0\" >0.987706</td>\n",
              "            </tr>\n",
              "            <tr>\n",
              "                        <th id=\"T_6e844408_519f_11ec_b45e_0242ac1c0002level0_row31\" class=\"row_heading level0 row31\" >Ohio</th>\n",
              "                        <td id=\"T_6e844408_519f_11ec_b45e_0242ac1c0002row31_col0\" class=\"data row31 col0\" >0.938453</td>\n",
              "            </tr>\n",
              "            <tr>\n",
              "                        <th id=\"T_6e844408_519f_11ec_b45e_0242ac1c0002level0_row32\" class=\"row_heading level0 row32\" >Oklahoma</th>\n",
              "                        <td id=\"T_6e844408_519f_11ec_b45e_0242ac1c0002row32_col0\" class=\"data row32 col0\" >0.855995</td>\n",
              "            </tr>\n",
              "            <tr>\n",
              "                        <th id=\"T_6e844408_519f_11ec_b45e_0242ac1c0002level0_row33\" class=\"row_heading level0 row33\" >Oregon</th>\n",
              "                        <td id=\"T_6e844408_519f_11ec_b45e_0242ac1c0002row33_col0\" class=\"data row33 col0\" >0.919782</td>\n",
              "            </tr>\n",
              "            <tr>\n",
              "                        <th id=\"T_6e844408_519f_11ec_b45e_0242ac1c0002level0_row34\" class=\"row_heading level0 row34\" >Pennsylvania</th>\n",
              "                        <td id=\"T_6e844408_519f_11ec_b45e_0242ac1c0002row34_col0\" class=\"data row34 col0\" >0.906777</td>\n",
              "            </tr>\n",
              "            <tr>\n",
              "                        <th id=\"T_6e844408_519f_11ec_b45e_0242ac1c0002level0_row35\" class=\"row_heading level0 row35\" >South Carolina</th>\n",
              "                        <td id=\"T_6e844408_519f_11ec_b45e_0242ac1c0002row35_col0\" class=\"data row35 col0\" >0.969024</td>\n",
              "            </tr>\n",
              "            <tr>\n",
              "                        <th id=\"T_6e844408_519f_11ec_b45e_0242ac1c0002level0_row36\" class=\"row_heading level0 row36\" >Tennessee</th>\n",
              "                        <td id=\"T_6e844408_519f_11ec_b45e_0242ac1c0002row36_col0\" class=\"data row36 col0\" >0.975452</td>\n",
              "            </tr>\n",
              "            <tr>\n",
              "                        <th id=\"T_6e844408_519f_11ec_b45e_0242ac1c0002level0_row37\" class=\"row_heading level0 row37\" >Texas</th>\n",
              "                        <td id=\"T_6e844408_519f_11ec_b45e_0242ac1c0002row37_col0\" class=\"data row37 col0\" >0.954024</td>\n",
              "            </tr>\n",
              "            <tr>\n",
              "                        <th id=\"T_6e844408_519f_11ec_b45e_0242ac1c0002level0_row38\" class=\"row_heading level0 row38\" >Utah</th>\n",
              "                        <td id=\"T_6e844408_519f_11ec_b45e_0242ac1c0002row38_col0\" class=\"data row38 col0\" >0.974545</td>\n",
              "            </tr>\n",
              "            <tr>\n",
              "                        <th id=\"T_6e844408_519f_11ec_b45e_0242ac1c0002level0_row39\" class=\"row_heading level0 row39\" >Virginia</th>\n",
              "                        <td id=\"T_6e844408_519f_11ec_b45e_0242ac1c0002row39_col0\" class=\"data row39 col0\" >0.798536</td>\n",
              "            </tr>\n",
              "            <tr>\n",
              "                        <th id=\"T_6e844408_519f_11ec_b45e_0242ac1c0002level0_row40\" class=\"row_heading level0 row40\" >West Virginia</th>\n",
              "                        <td id=\"T_6e844408_519f_11ec_b45e_0242ac1c0002row40_col0\" class=\"data row40 col0\" >0.753452</td>\n",
              "            </tr>\n",
              "            <tr>\n",
              "                        <th id=\"T_6e844408_519f_11ec_b45e_0242ac1c0002level0_row41\" class=\"row_heading level0 row41\" >Wisconsin</th>\n",
              "                        <td id=\"T_6e844408_519f_11ec_b45e_0242ac1c0002row41_col0\" class=\"data row41 col0\" >0.977386</td>\n",
              "            </tr>\n",
              "            <tr>\n",
              "                        <th id=\"T_6e844408_519f_11ec_b45e_0242ac1c0002level0_row42\" class=\"row_heading level0 row42\" >Wyoming</th>\n",
              "                        <td id=\"T_6e844408_519f_11ec_b45e_0242ac1c0002row42_col0\" class=\"data row42 col0\" >0.917448</td>\n",
              "            </tr>\n",
              "    </tbody></table>"
            ],
            "text/plain": [
              "<pandas.io.formats.style.Styler at 0x7f105c987890>"
            ]
          },
          "metadata": {},
          "execution_count": 54
        }
      ]
    },
    {
      "cell_type": "code",
      "metadata": {
        "id": "7HRLmXSwTuV7"
      },
      "source": [
        "maskmandate=maskmandate[(maskmandate.State.isin(mi.index))]#&(maskmandate.End_date>enddate)]"
      ],
      "execution_count": null,
      "outputs": []
    },
    {
      "cell_type": "code",
      "metadata": {
        "colab": {
          "base_uri": "https://localhost:8080/"
        },
        "id": "dbKFam9DTuV7",
        "outputId": "c20680b2-d8df-4d5b-f74a-f80743b7a9fe"
      },
      "source": [
        "set(list(maskmandate.State))"
      ],
      "execution_count": null,
      "outputs": [
        {
          "output_type": "execute_result",
          "data": {
            "text/plain": [
              "{'Alaska',\n",
              " 'Arizona',\n",
              " 'Arkansas',\n",
              " 'California',\n",
              " 'Colorado',\n",
              " 'Connecticut',\n",
              " 'Delaware',\n",
              " 'Florida',\n",
              " 'Georgia',\n",
              " 'Hawaii',\n",
              " 'Idaho',\n",
              " 'Illinois',\n",
              " 'Indiana',\n",
              " 'Iowa',\n",
              " 'Kansas',\n",
              " 'Kentucky',\n",
              " 'Louisiana',\n",
              " 'Maine',\n",
              " 'Maryland',\n",
              " 'Massachusetts',\n",
              " 'Michigan',\n",
              " 'Minnesota',\n",
              " 'Mississippi',\n",
              " 'Missouri',\n",
              " 'Nevada',\n",
              " 'New Hampshire',\n",
              " 'New Jersey',\n",
              " 'New York',\n",
              " 'North Carolina',\n",
              " 'North Dakota',\n",
              " 'Ohio',\n",
              " 'Oklahoma',\n",
              " 'Oregon',\n",
              " 'Pennsylvania',\n",
              " 'South Carolina',\n",
              " 'Tennessee',\n",
              " 'Texas',\n",
              " 'Utah',\n",
              " 'Virginia',\n",
              " 'West Virginia',\n",
              " 'Wisconsin',\n",
              " 'Wyoming'}"
            ]
          },
          "metadata": {},
          "execution_count": 57
        }
      ]
    },
    {
      "cell_type": "code",
      "metadata": {
        "id": "rheA2VztTuV9"
      },
      "source": [
        "# import plotly.graph_objects as go\n",
        "\n",
        "# # Create traces\n",
        "# fig = go.Figure()\n",
        "# fig.add_trace(go.Scatter(x=dfpivot.index, y=dfpivot.Michigan,\n",
        "#                     mode='lines',\n",
        "#                     name='Michigan'))\n",
        "# fig.add_trace(go.Scatter(x=dfpivot.index, y=dfpivot[\"New York\"],\n",
        "#                     mode='lines',\n",
        "#                     name='New York'))\n",
        "# fig.add_trace(go.Scatter(x=dfpivot.index, y=dfpivot[\"Nebraska\"],\n",
        "#                     mode='lines',\n",
        "#                     name='Nebraska'))\n",
        "# fig.add_trace(go.Scatter(x=dfpivot.index, y=dfpivot[\"Idaho\"],\n",
        "#                     mode='lines',\n",
        "#                     name='Idaho'))\n",
        "# fig.add_vrect(x0=\"2021-6-14\", x1=\"2021-8-30\",\n",
        "#               fillcolor=\"green\", opacity=0.25, line_width=0)\n",
        "# fig.update_layout(\n",
        "#     legend=dict(\n",
        "#         x=0,\n",
        "#         y=1),\n",
        "#     autosize=False,\n",
        "#     width=800,\n",
        "#     height=500)\n",
        "# fig.show()"
      ],
      "execution_count": null,
      "outputs": []
    },
    {
      "cell_type": "code",
      "metadata": {
        "id": "1hyj1CNbTuV9"
      },
      "source": [
        "final_series = dfpivot[['Illinois','Alaska',\n",
        " 'Arizona',\n",
        " 'Arkansas',\n",
        " 'California',\n",
        " 'Colorado',\n",
        " 'Connecticut',\n",
        " 'Delaware',\n",
        " 'Florida',\n",
        " 'Georgia',\n",
        " 'Hawaii',\n",
        " 'Idaho',\n",
        " 'Indiana',\n",
        " 'Iowa',\n",
        " 'Kansas',\n",
        " 'Kentucky',\n",
        " 'Louisiana',\n",
        " 'Maine',\n",
        " 'Maryland',\n",
        " 'Massachusetts',\n",
        " 'Michigan',\n",
        " 'Minnesota',\n",
        " 'Mississippi',\n",
        " 'Missouri',\n",
        " 'Nevada',\n",
        " 'New Hampshire',\n",
        " 'New Jersey',\n",
        " 'New York',\n",
        " 'North Carolina',\n",
        " 'North Dakota',\n",
        " 'Ohio',\n",
        " 'Oklahoma',\n",
        " 'Oregon',\n",
        " 'Pennsylvania',\n",
        " 'South Carolina',\n",
        " 'Tennessee',\n",
        " 'Texas',\n",
        " 'Utah',\n",
        " 'Virginia',\n",
        " 'West Virginia',\n",
        " 'Wisconsin',\n",
        " 'Wyoming']]\n",
        "\n",
        "\n",
        "\n",
        "final_series.to_csv(\"Illinois.csv\")"
      ],
      "execution_count": null,
      "outputs": []
    },
    {
      "cell_type": "code",
      "metadata": {
        "id": "SpG470AmWOVH"
      },
      "source": [
        ""
      ],
      "execution_count": null,
      "outputs": []
    },
    {
      "cell_type": "markdown",
      "metadata": {
        "id": "s3UyufJsWOZP"
      },
      "source": [
        "# Illinois reissue"
      ]
    },
    {
      "cell_type": "code",
      "metadata": {
        "id": "9Z0NZo2KWOZQ"
      },
      "source": [
        "import datetime\n",
        "from datetime import date\n",
        "from dateutil.relativedelta import relativedelta,MO"
      ],
      "execution_count": null,
      "outputs": []
    },
    {
      "cell_type": "code",
      "metadata": {
        "colab": {
          "base_uri": "https://localhost:8080/"
        },
        "id": "4xXqERqHWOZQ",
        "outputId": "d0b84732-9cc2-496a-de9e-5289bbc43650"
      },
      "source": [
        "dfpivot.Illinois.head(10)"
      ],
      "execution_count": null,
      "outputs": [
        {
          "output_type": "execute_result",
          "data": {
            "text/plain": [
              "time_value\n",
              "2020-01-27     0.007892\n",
              "2020-02-03     0.007892\n",
              "2020-02-10     0.000000\n",
              "2020-02-17     0.000000\n",
              "2020-02-24     0.000000\n",
              "2020-03-02     0.015889\n",
              "2020-03-09     0.023833\n",
              "2020-03-16     0.603772\n",
              "2020-03-23     9.549133\n",
              "2020-03-30    29.958220\n",
              "Name: Illinois, dtype: float64"
            ]
          },
          "metadata": {},
          "execution_count": 92
        }
      ]
    },
    {
      "cell_type": "code",
      "metadata": {
        "id": "YRT1BYzeWOZQ"
      },
      "source": [
        "dfpivot_cor = dfpivot[(dfpivot.index >= \"2020-03-16\")&(dfpivot.index <= \"2021-09-06\")]\n",
        "#dfpivot_cor = dfpivot[(dfpivot.index > \"2020-5-4\")&(dfpivot.index < \"2021-6-30\")]#\n"
      ],
      "execution_count": null,
      "outputs": []
    },
    {
      "cell_type": "code",
      "metadata": {
        "colab": {
          "base_uri": "https://localhost:8080/"
        },
        "id": "-MKfSWojWOZQ",
        "outputId": "39184bfe-7550-4be4-a771-0a7874cba36c"
      },
      "source": [
        "pd.to_datetime(\"2021-09-13\")+relativedelta(weeks=+8)"
      ],
      "execution_count": null,
      "outputs": [
        {
          "output_type": "execute_result",
          "data": {
            "text/plain": [
              "Timestamp('2021-11-08 00:00:00')"
            ]
          },
          "metadata": {},
          "execution_count": 94
        }
      ]
    },
    {
      "cell_type": "code",
      "metadata": {
        "colab": {
          "base_uri": "https://localhost:8080/"
        },
        "id": "mWoYgP7xWOZQ",
        "outputId": "ce7bf660-e526-441e-9301-41f1f1b5a43d"
      },
      "source": [
        "print(dfpivot_cor.head(1))\n",
        "print(dfpivot_cor.tail(1))"
      ],
      "execution_count": null,
      "outputs": [
        {
          "output_type": "stream",
          "name": "stdout",
          "text": [
            "             Alabama    Alaska   Arizona  ...  West Virginia  Wisconsin   Wyoming\n",
            "time_value                                ...                                    \n",
            "2020-03-16  0.731479  0.138345  0.188644  ...            0.0   0.822953  0.343449\n",
            "\n",
            "[1 rows x 52 columns]\n",
            "               Alabama      Alaska  ...   Wisconsin    Wyoming\n",
            "time_value                          ...                       \n",
            "2021-09-06  612.918904  374.638573  ...  245.137077  420.72509\n",
            "\n",
            "[1 rows x 52 columns]\n"
          ]
        }
      ]
    },
    {
      "cell_type": "code",
      "metadata": {
        "colab": {
          "base_uri": "https://localhost:8080/"
        },
        "id": "O9nyFst6WOZQ",
        "outputId": "06e0ae27-f5ea-4cc0-fd7f-44f8695f5e39"
      },
      "source": [
        "maskmandate = pd.read_csv(\"/Statewidemaskorders.csv\")\n",
        "maskmandate[['Start_date', 'End_date']] = maskmandate['Effective'].str.split(' - ', expand=True)\n",
        "maskmandate['Start_date']=pd.to_datetime(maskmandate['Start_date'])\n",
        "maskmandate.End_date[maskmandate.End_date == 'present'] = \"November 21, 2021\"\n",
        "maskmandate['End_date']=pd.to_datetime(maskmandate['End_date'])\n",
        "state_names=[\"Alabama\", \"Alaska\", \"Arizona\", \"Arkansas\", \"California\", \"Colorado\", \"Connecticut\", \n",
        "             \"Delaware\", \"Florida\", \"Georgia\", \"Hawaii\", \"Idaho\", \"Illinois\", \"Indiana\", \"Iowa\", \n",
        "             \"Kansas\", \"Kentucky\", \"Louisiana\", \"Maine\", \"Maryland\", \"Massachusetts\", \"Michigan\", \n",
        "             \"Minnesota\", \"Mississippi\", \"Missouri\", \"Montana\", \"Nebraska\", \"Nevada\", \"New Hampshire\", \n",
        "             \"New Jersey\", \"New Mexico\", \"New York\", \"North Carolina\", \"North Dakota\", \"Ohio\", \"Oklahoma\", \n",
        "             \"Oregon\", \"Pennsylvania\", \"Rhode Island\", \"South Carolina\", \"South Dakota\", \"Tennessee\", \"Texas\", \n",
        "             \"Utah\", \"Vermont\", \"Virginia\", \"Washington\", \"West Virginia\", \"Wisconsin\", \"Wyoming\"]\n",
        "nomandate = list(set(state_names) - set(maskmandate.State.values))\n",
        "nomandatedf = pd.DataFrame(data={'State':nomandate})\n",
        "maskmandate = maskmandate.append(nomandatedf)"
      ],
      "execution_count": null,
      "outputs": [
        {
          "output_type": "stream",
          "name": "stderr",
          "text": [
            "/usr/local/lib/python3.7/dist-packages/ipykernel_launcher.py:4: SettingWithCopyWarning: \n",
            "A value is trying to be set on a copy of a slice from a DataFrame\n",
            "\n",
            "See the caveats in the documentation: https://pandas.pydata.org/pandas-docs/stable/user_guide/indexing.html#returning-a-view-versus-a-copy\n",
            "  after removing the cwd from sys.path.\n"
          ]
        }
      ]
    },
    {
      "cell_type": "code",
      "metadata": {
        "colab": {
          "base_uri": "https://localhost:8080/",
          "height": 1000
        },
        "id": "gMyocUPVWOZR",
        "outputId": "2ef6e8f6-e39e-460d-f9a9-8de029c9669a"
      },
      "source": [
        "corr = dfpivot_cor.pct_change().dropna().corr()\n",
        "mi = pd.DataFrame(corr.Illinois)\n",
        "mi = mi[mi.Illinois>0.7]\n",
        "mi.style.background_gradient(cmap='coolwarm')"
      ],
      "execution_count": null,
      "outputs": [
        {
          "output_type": "execute_result",
          "data": {
            "text/html": [
              "<style  type=\"text/css\" >\n",
              "#T_589380f6_51a3_11ec_b45e_0242ac1c0002row0_col0{\n",
              "            background-color:  #d85646;\n",
              "            color:  #000000;\n",
              "        }#T_589380f6_51a3_11ec_b45e_0242ac1c0002row1_col0{\n",
              "            background-color:  #de614d;\n",
              "            color:  #000000;\n",
              "        }#T_589380f6_51a3_11ec_b45e_0242ac1c0002row2_col0,#T_589380f6_51a3_11ec_b45e_0242ac1c0002row8_col0{\n",
              "            background-color:  #d95847;\n",
              "            color:  #000000;\n",
              "        }#T_589380f6_51a3_11ec_b45e_0242ac1c0002row3_col0{\n",
              "            background-color:  #3b4cc0;\n",
              "            color:  #f1f1f1;\n",
              "        }#T_589380f6_51a3_11ec_b45e_0242ac1c0002row4_col0{\n",
              "            background-color:  #6b8df0;\n",
              "            color:  #000000;\n",
              "        }#T_589380f6_51a3_11ec_b45e_0242ac1c0002row5_col0{\n",
              "            background-color:  #e5d8d1;\n",
              "            color:  #000000;\n",
              "        }#T_589380f6_51a3_11ec_b45e_0242ac1c0002row6_col0{\n",
              "            background-color:  #f6bfa6;\n",
              "            color:  #000000;\n",
              "        }#T_589380f6_51a3_11ec_b45e_0242ac1c0002row7_col0{\n",
              "            background-color:  #7597f6;\n",
              "            color:  #000000;\n",
              "        }#T_589380f6_51a3_11ec_b45e_0242ac1c0002row9_col0,#T_589380f6_51a3_11ec_b45e_0242ac1c0002row17_col0{\n",
              "            background-color:  #a1c0ff;\n",
              "            color:  #000000;\n",
              "        }#T_589380f6_51a3_11ec_b45e_0242ac1c0002row10_col0{\n",
              "            background-color:  #8db0fe;\n",
              "            color:  #000000;\n",
              "        }#T_589380f6_51a3_11ec_b45e_0242ac1c0002row11_col0{\n",
              "            background-color:  #e16751;\n",
              "            color:  #000000;\n",
              "        }#T_589380f6_51a3_11ec_b45e_0242ac1c0002row12_col0{\n",
              "            background-color:  #b40426;\n",
              "            color:  #f1f1f1;\n",
              "        }#T_589380f6_51a3_11ec_b45e_0242ac1c0002row13_col0{\n",
              "            background-color:  #f18f71;\n",
              "            color:  #000000;\n",
              "        }#T_589380f6_51a3_11ec_b45e_0242ac1c0002row14_col0,#T_589380f6_51a3_11ec_b45e_0242ac1c0002row33_col0{\n",
              "            background-color:  #f3c7b1;\n",
              "            color:  #000000;\n",
              "        }#T_589380f6_51a3_11ec_b45e_0242ac1c0002row15_col0{\n",
              "            background-color:  #e3d9d3;\n",
              "            color:  #000000;\n",
              "        }#T_589380f6_51a3_11ec_b45e_0242ac1c0002row16_col0,#T_589380f6_51a3_11ec_b45e_0242ac1c0002row40_col0{\n",
              "            background-color:  #f7af91;\n",
              "            color:  #000000;\n",
              "        }#T_589380f6_51a3_11ec_b45e_0242ac1c0002row18_col0{\n",
              "            background-color:  #ecd3c5;\n",
              "            color:  #000000;\n",
              "        }#T_589380f6_51a3_11ec_b45e_0242ac1c0002row19_col0{\n",
              "            background-color:  #f5c1a9;\n",
              "            color:  #000000;\n",
              "        }#T_589380f6_51a3_11ec_b45e_0242ac1c0002row20_col0{\n",
              "            background-color:  #c83836;\n",
              "            color:  #f1f1f1;\n",
              "        }#T_589380f6_51a3_11ec_b45e_0242ac1c0002row21_col0{\n",
              "            background-color:  #3d50c3;\n",
              "            color:  #f1f1f1;\n",
              "        }#T_589380f6_51a3_11ec_b45e_0242ac1c0002row22_col0{\n",
              "            background-color:  #c73635;\n",
              "            color:  #f1f1f1;\n",
              "        }#T_589380f6_51a3_11ec_b45e_0242ac1c0002row23_col0,#T_589380f6_51a3_11ec_b45e_0242ac1c0002row28_col0{\n",
              "            background-color:  #d1493f;\n",
              "            color:  #f1f1f1;\n",
              "        }#T_589380f6_51a3_11ec_b45e_0242ac1c0002row24_col0{\n",
              "            background-color:  #7da0f9;\n",
              "            color:  #000000;\n",
              "        }#T_589380f6_51a3_11ec_b45e_0242ac1c0002row25_col0,#T_589380f6_51a3_11ec_b45e_0242ac1c0002row35_col0{\n",
              "            background-color:  #f7aa8c;\n",
              "            color:  #000000;\n",
              "        }#T_589380f6_51a3_11ec_b45e_0242ac1c0002row26_col0{\n",
              "            background-color:  #d65244;\n",
              "            color:  #000000;\n",
              "        }#T_589380f6_51a3_11ec_b45e_0242ac1c0002row27_col0{\n",
              "            background-color:  #cc403a;\n",
              "            color:  #f1f1f1;\n",
              "        }#T_589380f6_51a3_11ec_b45e_0242ac1c0002row29_col0{\n",
              "            background-color:  #d0473d;\n",
              "            color:  #f1f1f1;\n",
              "        }#T_589380f6_51a3_11ec_b45e_0242ac1c0002row30_col0{\n",
              "            background-color:  #f6a385;\n",
              "            color:  #000000;\n",
              "        }#T_589380f6_51a3_11ec_b45e_0242ac1c0002row31_col0{\n",
              "            background-color:  #d5dbe5;\n",
              "            color:  #000000;\n",
              "        }#T_589380f6_51a3_11ec_b45e_0242ac1c0002row32_col0{\n",
              "            background-color:  #f7b89c;\n",
              "            color:  #000000;\n",
              "        }#T_589380f6_51a3_11ec_b45e_0242ac1c0002row34_col0{\n",
              "            background-color:  #e67259;\n",
              "            color:  #000000;\n",
              "        }#T_589380f6_51a3_11ec_b45e_0242ac1c0002row36_col0{\n",
              "            background-color:  #ec7f63;\n",
              "            color:  #000000;\n",
              "        }#T_589380f6_51a3_11ec_b45e_0242ac1c0002row37_col0{\n",
              "            background-color:  #d55042;\n",
              "            color:  #000000;\n",
              "        }#T_589380f6_51a3_11ec_b45e_0242ac1c0002row38_col0{\n",
              "            background-color:  #7ea1fa;\n",
              "            color:  #000000;\n",
              "        }#T_589380f6_51a3_11ec_b45e_0242ac1c0002row39_col0{\n",
              "            background-color:  #e46e56;\n",
              "            color:  #000000;\n",
              "        }</style><table id=\"T_589380f6_51a3_11ec_b45e_0242ac1c0002\" class=\"dataframe\"><thead>    <tr>        <th class=\"blank level0\" ></th>        <th class=\"col_heading level0 col0\" >Illinois</th>    </tr></thead><tbody>\n",
              "                <tr>\n",
              "                        <th id=\"T_589380f6_51a3_11ec_b45e_0242ac1c0002level0_row0\" class=\"row_heading level0 row0\" >Alaska</th>\n",
              "                        <td id=\"T_589380f6_51a3_11ec_b45e_0242ac1c0002row0_col0\" class=\"data row0 col0\" >0.970342</td>\n",
              "            </tr>\n",
              "            <tr>\n",
              "                        <th id=\"T_589380f6_51a3_11ec_b45e_0242ac1c0002level0_row1\" class=\"row_heading level0 row1\" >Arizona</th>\n",
              "                        <td id=\"T_589380f6_51a3_11ec_b45e_0242ac1c0002row1_col0\" class=\"data row1 col0\" >0.964729</td>\n",
              "            </tr>\n",
              "            <tr>\n",
              "                        <th id=\"T_589380f6_51a3_11ec_b45e_0242ac1c0002level0_row2\" class=\"row_heading level0 row2\" >Arkansas</th>\n",
              "                        <td id=\"T_589380f6_51a3_11ec_b45e_0242ac1c0002row2_col0\" class=\"data row2 col0\" >0.969399</td>\n",
              "            </tr>\n",
              "            <tr>\n",
              "                        <th id=\"T_589380f6_51a3_11ec_b45e_0242ac1c0002level0_row3\" class=\"row_heading level0 row3\" >California</th>\n",
              "                        <td id=\"T_589380f6_51a3_11ec_b45e_0242ac1c0002row3_col0\" class=\"data row3 col0\" >0.722395</td>\n",
              "            </tr>\n",
              "            <tr>\n",
              "                        <th id=\"T_589380f6_51a3_11ec_b45e_0242ac1c0002level0_row4\" class=\"row_heading level0 row4\" >Colorado</th>\n",
              "                        <td id=\"T_589380f6_51a3_11ec_b45e_0242ac1c0002row4_col0\" class=\"data row4 col0\" >0.764787</td>\n",
              "            </tr>\n",
              "            <tr>\n",
              "                        <th id=\"T_589380f6_51a3_11ec_b45e_0242ac1c0002level0_row5\" class=\"row_heading level0 row5\" >Connecticut</th>\n",
              "                        <td id=\"T_589380f6_51a3_11ec_b45e_0242ac1c0002row5_col0\" class=\"data row5 col0\" >0.870157</td>\n",
              "            </tr>\n",
              "            <tr>\n",
              "                        <th id=\"T_589380f6_51a3_11ec_b45e_0242ac1c0002level0_row6\" class=\"row_heading level0 row6\" >Delaware</th>\n",
              "                        <td id=\"T_589380f6_51a3_11ec_b45e_0242ac1c0002row6_col0\" class=\"data row6 col0\" >0.900997</td>\n",
              "            </tr>\n",
              "            <tr>\n",
              "                        <th id=\"T_589380f6_51a3_11ec_b45e_0242ac1c0002level0_row7\" class=\"row_heading level0 row7\" >District of Columbia</th>\n",
              "                        <td id=\"T_589380f6_51a3_11ec_b45e_0242ac1c0002row7_col0\" class=\"data row7 col0\" >0.772964</td>\n",
              "            </tr>\n",
              "            <tr>\n",
              "                        <th id=\"T_589380f6_51a3_11ec_b45e_0242ac1c0002level0_row8\" class=\"row_heading level0 row8\" >Florida</th>\n",
              "                        <td id=\"T_589380f6_51a3_11ec_b45e_0242ac1c0002row8_col0\" class=\"data row8 col0\" >0.968666</td>\n",
              "            </tr>\n",
              "            <tr>\n",
              "                        <th id=\"T_589380f6_51a3_11ec_b45e_0242ac1c0002level0_row9\" class=\"row_heading level0 row9\" >Georgia</th>\n",
              "                        <td id=\"T_589380f6_51a3_11ec_b45e_0242ac1c0002row9_col0\" class=\"data row9 col0\" >0.807570</td>\n",
              "            </tr>\n",
              "            <tr>\n",
              "                        <th id=\"T_589380f6_51a3_11ec_b45e_0242ac1c0002level0_row10\" class=\"row_heading level0 row10\" >Hawaii</th>\n",
              "                        <td id=\"T_589380f6_51a3_11ec_b45e_0242ac1c0002row10_col0\" class=\"data row10 col0\" >0.792405</td>\n",
              "            </tr>\n",
              "            <tr>\n",
              "                        <th id=\"T_589380f6_51a3_11ec_b45e_0242ac1c0002level0_row11\" class=\"row_heading level0 row11\" >Idaho</th>\n",
              "                        <td id=\"T_589380f6_51a3_11ec_b45e_0242ac1c0002row11_col0\" class=\"data row11 col0\" >0.961414</td>\n",
              "            </tr>\n",
              "            <tr>\n",
              "                        <th id=\"T_589380f6_51a3_11ec_b45e_0242ac1c0002level0_row12\" class=\"row_heading level0 row12\" >Illinois</th>\n",
              "                        <td id=\"T_589380f6_51a3_11ec_b45e_0242ac1c0002row12_col0\" class=\"data row12 col0\" >1.000000</td>\n",
              "            </tr>\n",
              "            <tr>\n",
              "                        <th id=\"T_589380f6_51a3_11ec_b45e_0242ac1c0002level0_row13\" class=\"row_heading level0 row13\" >Indiana</th>\n",
              "                        <td id=\"T_589380f6_51a3_11ec_b45e_0242ac1c0002row13_col0\" class=\"data row13 col0\" >0.938102</td>\n",
              "            </tr>\n",
              "            <tr>\n",
              "                        <th id=\"T_589380f6_51a3_11ec_b45e_0242ac1c0002level0_row14\" class=\"row_heading level0 row14\" >Kansas</th>\n",
              "                        <td id=\"T_589380f6_51a3_11ec_b45e_0242ac1c0002row14_col0\" class=\"data row14 col0\" >0.893696</td>\n",
              "            </tr>\n",
              "            <tr>\n",
              "                        <th id=\"T_589380f6_51a3_11ec_b45e_0242ac1c0002level0_row15\" class=\"row_heading level0 row15\" >Kentucky</th>\n",
              "                        <td id=\"T_589380f6_51a3_11ec_b45e_0242ac1c0002row15_col0\" class=\"data row15 col0\" >0.868517</td>\n",
              "            </tr>\n",
              "            <tr>\n",
              "                        <th id=\"T_589380f6_51a3_11ec_b45e_0242ac1c0002level0_row16\" class=\"row_heading level0 row16\" >Louisiana</th>\n",
              "                        <td id=\"T_589380f6_51a3_11ec_b45e_0242ac1c0002row16_col0\" class=\"data row16 col0\" >0.914955</td>\n",
              "            </tr>\n",
              "            <tr>\n",
              "                        <th id=\"T_589380f6_51a3_11ec_b45e_0242ac1c0002level0_row17\" class=\"row_heading level0 row17\" >Maine</th>\n",
              "                        <td id=\"T_589380f6_51a3_11ec_b45e_0242ac1c0002row17_col0\" class=\"data row17 col0\" >0.807632</td>\n",
              "            </tr>\n",
              "            <tr>\n",
              "                        <th id=\"T_589380f6_51a3_11ec_b45e_0242ac1c0002level0_row18\" class=\"row_heading level0 row18\" >Maryland</th>\n",
              "                        <td id=\"T_589380f6_51a3_11ec_b45e_0242ac1c0002row18_col0\" class=\"data row18 col0\" >0.879438</td>\n",
              "            </tr>\n",
              "            <tr>\n",
              "                        <th id=\"T_589380f6_51a3_11ec_b45e_0242ac1c0002level0_row19\" class=\"row_heading level0 row19\" >Massachusetts</th>\n",
              "                        <td id=\"T_589380f6_51a3_11ec_b45e_0242ac1c0002row19_col0\" class=\"data row19 col0\" >0.898404</td>\n",
              "            </tr>\n",
              "            <tr>\n",
              "                        <th id=\"T_589380f6_51a3_11ec_b45e_0242ac1c0002level0_row20\" class=\"row_heading level0 row20\" >Michigan</th>\n",
              "                        <td id=\"T_589380f6_51a3_11ec_b45e_0242ac1c0002row20_col0\" class=\"data row20 col0\" >0.983911</td>\n",
              "            </tr>\n",
              "            <tr>\n",
              "                        <th id=\"T_589380f6_51a3_11ec_b45e_0242ac1c0002level0_row21\" class=\"row_heading level0 row21\" >Minnesota</th>\n",
              "                        <td id=\"T_589380f6_51a3_11ec_b45e_0242ac1c0002row21_col0\" class=\"data row21 col0\" >0.724727</td>\n",
              "            </tr>\n",
              "            <tr>\n",
              "                        <th id=\"T_589380f6_51a3_11ec_b45e_0242ac1c0002level0_row22\" class=\"row_heading level0 row22\" >Mississippi</th>\n",
              "                        <td id=\"T_589380f6_51a3_11ec_b45e_0242ac1c0002row22_col0\" class=\"data row22 col0\" >0.985364</td>\n",
              "            </tr>\n",
              "            <tr>\n",
              "                        <th id=\"T_589380f6_51a3_11ec_b45e_0242ac1c0002level0_row23\" class=\"row_heading level0 row23\" >Missouri</th>\n",
              "                        <td id=\"T_589380f6_51a3_11ec_b45e_0242ac1c0002row23_col0\" class=\"data row23 col0\" >0.976944</td>\n",
              "            </tr>\n",
              "            <tr>\n",
              "                        <th id=\"T_589380f6_51a3_11ec_b45e_0242ac1c0002level0_row24\" class=\"row_heading level0 row24\" >Nevada</th>\n",
              "                        <td id=\"T_589380f6_51a3_11ec_b45e_0242ac1c0002row24_col0\" class=\"data row24 col0\" >0.779711</td>\n",
              "            </tr>\n",
              "            <tr>\n",
              "                        <th id=\"T_589380f6_51a3_11ec_b45e_0242ac1c0002level0_row25\" class=\"row_heading level0 row25\" >New Hampshire</th>\n",
              "                        <td id=\"T_589380f6_51a3_11ec_b45e_0242ac1c0002row25_col0\" class=\"data row25 col0\" >0.917595</td>\n",
              "            </tr>\n",
              "            <tr>\n",
              "                        <th id=\"T_589380f6_51a3_11ec_b45e_0242ac1c0002level0_row26\" class=\"row_heading level0 row26\" >New Jersey</th>\n",
              "                        <td id=\"T_589380f6_51a3_11ec_b45e_0242ac1c0002row26_col0\" class=\"data row26 col0\" >0.972741</td>\n",
              "            </tr>\n",
              "            <tr>\n",
              "                        <th id=\"T_589380f6_51a3_11ec_b45e_0242ac1c0002level0_row27\" class=\"row_heading level0 row27\" >New York</th>\n",
              "                        <td id=\"T_589380f6_51a3_11ec_b45e_0242ac1c0002row27_col0\" class=\"data row27 col0\" >0.980519</td>\n",
              "            </tr>\n",
              "            <tr>\n",
              "                        <th id=\"T_589380f6_51a3_11ec_b45e_0242ac1c0002level0_row28\" class=\"row_heading level0 row28\" >North Carolina</th>\n",
              "                        <td id=\"T_589380f6_51a3_11ec_b45e_0242ac1c0002row28_col0\" class=\"data row28 col0\" >0.976175</td>\n",
              "            </tr>\n",
              "            <tr>\n",
              "                        <th id=\"T_589380f6_51a3_11ec_b45e_0242ac1c0002level0_row29\" class=\"row_heading level0 row29\" >North Dakota</th>\n",
              "                        <td id=\"T_589380f6_51a3_11ec_b45e_0242ac1c0002row29_col0\" class=\"data row29 col0\" >0.977713</td>\n",
              "            </tr>\n",
              "            <tr>\n",
              "                        <th id=\"T_589380f6_51a3_11ec_b45e_0242ac1c0002level0_row30\" class=\"row_heading level0 row30\" >Ohio</th>\n",
              "                        <td id=\"T_589380f6_51a3_11ec_b45e_0242ac1c0002row30_col0\" class=\"data row30 col0\" >0.923592</td>\n",
              "            </tr>\n",
              "            <tr>\n",
              "                        <th id=\"T_589380f6_51a3_11ec_b45e_0242ac1c0002level0_row31\" class=\"row_heading level0 row31\" >Oklahoma</th>\n",
              "                        <td id=\"T_589380f6_51a3_11ec_b45e_0242ac1c0002row31_col0\" class=\"data row31 col0\" >0.853074</td>\n",
              "            </tr>\n",
              "            <tr>\n",
              "                        <th id=\"T_589380f6_51a3_11ec_b45e_0242ac1c0002level0_row32\" class=\"row_heading level0 row32\" >Oregon</th>\n",
              "                        <td id=\"T_589380f6_51a3_11ec_b45e_0242ac1c0002row32_col0\" class=\"data row32 col0\" >0.907181</td>\n",
              "            </tr>\n",
              "            <tr>\n",
              "                        <th id=\"T_589380f6_51a3_11ec_b45e_0242ac1c0002level0_row33\" class=\"row_heading level0 row33\" >Pennsylvania</th>\n",
              "                        <td id=\"T_589380f6_51a3_11ec_b45e_0242ac1c0002row33_col0\" class=\"data row33 col0\" >0.892968</td>\n",
              "            </tr>\n",
              "            <tr>\n",
              "                        <th id=\"T_589380f6_51a3_11ec_b45e_0242ac1c0002level0_row34\" class=\"row_heading level0 row34\" >South Carolina</th>\n",
              "                        <td id=\"T_589380f6_51a3_11ec_b45e_0242ac1c0002row34_col0\" class=\"data row34 col0\" >0.954577</td>\n",
              "            </tr>\n",
              "            <tr>\n",
              "                        <th id=\"T_589380f6_51a3_11ec_b45e_0242ac1c0002level0_row35\" class=\"row_heading level0 row35\" >Tennessee</th>\n",
              "                        <td id=\"T_589380f6_51a3_11ec_b45e_0242ac1c0002row35_col0\" class=\"data row35 col0\" >0.917756</td>\n",
              "            </tr>\n",
              "            <tr>\n",
              "                        <th id=\"T_589380f6_51a3_11ec_b45e_0242ac1c0002level0_row36\" class=\"row_heading level0 row36\" >Texas</th>\n",
              "                        <td id=\"T_589380f6_51a3_11ec_b45e_0242ac1c0002row36_col0\" class=\"data row36 col0\" >0.947652</td>\n",
              "            </tr>\n",
              "            <tr>\n",
              "                        <th id=\"T_589380f6_51a3_11ec_b45e_0242ac1c0002level0_row37\" class=\"row_heading level0 row37\" >Utah</th>\n",
              "                        <td id=\"T_589380f6_51a3_11ec_b45e_0242ac1c0002row37_col0\" class=\"data row37 col0\" >0.972902</td>\n",
              "            </tr>\n",
              "            <tr>\n",
              "                        <th id=\"T_589380f6_51a3_11ec_b45e_0242ac1c0002level0_row38\" class=\"row_heading level0 row38\" >Virginia</th>\n",
              "                        <td id=\"T_589380f6_51a3_11ec_b45e_0242ac1c0002row38_col0\" class=\"data row38 col0\" >0.780779</td>\n",
              "            </tr>\n",
              "            <tr>\n",
              "                        <th id=\"T_589380f6_51a3_11ec_b45e_0242ac1c0002level0_row39\" class=\"row_heading level0 row39\" >Wisconsin</th>\n",
              "                        <td id=\"T_589380f6_51a3_11ec_b45e_0242ac1c0002row39_col0\" class=\"data row39 col0\" >0.957585</td>\n",
              "            </tr>\n",
              "            <tr>\n",
              "                        <th id=\"T_589380f6_51a3_11ec_b45e_0242ac1c0002level0_row40\" class=\"row_heading level0 row40\" >Wyoming</th>\n",
              "                        <td id=\"T_589380f6_51a3_11ec_b45e_0242ac1c0002row40_col0\" class=\"data row40 col0\" >0.914399</td>\n",
              "            </tr>\n",
              "    </tbody></table>"
            ],
            "text/plain": [
              "<pandas.io.formats.style.Styler at 0x7f105c4cbe50>"
            ]
          },
          "metadata": {},
          "execution_count": 97
        }
      ]
    },
    {
      "cell_type": "code",
      "metadata": {
        "id": "Gaw41oEVWOZR"
      },
      "source": [
        "maskmandate=maskmandate[(maskmandate.State.isin(mi.index))]#&(maskmandate.End_date>enddate)]"
      ],
      "execution_count": null,
      "outputs": []
    },
    {
      "cell_type": "code",
      "metadata": {
        "colab": {
          "base_uri": "https://localhost:8080/"
        },
        "id": "03Z7-y5WWOZR",
        "outputId": "2db85965-4d29-4a69-a202-9024322bbb79"
      },
      "source": [
        "set(list(maskmandate.State))"
      ],
      "execution_count": null,
      "outputs": [
        {
          "output_type": "execute_result",
          "data": {
            "text/plain": [
              "{'Alaska',\n",
              " 'Arizona',\n",
              " 'Arkansas',\n",
              " 'California',\n",
              " 'Colorado',\n",
              " 'Connecticut',\n",
              " 'Delaware',\n",
              " 'Florida',\n",
              " 'Georgia',\n",
              " 'Hawaii',\n",
              " 'Idaho',\n",
              " 'Illinois',\n",
              " 'Indiana',\n",
              " 'Kansas',\n",
              " 'Kentucky',\n",
              " 'Louisiana',\n",
              " 'Maine',\n",
              " 'Maryland',\n",
              " 'Massachusetts',\n",
              " 'Michigan',\n",
              " 'Minnesota',\n",
              " 'Mississippi',\n",
              " 'Missouri',\n",
              " 'Nevada',\n",
              " 'New Hampshire',\n",
              " 'New Jersey',\n",
              " 'New York',\n",
              " 'North Carolina',\n",
              " 'North Dakota',\n",
              " 'Ohio',\n",
              " 'Oklahoma',\n",
              " 'Oregon',\n",
              " 'Pennsylvania',\n",
              " 'South Carolina',\n",
              " 'Tennessee',\n",
              " 'Texas',\n",
              " 'Utah',\n",
              " 'Virginia',\n",
              " 'Wisconsin',\n",
              " 'Wyoming'}"
            ]
          },
          "metadata": {},
          "execution_count": 99
        }
      ]
    },
    {
      "cell_type": "code",
      "metadata": {
        "id": "EOv2KrUOWOZR"
      },
      "source": [
        "# import plotly.graph_objects as go\n",
        "\n",
        "# # Create traces\n",
        "# fig = go.Figure()\n",
        "# fig.add_trace(go.Scatter(x=dfpivot.index, y=dfpivot.Michigan,\n",
        "#                     mode='lines',\n",
        "#                     name='Michigan'))\n",
        "# fig.add_trace(go.Scatter(x=dfpivot.index, y=dfpivot[\"New York\"],\n",
        "#                     mode='lines',\n",
        "#                     name='New York'))\n",
        "# fig.add_trace(go.Scatter(x=dfpivot.index, y=dfpivot[\"Nebraska\"],\n",
        "#                     mode='lines',\n",
        "#                     name='Nebraska'))\n",
        "# fig.add_trace(go.Scatter(x=dfpivot.index, y=dfpivot[\"Idaho\"],\n",
        "#                     mode='lines',\n",
        "#                     name='Idaho'))\n",
        "# fig.add_vrect(x0=\"2021-6-14\", x1=\"2021-8-30\",\n",
        "#               fillcolor=\"green\", opacity=0.25, line_width=0)\n",
        "# fig.update_layout(\n",
        "#     legend=dict(\n",
        "#         x=0,\n",
        "#         y=1),\n",
        "#     autosize=False,\n",
        "#     width=800,\n",
        "#     height=500)\n",
        "# fig.show()"
      ],
      "execution_count": null,
      "outputs": []
    },
    {
      "cell_type": "code",
      "metadata": {
        "id": "u594hQ7KWOZR"
      },
      "source": [
        "final_series = dfpivot[[ 'Illinois', 'Alaska',\n",
        " 'Arizona',\n",
        " 'Arkansas',\n",
        " 'California',\n",
        " 'Colorado',\n",
        " 'Connecticut',\n",
        " 'Delaware',\n",
        " 'Florida',\n",
        " 'Georgia',\n",
        " 'Hawaii',\n",
        " 'Idaho',\n",
        " 'Indiana',\n",
        " 'Kansas',\n",
        " 'Kentucky',\n",
        " 'Louisiana',\n",
        " 'Maine',\n",
        " 'Maryland',\n",
        " 'Massachusetts',\n",
        " 'Michigan',\n",
        " 'Minnesota',\n",
        " 'Mississippi',\n",
        " 'Missouri',\n",
        " 'Nevada',\n",
        " 'New Hampshire',\n",
        " 'New Jersey',\n",
        " 'New York',\n",
        " 'North Carolina',\n",
        " 'North Dakota',\n",
        " 'Ohio',\n",
        " 'Oklahoma',\n",
        " 'Oregon',\n",
        " 'Pennsylvania',\n",
        " 'South Carolina',\n",
        " 'Tennessee',\n",
        " 'Texas',\n",
        " 'Utah',\n",
        " 'Virginia',\n",
        " 'Wisconsin',\n",
        " 'Wyoming']]\n",
        "\n",
        "final_series.to_csv(\"Illinois_enf.csv\")"
      ],
      "execution_count": null,
      "outputs": []
    },
    {
      "cell_type": "markdown",
      "metadata": {
        "id": "GM8EieCGbUmH"
      },
      "source": [
        "# Texas"
      ]
    },
    {
      "cell_type": "code",
      "metadata": {
        "id": "F86ChoVabUzT"
      },
      "source": [
        "import datetime\n",
        "from datetime import date\n",
        "from dateutil.relativedelta import relativedelta,MO"
      ],
      "execution_count": null,
      "outputs": []
    },
    {
      "cell_type": "code",
      "metadata": {
        "colab": {
          "base_uri": "https://localhost:8080/"
        },
        "id": "gJ1yfJlObUzT",
        "outputId": "c75a16ba-0878-4831-e869-3fa888130e7b"
      },
      "source": [
        "dfpivot.Texas.head(10)"
      ],
      "execution_count": null,
      "outputs": [
        {
          "output_type": "execute_result",
          "data": {
            "text/plain": [
              "time_value\n",
              "2020-01-27    0.000000\n",
              "2020-02-03    0.000000\n",
              "2020-02-10    0.000000\n",
              "2020-02-17    0.000000\n",
              "2020-02-24    0.000000\n",
              "2020-03-02    0.000000\n",
              "2020-03-09    0.044277\n",
              "2020-03-16    0.245225\n",
              "2020-03-23    2.312611\n",
              "2020-03-30    8.204829\n",
              "Name: Texas, dtype: float64"
            ]
          },
          "metadata": {},
          "execution_count": 6
        }
      ]
    },
    {
      "cell_type": "code",
      "metadata": {
        "id": "CBuhjzL6bUzT"
      },
      "source": [
        "dfpivot_cor = dfpivot[(dfpivot.index >= \"2020-03-16\")&(dfpivot.index <= \"2021-03-15\")]\n",
        "#dfpivot_cor = dfpivot[(dfpivot.index > \"2020-5-4\")&(dfpivot.index < \"2021-6-30\")]#\n"
      ],
      "execution_count": null,
      "outputs": []
    },
    {
      "cell_type": "code",
      "metadata": {
        "colab": {
          "base_uri": "https://localhost:8080/"
        },
        "id": "NsemyKB_bUzT",
        "outputId": "edeb20bb-8c3f-44d1-92d9-ef23a63fe301"
      },
      "source": [
        "pd.to_datetime(\"2021-03-22\")+relativedelta(weeks=+8)"
      ],
      "execution_count": null,
      "outputs": [
        {
          "output_type": "execute_result",
          "data": {
            "text/plain": [
              "Timestamp('2021-05-17 00:00:00')"
            ]
          },
          "metadata": {},
          "execution_count": 8
        }
      ]
    },
    {
      "cell_type": "code",
      "metadata": {
        "colab": {
          "base_uri": "https://localhost:8080/"
        },
        "id": "hjvVOGIqbUzU",
        "outputId": "b6398944-391d-4428-f4eb-0d99ea235689"
      },
      "source": [
        "print(dfpivot_cor.head(1))\n",
        "print(dfpivot_cor.tail(1))"
      ],
      "execution_count": null,
      "outputs": [
        {
          "output_type": "stream",
          "name": "stdout",
          "text": [
            "             Alabama    Alaska   Arizona  ...  West Virginia  Wisconsin   Wyoming\n",
            "time_value                                ...                                    \n",
            "2020-03-16  0.731479  0.138345  0.188644  ...            0.0   0.822953  0.343449\n",
            "\n",
            "[1 rows x 52 columns]\n",
            "               Alabama      Alaska  ...  Wisconsin    Wyoming\n",
            "time_value                          ...                      \n",
            "2021-03-15  165.334697  134.748143  ...  65.973386  72.811199\n",
            "\n",
            "[1 rows x 52 columns]\n"
          ]
        }
      ]
    },
    {
      "cell_type": "code",
      "metadata": {
        "colab": {
          "base_uri": "https://localhost:8080/"
        },
        "id": "JVDVWwq9bUzU",
        "outputId": "279b44ff-3ce0-4704-9d5c-39b5a709e29e"
      },
      "source": [
        "maskmandate = pd.read_csv(\"/Statewidemaskorders.csv\")\n",
        "maskmandate[['Start_date', 'End_date']] = maskmandate['Effective'].str.split(' - ', expand=True)\n",
        "maskmandate['Start_date']=pd.to_datetime(maskmandate['Start_date'])\n",
        "maskmandate.End_date[maskmandate.End_date == 'present'] = \"November 21, 2021\"\n",
        "maskmandate['End_date']=pd.to_datetime(maskmandate['End_date'])\n",
        "state_names=[\"Alabama\", \"Alaska\", \"Arizona\", \"Arkansas\", \"California\", \"Colorado\", \"Connecticut\", \n",
        "             \"Delaware\", \"Florida\", \"Georgia\", \"Hawaii\", \"Idaho\", \"Illinois\", \"Indiana\", \"Iowa\", \n",
        "             \"Kansas\", \"Kentucky\", \"Louisiana\", \"Maine\", \"Maryland\", \"Massachusetts\", \"Michigan\", \n",
        "             \"Minnesota\", \"Mississippi\", \"Missouri\", \"Montana\", \"Nebraska\", \"Nevada\", \"New Hampshire\", \n",
        "             \"New Jersey\", \"New Mexico\", \"New York\", \"North Carolina\", \"North Dakota\", \"Ohio\", \"Oklahoma\", \n",
        "             \"Oregon\", \"Pennsylvania\", \"Rhode Island\", \"South Carolina\", \"South Dakota\", \"Tennessee\", \"Texas\", \n",
        "             \"Utah\", \"Vermont\", \"Virginia\", \"Washington\", \"West Virginia\", \"Wisconsin\", \"Wyoming\"]\n",
        "nomandate = list(set(state_names) - set(maskmandate.State.values))\n",
        "nomandatedf = pd.DataFrame(data={'State':nomandate})\n",
        "maskmandate = maskmandate.append(nomandatedf)"
      ],
      "execution_count": null,
      "outputs": [
        {
          "output_type": "stream",
          "name": "stderr",
          "text": [
            "/usr/local/lib/python3.7/dist-packages/ipykernel_launcher.py:4: SettingWithCopyWarning: \n",
            "A value is trying to be set on a copy of a slice from a DataFrame\n",
            "\n",
            "See the caveats in the documentation: https://pandas.pydata.org/pandas-docs/stable/user_guide/indexing.html#returning-a-view-versus-a-copy\n",
            "  after removing the cwd from sys.path.\n"
          ]
        }
      ]
    },
    {
      "cell_type": "code",
      "metadata": {
        "colab": {
          "base_uri": "https://localhost:8080/",
          "height": 1000
        },
        "id": "yzsSu8ZobUzV",
        "outputId": "6c318996-5486-42b0-a19b-a3f1228316af"
      },
      "source": [
        "corr = dfpivot_cor.pct_change().dropna().corr()\n",
        "mi = pd.DataFrame(corr.Texas)\n",
        "mi = mi[mi.Texas>0.7]\n",
        "mi.style.background_gradient(cmap='coolwarm')"
      ],
      "execution_count": null,
      "outputs": [
        {
          "output_type": "execute_result",
          "data": {
            "text/html": [
              "<style  type=\"text/css\" >\n",
              "#T_23506338_5972_11ec_98cd_0242ac1c0002row0_col0{\n",
              "            background-color:  #d6dce4;\n",
              "            color:  #000000;\n",
              "        }#T_23506338_5972_11ec_98cd_0242ac1c0002row1_col0{\n",
              "            background-color:  #f59f80;\n",
              "            color:  #000000;\n",
              "        }#T_23506338_5972_11ec_98cd_0242ac1c0002row2_col0{\n",
              "            background-color:  #d44e41;\n",
              "            color:  #000000;\n",
              "        }#T_23506338_5972_11ec_98cd_0242ac1c0002row3_col0{\n",
              "            background-color:  #f49a7b;\n",
              "            color:  #000000;\n",
              "        }#T_23506338_5972_11ec_98cd_0242ac1c0002row4_col0,#T_23506338_5972_11ec_98cd_0242ac1c0002row42_col0{\n",
              "            background-color:  #d8dce2;\n",
              "            color:  #000000;\n",
              "        }#T_23506338_5972_11ec_98cd_0242ac1c0002row5_col0{\n",
              "            background-color:  #bcd2f7;\n",
              "            color:  #000000;\n",
              "        }#T_23506338_5972_11ec_98cd_0242ac1c0002row6_col0{\n",
              "            background-color:  #f4c5ad;\n",
              "            color:  #000000;\n",
              "        }#T_23506338_5972_11ec_98cd_0242ac1c0002row7_col0{\n",
              "            background-color:  #f39577;\n",
              "            color:  #000000;\n",
              "        }#T_23506338_5972_11ec_98cd_0242ac1c0002row8_col0{\n",
              "            background-color:  #e2dad5;\n",
              "            color:  #000000;\n",
              "        }#T_23506338_5972_11ec_98cd_0242ac1c0002row9_col0{\n",
              "            background-color:  #d0473d;\n",
              "            color:  #f1f1f1;\n",
              "        }#T_23506338_5972_11ec_98cd_0242ac1c0002row10_col0{\n",
              "            background-color:  #afcafc;\n",
              "            color:  #000000;\n",
              "        }#T_23506338_5972_11ec_98cd_0242ac1c0002row11_col0{\n",
              "            background-color:  #a5c3fe;\n",
              "            color:  #000000;\n",
              "        }#T_23506338_5972_11ec_98cd_0242ac1c0002row12_col0{\n",
              "            background-color:  #d95847;\n",
              "            color:  #000000;\n",
              "        }#T_23506338_5972_11ec_98cd_0242ac1c0002row13_col0,#T_23506338_5972_11ec_98cd_0242ac1c0002row30_col0{\n",
              "            background-color:  #e36c55;\n",
              "            color:  #000000;\n",
              "        }#T_23506338_5972_11ec_98cd_0242ac1c0002row14_col0{\n",
              "            background-color:  #e97a5f;\n",
              "            color:  #000000;\n",
              "        }#T_23506338_5972_11ec_98cd_0242ac1c0002row15_col0{\n",
              "            background-color:  #80a3fa;\n",
              "            color:  #000000;\n",
              "        }#T_23506338_5972_11ec_98cd_0242ac1c0002row16_col0{\n",
              "            background-color:  #eb7d62;\n",
              "            color:  #000000;\n",
              "        }#T_23506338_5972_11ec_98cd_0242ac1c0002row17_col0{\n",
              "            background-color:  #f7b194;\n",
              "            color:  #000000;\n",
              "        }#T_23506338_5972_11ec_98cd_0242ac1c0002row18_col0{\n",
              "            background-color:  #f6a283;\n",
              "            color:  #000000;\n",
              "        }#T_23506338_5972_11ec_98cd_0242ac1c0002row19_col0{\n",
              "            background-color:  #ead5c9;\n",
              "            color:  #000000;\n",
              "        }#T_23506338_5972_11ec_98cd_0242ac1c0002row20_col0{\n",
              "            background-color:  #f7a98b;\n",
              "            color:  #000000;\n",
              "        }#T_23506338_5972_11ec_98cd_0242ac1c0002row21_col0,#T_23506338_5972_11ec_98cd_0242ac1c0002row33_col0{\n",
              "            background-color:  #f7a688;\n",
              "            color:  #000000;\n",
              "        }#T_23506338_5972_11ec_98cd_0242ac1c0002row22_col0{\n",
              "            background-color:  #dc5d4a;\n",
              "            color:  #000000;\n",
              "        }#T_23506338_5972_11ec_98cd_0242ac1c0002row23_col0{\n",
              "            background-color:  #4e68d8;\n",
              "            color:  #000000;\n",
              "        }#T_23506338_5972_11ec_98cd_0242ac1c0002row24_col0{\n",
              "            background-color:  #e8765c;\n",
              "            color:  #000000;\n",
              "        }#T_23506338_5972_11ec_98cd_0242ac1c0002row25_col0{\n",
              "            background-color:  #e16751;\n",
              "            color:  #000000;\n",
              "        }#T_23506338_5972_11ec_98cd_0242ac1c0002row26_col0{\n",
              "            background-color:  #ead4c8;\n",
              "            color:  #000000;\n",
              "        }#T_23506338_5972_11ec_98cd_0242ac1c0002row27_col0{\n",
              "            background-color:  #f7ad90;\n",
              "            color:  #000000;\n",
              "        }#T_23506338_5972_11ec_98cd_0242ac1c0002row28_col0{\n",
              "            background-color:  #de614d;\n",
              "            color:  #000000;\n",
              "        }#T_23506338_5972_11ec_98cd_0242ac1c0002row29_col0{\n",
              "            background-color:  #f08a6c;\n",
              "            color:  #000000;\n",
              "        }#T_23506338_5972_11ec_98cd_0242ac1c0002row31_col0{\n",
              "            background-color:  #f29274;\n",
              "            color:  #000000;\n",
              "        }#T_23506338_5972_11ec_98cd_0242ac1c0002row32_col0,#T_23506338_5972_11ec_98cd_0242ac1c0002row34_col0,#T_23506338_5972_11ec_98cd_0242ac1c0002row39_col0{\n",
              "            background-color:  #ed8366;\n",
              "            color:  #000000;\n",
              "        }#T_23506338_5972_11ec_98cd_0242ac1c0002row35_col0{\n",
              "            background-color:  #f29072;\n",
              "            color:  #000000;\n",
              "        }#T_23506338_5972_11ec_98cd_0242ac1c0002row36_col0{\n",
              "            background-color:  #506bda;\n",
              "            color:  #000000;\n",
              "        }#T_23506338_5972_11ec_98cd_0242ac1c0002row37_col0{\n",
              "            background-color:  #3b4cc0;\n",
              "            color:  #f1f1f1;\n",
              "        }#T_23506338_5972_11ec_98cd_0242ac1c0002row38_col0,#T_23506338_5972_11ec_98cd_0242ac1c0002row44_col0{\n",
              "            background-color:  #e67259;\n",
              "            color:  #000000;\n",
              "        }#T_23506338_5972_11ec_98cd_0242ac1c0002row40_col0{\n",
              "            background-color:  #b40426;\n",
              "            color:  #f1f1f1;\n",
              "        }#T_23506338_5972_11ec_98cd_0242ac1c0002row41_col0{\n",
              "            background-color:  #dd5f4b;\n",
              "            color:  #000000;\n",
              "        }#T_23506338_5972_11ec_98cd_0242ac1c0002row43_col0{\n",
              "            background-color:  #7699f6;\n",
              "            color:  #000000;\n",
              "        }#T_23506338_5972_11ec_98cd_0242ac1c0002row45_col0{\n",
              "            background-color:  #f0cdbb;\n",
              "            color:  #000000;\n",
              "        }</style><table id=\"T_23506338_5972_11ec_98cd_0242ac1c0002\" class=\"dataframe\"><thead>    <tr>        <th class=\"blank level0\" ></th>        <th class=\"col_heading level0 col0\" >Texas</th>    </tr></thead><tbody>\n",
              "                <tr>\n",
              "                        <th id=\"T_23506338_5972_11ec_98cd_0242ac1c0002level0_row0\" class=\"row_heading level0 row0\" >Alabama</th>\n",
              "                        <td id=\"T_23506338_5972_11ec_98cd_0242ac1c0002row0_col0\" class=\"data row0 col0\" >0.854565</td>\n",
              "            </tr>\n",
              "            <tr>\n",
              "                        <th id=\"T_23506338_5972_11ec_98cd_0242ac1c0002level0_row1\" class=\"row_heading level0 row1\" >Alaska</th>\n",
              "                        <td id=\"T_23506338_5972_11ec_98cd_0242ac1c0002row1_col0\" class=\"data row1 col0\" >0.926727</td>\n",
              "            </tr>\n",
              "            <tr>\n",
              "                        <th id=\"T_23506338_5972_11ec_98cd_0242ac1c0002level0_row2\" class=\"row_heading level0 row2\" >Arizona</th>\n",
              "                        <td id=\"T_23506338_5972_11ec_98cd_0242ac1c0002row2_col0\" class=\"data row2 col0\" >0.974450</td>\n",
              "            </tr>\n",
              "            <tr>\n",
              "                        <th id=\"T_23506338_5972_11ec_98cd_0242ac1c0002level0_row3\" class=\"row_heading level0 row3\" >Arkansas</th>\n",
              "                        <td id=\"T_23506338_5972_11ec_98cd_0242ac1c0002row3_col0\" class=\"data row3 col0\" >0.930758</td>\n",
              "            </tr>\n",
              "            <tr>\n",
              "                        <th id=\"T_23506338_5972_11ec_98cd_0242ac1c0002level0_row4\" class=\"row_heading level0 row4\" >California</th>\n",
              "                        <td id=\"T_23506338_5972_11ec_98cd_0242ac1c0002row4_col0\" class=\"data row4 col0\" >0.857567</td>\n",
              "            </tr>\n",
              "            <tr>\n",
              "                        <th id=\"T_23506338_5972_11ec_98cd_0242ac1c0002level0_row5\" class=\"row_heading level0 row5\" >Colorado</th>\n",
              "                        <td id=\"T_23506338_5972_11ec_98cd_0242ac1c0002row5_col0\" class=\"data row5 col0\" >0.831549</td>\n",
              "            </tr>\n",
              "            <tr>\n",
              "                        <th id=\"T_23506338_5972_11ec_98cd_0242ac1c0002level0_row6\" class=\"row_heading level0 row6\" >Connecticut</th>\n",
              "                        <td id=\"T_23506338_5972_11ec_98cd_0242ac1c0002row6_col0\" class=\"data row6 col0\" >0.896226</td>\n",
              "            </tr>\n",
              "            <tr>\n",
              "                        <th id=\"T_23506338_5972_11ec_98cd_0242ac1c0002level0_row7\" class=\"row_heading level0 row7\" >Delaware</th>\n",
              "                        <td id=\"T_23506338_5972_11ec_98cd_0242ac1c0002row7_col0\" class=\"data row7 col0\" >0.934231</td>\n",
              "            </tr>\n",
              "            <tr>\n",
              "                        <th id=\"T_23506338_5972_11ec_98cd_0242ac1c0002level0_row8\" class=\"row_heading level0 row8\" >District of Columbia</th>\n",
              "                        <td id=\"T_23506338_5972_11ec_98cd_0242ac1c0002row8_col0\" class=\"data row8 col0\" >0.868491</td>\n",
              "            </tr>\n",
              "            <tr>\n",
              "                        <th id=\"T_23506338_5972_11ec_98cd_0242ac1c0002level0_row9\" class=\"row_heading level0 row9\" >Florida</th>\n",
              "                        <td id=\"T_23506338_5972_11ec_98cd_0242ac1c0002row9_col0\" class=\"data row9 col0\" >0.978210</td>\n",
              "            </tr>\n",
              "            <tr>\n",
              "                        <th id=\"T_23506338_5972_11ec_98cd_0242ac1c0002level0_row10\" class=\"row_heading level0 row10\" >Georgia</th>\n",
              "                        <td id=\"T_23506338_5972_11ec_98cd_0242ac1c0002row10_col0\" class=\"data row10 col0\" >0.820084</td>\n",
              "            </tr>\n",
              "            <tr>\n",
              "                        <th id=\"T_23506338_5972_11ec_98cd_0242ac1c0002level0_row11\" class=\"row_heading level0 row11\" >Hawaii</th>\n",
              "                        <td id=\"T_23506338_5972_11ec_98cd_0242ac1c0002row11_col0\" class=\"data row11 col0\" >0.811797</td>\n",
              "            </tr>\n",
              "            <tr>\n",
              "                        <th id=\"T_23506338_5972_11ec_98cd_0242ac1c0002level0_row12\" class=\"row_heading level0 row12\" >Idaho</th>\n",
              "                        <td id=\"T_23506338_5972_11ec_98cd_0242ac1c0002row12_col0\" class=\"data row12 col0\" >0.968894</td>\n",
              "            </tr>\n",
              "            <tr>\n",
              "                        <th id=\"T_23506338_5972_11ec_98cd_0242ac1c0002level0_row13\" class=\"row_heading level0 row13\" >Illinois</th>\n",
              "                        <td id=\"T_23506338_5972_11ec_98cd_0242ac1c0002row13_col0\" class=\"data row13 col0\" >0.959040</td>\n",
              "            </tr>\n",
              "            <tr>\n",
              "                        <th id=\"T_23506338_5972_11ec_98cd_0242ac1c0002level0_row14\" class=\"row_heading level0 row14\" >Indiana</th>\n",
              "                        <td id=\"T_23506338_5972_11ec_98cd_0242ac1c0002row14_col0\" class=\"data row14 col0\" >0.951338</td>\n",
              "            </tr>\n",
              "            <tr>\n",
              "                        <th id=\"T_23506338_5972_11ec_98cd_0242ac1c0002level0_row15\" class=\"row_heading level0 row15\" >Iowa</th>\n",
              "                        <td id=\"T_23506338_5972_11ec_98cd_0242ac1c0002row15_col0\" class=\"data row15 col0\" >0.783292</td>\n",
              "            </tr>\n",
              "            <tr>\n",
              "                        <th id=\"T_23506338_5972_11ec_98cd_0242ac1c0002level0_row16\" class=\"row_heading level0 row16\" >Kansas</th>\n",
              "                        <td id=\"T_23506338_5972_11ec_98cd_0242ac1c0002row16_col0\" class=\"data row16 col0\" >0.948496</td>\n",
              "            </tr>\n",
              "            <tr>\n",
              "                        <th id=\"T_23506338_5972_11ec_98cd_0242ac1c0002level0_row17\" class=\"row_heading level0 row17\" >Kentucky</th>\n",
              "                        <td id=\"T_23506338_5972_11ec_98cd_0242ac1c0002row17_col0\" class=\"data row17 col0\" >0.912899</td>\n",
              "            </tr>\n",
              "            <tr>\n",
              "                        <th id=\"T_23506338_5972_11ec_98cd_0242ac1c0002level0_row18\" class=\"row_heading level0 row18\" >Louisiana</th>\n",
              "                        <td id=\"T_23506338_5972_11ec_98cd_0242ac1c0002row18_col0\" class=\"data row18 col0\" >0.924820</td>\n",
              "            </tr>\n",
              "            <tr>\n",
              "                        <th id=\"T_23506338_5972_11ec_98cd_0242ac1c0002level0_row19\" class=\"row_heading level0 row19\" >Maine</th>\n",
              "                        <td id=\"T_23506338_5972_11ec_98cd_0242ac1c0002row19_col0\" class=\"data row19 col0\" >0.876458</td>\n",
              "            </tr>\n",
              "            <tr>\n",
              "                        <th id=\"T_23506338_5972_11ec_98cd_0242ac1c0002level0_row20\" class=\"row_heading level0 row20\" >Maryland</th>\n",
              "                        <td id=\"T_23506338_5972_11ec_98cd_0242ac1c0002row20_col0\" class=\"data row20 col0\" >0.919563</td>\n",
              "            </tr>\n",
              "            <tr>\n",
              "                        <th id=\"T_23506338_5972_11ec_98cd_0242ac1c0002level0_row21\" class=\"row_heading level0 row21\" >Massachusetts</th>\n",
              "                        <td id=\"T_23506338_5972_11ec_98cd_0242ac1c0002row21_col0\" class=\"data row21 col0\" >0.922111</td>\n",
              "            </tr>\n",
              "            <tr>\n",
              "                        <th id=\"T_23506338_5972_11ec_98cd_0242ac1c0002level0_row22\" class=\"row_heading level0 row22\" >Michigan</th>\n",
              "                        <td id=\"T_23506338_5972_11ec_98cd_0242ac1c0002row22_col0\" class=\"data row22 col0\" >0.967099</td>\n",
              "            </tr>\n",
              "            <tr>\n",
              "                        <th id=\"T_23506338_5972_11ec_98cd_0242ac1c0002level0_row23\" class=\"row_heading level0 row23\" >Minnesota</th>\n",
              "                        <td id=\"T_23506338_5972_11ec_98cd_0242ac1c0002row23_col0\" class=\"data row23 col0\" >0.741865</td>\n",
              "            </tr>\n",
              "            <tr>\n",
              "                        <th id=\"T_23506338_5972_11ec_98cd_0242ac1c0002level0_row24\" class=\"row_heading level0 row24\" >Mississippi</th>\n",
              "                        <td id=\"T_23506338_5972_11ec_98cd_0242ac1c0002row24_col0\" class=\"data row24 col0\" >0.952886</td>\n",
              "            </tr>\n",
              "            <tr>\n",
              "                        <th id=\"T_23506338_5972_11ec_98cd_0242ac1c0002level0_row25\" class=\"row_heading level0 row25\" >Missouri</th>\n",
              "                        <td id=\"T_23506338_5972_11ec_98cd_0242ac1c0002row25_col0\" class=\"data row25 col0\" >0.961505</td>\n",
              "            </tr>\n",
              "            <tr>\n",
              "                        <th id=\"T_23506338_5972_11ec_98cd_0242ac1c0002level0_row26\" class=\"row_heading level0 row26\" >Nevada</th>\n",
              "                        <td id=\"T_23506338_5972_11ec_98cd_0242ac1c0002row26_col0\" class=\"data row26 col0\" >0.877808</td>\n",
              "            </tr>\n",
              "            <tr>\n",
              "                        <th id=\"T_23506338_5972_11ec_98cd_0242ac1c0002level0_row27\" class=\"row_heading level0 row27\" >New Hampshire</th>\n",
              "                        <td id=\"T_23506338_5972_11ec_98cd_0242ac1c0002row27_col0\" class=\"data row27 col0\" >0.916325</td>\n",
              "            </tr>\n",
              "            <tr>\n",
              "                        <th id=\"T_23506338_5972_11ec_98cd_0242ac1c0002level0_row28\" class=\"row_heading level0 row28\" >New Jersey</th>\n",
              "                        <td id=\"T_23506338_5972_11ec_98cd_0242ac1c0002row28_col0\" class=\"data row28 col0\" >0.964952</td>\n",
              "            </tr>\n",
              "            <tr>\n",
              "                        <th id=\"T_23506338_5972_11ec_98cd_0242ac1c0002level0_row29\" class=\"row_heading level0 row29\" >New York</th>\n",
              "                        <td id=\"T_23506338_5972_11ec_98cd_0242ac1c0002row29_col0\" class=\"data row29 col0\" >0.940793</td>\n",
              "            </tr>\n",
              "            <tr>\n",
              "                        <th id=\"T_23506338_5972_11ec_98cd_0242ac1c0002level0_row30\" class=\"row_heading level0 row30\" >North Carolina</th>\n",
              "                        <td id=\"T_23506338_5972_11ec_98cd_0242ac1c0002row30_col0\" class=\"data row30 col0\" >0.958387</td>\n",
              "            </tr>\n",
              "            <tr>\n",
              "                        <th id=\"T_23506338_5972_11ec_98cd_0242ac1c0002level0_row31\" class=\"row_heading level0 row31\" >North Dakota</th>\n",
              "                        <td id=\"T_23506338_5972_11ec_98cd_0242ac1c0002row31_col0\" class=\"data row31 col0\" >0.935620</td>\n",
              "            </tr>\n",
              "            <tr>\n",
              "                        <th id=\"T_23506338_5972_11ec_98cd_0242ac1c0002level0_row32\" class=\"row_heading level0 row32\" >Ohio</th>\n",
              "                        <td id=\"T_23506338_5972_11ec_98cd_0242ac1c0002row32_col0\" class=\"data row32 col0\" >0.945845</td>\n",
              "            </tr>\n",
              "            <tr>\n",
              "                        <th id=\"T_23506338_5972_11ec_98cd_0242ac1c0002level0_row33\" class=\"row_heading level0 row33\" >Oklahoma</th>\n",
              "                        <td id=\"T_23506338_5972_11ec_98cd_0242ac1c0002row33_col0\" class=\"data row33 col0\" >0.922270</td>\n",
              "            </tr>\n",
              "            <tr>\n",
              "                        <th id=\"T_23506338_5972_11ec_98cd_0242ac1c0002level0_row34\" class=\"row_heading level0 row34\" >Oregon</th>\n",
              "                        <td id=\"T_23506338_5972_11ec_98cd_0242ac1c0002row34_col0\" class=\"data row34 col0\" >0.945496</td>\n",
              "            </tr>\n",
              "            <tr>\n",
              "                        <th id=\"T_23506338_5972_11ec_98cd_0242ac1c0002level0_row35\" class=\"row_heading level0 row35\" >Pennsylvania</th>\n",
              "                        <td id=\"T_23506338_5972_11ec_98cd_0242ac1c0002row35_col0\" class=\"data row35 col0\" >0.937147</td>\n",
              "            </tr>\n",
              "            <tr>\n",
              "                        <th id=\"T_23506338_5972_11ec_98cd_0242ac1c0002level0_row36\" class=\"row_heading level0 row36\" >Puerto Rico Commonwealth</th>\n",
              "                        <td id=\"T_23506338_5972_11ec_98cd_0242ac1c0002row36_col0\" class=\"data row36 col0\" >0.744270</td>\n",
              "            </tr>\n",
              "            <tr>\n",
              "                        <th id=\"T_23506338_5972_11ec_98cd_0242ac1c0002level0_row37\" class=\"row_heading level0 row37\" >Rhode Island</th>\n",
              "                        <td id=\"T_23506338_5972_11ec_98cd_0242ac1c0002row37_col0\" class=\"data row37 col0\" >0.724129</td>\n",
              "            </tr>\n",
              "            <tr>\n",
              "                        <th id=\"T_23506338_5972_11ec_98cd_0242ac1c0002level0_row38\" class=\"row_heading level0 row38\" >South Carolina</th>\n",
              "                        <td id=\"T_23506338_5972_11ec_98cd_0242ac1c0002row38_col0\" class=\"data row38 col0\" >0.955289</td>\n",
              "            </tr>\n",
              "            <tr>\n",
              "                        <th id=\"T_23506338_5972_11ec_98cd_0242ac1c0002level0_row39\" class=\"row_heading level0 row39\" >Tennessee</th>\n",
              "                        <td id=\"T_23506338_5972_11ec_98cd_0242ac1c0002row39_col0\" class=\"data row39 col0\" >0.946063</td>\n",
              "            </tr>\n",
              "            <tr>\n",
              "                        <th id=\"T_23506338_5972_11ec_98cd_0242ac1c0002level0_row40\" class=\"row_heading level0 row40\" >Texas</th>\n",
              "                        <td id=\"T_23506338_5972_11ec_98cd_0242ac1c0002row40_col0\" class=\"data row40 col0\" >1.000000</td>\n",
              "            </tr>\n",
              "            <tr>\n",
              "                        <th id=\"T_23506338_5972_11ec_98cd_0242ac1c0002level0_row41\" class=\"row_heading level0 row41\" >Utah</th>\n",
              "                        <td id=\"T_23506338_5972_11ec_98cd_0242ac1c0002row41_col0\" class=\"data row41 col0\" >0.966402</td>\n",
              "            </tr>\n",
              "            <tr>\n",
              "                        <th id=\"T_23506338_5972_11ec_98cd_0242ac1c0002level0_row42\" class=\"row_heading level0 row42\" >Virginia</th>\n",
              "                        <td id=\"T_23506338_5972_11ec_98cd_0242ac1c0002row42_col0\" class=\"data row42 col0\" >0.856903</td>\n",
              "            </tr>\n",
              "            <tr>\n",
              "                        <th id=\"T_23506338_5972_11ec_98cd_0242ac1c0002level0_row43\" class=\"row_heading level0 row43\" >West Virginia</th>\n",
              "                        <td id=\"T_23506338_5972_11ec_98cd_0242ac1c0002row43_col0\" class=\"data row43 col0\" >0.775145</td>\n",
              "            </tr>\n",
              "            <tr>\n",
              "                        <th id=\"T_23506338_5972_11ec_98cd_0242ac1c0002level0_row44\" class=\"row_heading level0 row44\" >Wisconsin</th>\n",
              "                        <td id=\"T_23506338_5972_11ec_98cd_0242ac1c0002row44_col0\" class=\"data row44 col0\" >0.955399</td>\n",
              "            </tr>\n",
              "            <tr>\n",
              "                        <th id=\"T_23506338_5972_11ec_98cd_0242ac1c0002level0_row45\" class=\"row_heading level0 row45\" >Wyoming</th>\n",
              "                        <td id=\"T_23506338_5972_11ec_98cd_0242ac1c0002row45_col0\" class=\"data row45 col0\" >0.886596</td>\n",
              "            </tr>\n",
              "    </tbody></table>"
            ],
            "text/plain": [
              "<pandas.io.formats.style.Styler at 0x7f28e9f2b810>"
            ]
          },
          "metadata": {},
          "execution_count": 10
        }
      ]
    },
    {
      "cell_type": "code",
      "metadata": {
        "id": "bwVlgpjRbUzV"
      },
      "source": [
        "maskmandate=maskmandate[(maskmandate.State.isin(mi.index))]#&(maskmandate.End_date>enddate)]"
      ],
      "execution_count": null,
      "outputs": []
    },
    {
      "cell_type": "code",
      "metadata": {
        "colab": {
          "base_uri": "https://localhost:8080/"
        },
        "id": "t5JmYI96bUzV",
        "outputId": "faccf9cc-e762-4bce-87da-4f6dd0ba8096"
      },
      "source": [
        "set(list(maskmandate.State))"
      ],
      "execution_count": null,
      "outputs": [
        {
          "output_type": "execute_result",
          "data": {
            "text/plain": [
              "{'Alabama',\n",
              " 'Alaska',\n",
              " 'Arizona',\n",
              " 'Arkansas',\n",
              " 'California',\n",
              " 'Colorado',\n",
              " 'Connecticut',\n",
              " 'Delaware',\n",
              " 'Florida',\n",
              " 'Georgia',\n",
              " 'Hawaii',\n",
              " 'Idaho',\n",
              " 'Illinois',\n",
              " 'Indiana',\n",
              " 'Iowa',\n",
              " 'Kansas',\n",
              " 'Kentucky',\n",
              " 'Louisiana',\n",
              " 'Maine',\n",
              " 'Maryland',\n",
              " 'Massachusetts',\n",
              " 'Michigan',\n",
              " 'Minnesota',\n",
              " 'Mississippi',\n",
              " 'Missouri',\n",
              " 'Nevada',\n",
              " 'New Hampshire',\n",
              " 'New Jersey',\n",
              " 'New York',\n",
              " 'North Carolina',\n",
              " 'North Dakota',\n",
              " 'Ohio',\n",
              " 'Oklahoma',\n",
              " 'Oregon',\n",
              " 'Pennsylvania',\n",
              " 'Rhode Island',\n",
              " 'South Carolina',\n",
              " 'Tennessee',\n",
              " 'Texas',\n",
              " 'Utah',\n",
              " 'Virginia',\n",
              " 'West Virginia',\n",
              " 'Wisconsin',\n",
              " 'Wyoming'}"
            ]
          },
          "metadata": {},
          "execution_count": 12
        }
      ]
    },
    {
      "cell_type": "code",
      "metadata": {
        "id": "ONNjRLFZbUzW"
      },
      "source": [
        "final_series = dfpivot[[ 'Texas','Alabama',\n",
        " 'Alaska',\n",
        " 'Arizona',\n",
        " 'Arkansas',\n",
        " 'California',\n",
        " 'Colorado',\n",
        " 'Connecticut',\n",
        " 'Delaware',\n",
        " 'Florida',\n",
        " 'Georgia',\n",
        " 'Hawaii',\n",
        " 'Idaho',\n",
        " 'Illinois',\n",
        " 'Indiana',\n",
        " 'Iowa',\n",
        " 'Kansas',\n",
        " 'Kentucky',\n",
        " 'Louisiana',\n",
        " 'Maine',\n",
        " 'Maryland',\n",
        " 'Massachusetts',\n",
        " 'Michigan',\n",
        " 'Minnesota',\n",
        " 'Mississippi',\n",
        " 'Missouri',\n",
        " 'Nevada',\n",
        " 'New Hampshire',\n",
        " 'New Jersey',\n",
        " 'New York',\n",
        " 'North Carolina',\n",
        " 'North Dakota',\n",
        " 'Ohio',\n",
        " 'Oklahoma',\n",
        " 'Oregon',\n",
        " 'Pennsylvania',\n",
        " 'Rhode Island',\n",
        " 'South Carolina',\n",
        " 'Tennessee',\n",
        " 'Utah',\n",
        " 'Virginia',\n",
        " 'West Virginia',\n",
        " 'Wisconsin',\n",
        " 'Wyoming']]\n",
        " \n",
        "final_series.to_csv(\"Texas.csv\")"
      ],
      "execution_count": null,
      "outputs": []
    },
    {
      "cell_type": "code",
      "metadata": {
        "id": "1SoIJwBqc6z4"
      },
      "source": [
        ""
      ],
      "execution_count": null,
      "outputs": []
    },
    {
      "cell_type": "markdown",
      "metadata": {
        "id": "mG7Iiu66d5Im"
      },
      "source": [
        "# Louisiana reissue"
      ]
    },
    {
      "cell_type": "code",
      "metadata": {
        "id": "AJb209LZd5Im"
      },
      "source": [
        "import datetime\n",
        "from datetime import date\n",
        "from dateutil.relativedelta import relativedelta,MO"
      ],
      "execution_count": null,
      "outputs": []
    },
    {
      "cell_type": "code",
      "metadata": {
        "colab": {
          "base_uri": "https://localhost:8080/"
        },
        "id": "nCYYY3C3d5Im",
        "outputId": "496d59d5-0350-4319-90f1-508ebe03ed0d"
      },
      "source": [
        "dfpivot.Texas.head(10)"
      ],
      "execution_count": null,
      "outputs": [
        {
          "output_type": "execute_result",
          "data": {
            "text/plain": [
              "time_value\n",
              "2020-01-27    0.000000\n",
              "2020-02-03    0.000000\n",
              "2020-02-10    0.000000\n",
              "2020-02-17    0.000000\n",
              "2020-02-24    0.000000\n",
              "2020-03-02    0.000000\n",
              "2020-03-09    0.044277\n",
              "2020-03-16    0.245225\n",
              "2020-03-23    2.312611\n",
              "2020-03-30    8.204829\n",
              "Name: Texas, dtype: float64"
            ]
          },
          "metadata": {},
          "execution_count": 15
        }
      ]
    },
    {
      "cell_type": "code",
      "metadata": {
        "id": "ifJN39jgd5In"
      },
      "source": [
        "dfpivot_cor = dfpivot[(dfpivot.index >= \"2020-03-16\")&(dfpivot.index <= \"2021-08-09\")]\n",
        "#dfpivot_cor = dfpivot[(dfpivot.index > \"2020-5-4\")&(dfpivot.index < \"2021-6-30\")]#\n"
      ],
      "execution_count": null,
      "outputs": []
    },
    {
      "cell_type": "code",
      "metadata": {
        "colab": {
          "base_uri": "https://localhost:8080/"
        },
        "id": "w8Om0pU2d5In",
        "outputId": "6ca814d6-421d-47ef-fe42-d26c4d7ca5a9"
      },
      "source": [
        "pd.to_datetime(\"2021-8-16\")+relativedelta(weeks=+8)"
      ],
      "execution_count": null,
      "outputs": [
        {
          "output_type": "execute_result",
          "data": {
            "text/plain": [
              "Timestamp('2021-10-11 00:00:00')"
            ]
          },
          "metadata": {},
          "execution_count": 17
        }
      ]
    },
    {
      "cell_type": "code",
      "metadata": {
        "colab": {
          "base_uri": "https://localhost:8080/"
        },
        "id": "VxrqSS6zd5In",
        "outputId": "0aa3e92a-8ecd-426f-e482-2e2bda2c8a1c"
      },
      "source": [
        "print(dfpivot_cor.head(1))\n",
        "print(dfpivot_cor.tail(1))"
      ],
      "execution_count": null,
      "outputs": [
        {
          "output_type": "stream",
          "name": "stdout",
          "text": [
            "             Alabama    Alaska   Arizona  ...  West Virginia  Wisconsin   Wyoming\n",
            "time_value                                ...                                    \n",
            "2020-03-16  0.731479  0.138345  0.188644  ...            0.0   0.822953  0.343449\n",
            "\n",
            "[1 rows x 52 columns]\n",
            "               Alabama      Alaska  ...   Wisconsin     Wyoming\n",
            "time_value                          ...                        \n",
            "2021-08-09  466.846502  302.284078  ...  145.662653  267.718537\n",
            "\n",
            "[1 rows x 52 columns]\n"
          ]
        }
      ]
    },
    {
      "cell_type": "code",
      "metadata": {
        "colab": {
          "base_uri": "https://localhost:8080/"
        },
        "id": "8jcumsAyd5In",
        "outputId": "58464889-9eb7-49ea-8e2f-dca06bf06c30"
      },
      "source": [
        "maskmandate = pd.read_csv(\"/Statewidemaskorders.csv\")\n",
        "maskmandate[['Start_date', 'End_date']] = maskmandate['Effective'].str.split(' - ', expand=True)\n",
        "maskmandate['Start_date']=pd.to_datetime(maskmandate['Start_date'])\n",
        "maskmandate.End_date[maskmandate.End_date == 'present'] = \"November 21, 2021\"\n",
        "maskmandate['End_date']=pd.to_datetime(maskmandate['End_date'])\n",
        "state_names=[\"Alabama\", \"Alaska\", \"Arizona\", \"Arkansas\", \"California\", \"Colorado\", \"Connecticut\", \n",
        "             \"Delaware\", \"Florida\", \"Georgia\", \"Hawaii\", \"Idaho\", \"Illinois\", \"Indiana\", \"Iowa\", \n",
        "             \"Kansas\", \"Kentucky\", \"Louisiana\", \"Maine\", \"Maryland\", \"Massachusetts\", \"Michigan\", \n",
        "             \"Minnesota\", \"Mississippi\", \"Missouri\", \"Montana\", \"Nebraska\", \"Nevada\", \"New Hampshire\", \n",
        "             \"New Jersey\", \"New Mexico\", \"New York\", \"North Carolina\", \"North Dakota\", \"Ohio\", \"Oklahoma\", \n",
        "             \"Oregon\", \"Pennsylvania\", \"Rhode Island\", \"South Carolina\", \"South Dakota\", \"Tennessee\", \"Texas\", \n",
        "             \"Utah\", \"Vermont\", \"Virginia\", \"Washington\", \"West Virginia\", \"Wisconsin\", \"Wyoming\"]\n",
        "nomandate = list(set(state_names) - set(maskmandate.State.values))\n",
        "nomandatedf = pd.DataFrame(data={'State':nomandate})\n",
        "maskmandate = maskmandate.append(nomandatedf)"
      ],
      "execution_count": null,
      "outputs": [
        {
          "output_type": "stream",
          "name": "stderr",
          "text": [
            "/usr/local/lib/python3.7/dist-packages/ipykernel_launcher.py:4: SettingWithCopyWarning: \n",
            "A value is trying to be set on a copy of a slice from a DataFrame\n",
            "\n",
            "See the caveats in the documentation: https://pandas.pydata.org/pandas-docs/stable/user_guide/indexing.html#returning-a-view-versus-a-copy\n",
            "  after removing the cwd from sys.path.\n"
          ]
        }
      ]
    },
    {
      "cell_type": "code",
      "metadata": {
        "colab": {
          "base_uri": "https://localhost:8080/",
          "height": 1000
        },
        "id": "zGM758Xsd5In",
        "outputId": "aafb54e4-6364-4015-a32e-2b26bb1240e9"
      },
      "source": [
        "corr = dfpivot_cor.pct_change().dropna().corr()\n",
        "mi = pd.DataFrame(corr.Louisiana)\n",
        "mi = mi[mi.Louisiana>0.7]\n",
        "mi.style.background_gradient(cmap='coolwarm')"
      ],
      "execution_count": null,
      "outputs": [
        {
          "output_type": "execute_result",
          "data": {
            "text/html": [
              "<style  type=\"text/css\" >\n",
              "#T_5b1338ec_597a_11ec_98cd_0242ac1c0002row0_col0{\n",
              "            background-color:  #3b4cc0;\n",
              "            color:  #f1f1f1;\n",
              "        }#T_5b1338ec_597a_11ec_98cd_0242ac1c0002row1_col0{\n",
              "            background-color:  #e5d8d1;\n",
              "            color:  #000000;\n",
              "        }#T_5b1338ec_597a_11ec_98cd_0242ac1c0002row2_col0{\n",
              "            background-color:  #edd2c3;\n",
              "            color:  #000000;\n",
              "        }#T_5b1338ec_597a_11ec_98cd_0242ac1c0002row3_col0{\n",
              "            background-color:  #dfdbd9;\n",
              "            color:  #000000;\n",
              "        }#T_5b1338ec_597a_11ec_98cd_0242ac1c0002row4_col0{\n",
              "            background-color:  #aec9fc;\n",
              "            color:  #000000;\n",
              "        }#T_5b1338ec_597a_11ec_98cd_0242ac1c0002row5_col0{\n",
              "            background-color:  #506bda;\n",
              "            color:  #000000;\n",
              "        }#T_5b1338ec_597a_11ec_98cd_0242ac1c0002row6_col0,#T_5b1338ec_597a_11ec_98cd_0242ac1c0002row8_col0{\n",
              "            background-color:  #d5dbe5;\n",
              "            color:  #000000;\n",
              "        }#T_5b1338ec_597a_11ec_98cd_0242ac1c0002row7_col0{\n",
              "            background-color:  #e3d9d3;\n",
              "            color:  #000000;\n",
              "        }#T_5b1338ec_597a_11ec_98cd_0242ac1c0002row9_col0{\n",
              "            background-color:  #f7af91;\n",
              "            color:  #000000;\n",
              "        }#T_5b1338ec_597a_11ec_98cd_0242ac1c0002row10_col0{\n",
              "            background-color:  #c4d5f3;\n",
              "            color:  #000000;\n",
              "        }#T_5b1338ec_597a_11ec_98cd_0242ac1c0002row11_col0{\n",
              "            background-color:  #7a9df8;\n",
              "            color:  #000000;\n",
              "        }#T_5b1338ec_597a_11ec_98cd_0242ac1c0002row12_col0{\n",
              "            background-color:  #f7b497;\n",
              "            color:  #000000;\n",
              "        }#T_5b1338ec_597a_11ec_98cd_0242ac1c0002row13_col0{\n",
              "            background-color:  #f7a98b;\n",
              "            color:  #000000;\n",
              "        }#T_5b1338ec_597a_11ec_98cd_0242ac1c0002row14_col0{\n",
              "            background-color:  #f5c4ac;\n",
              "            color:  #000000;\n",
              "        }#T_5b1338ec_597a_11ec_98cd_0242ac1c0002row15_col0,#T_5b1338ec_597a_11ec_98cd_0242ac1c0002row34_col0{\n",
              "            background-color:  #e8d6cc;\n",
              "            color:  #000000;\n",
              "        }#T_5b1338ec_597a_11ec_98cd_0242ac1c0002row16_col0{\n",
              "            background-color:  #d1dae9;\n",
              "            color:  #000000;\n",
              "        }#T_5b1338ec_597a_11ec_98cd_0242ac1c0002row17_col0{\n",
              "            background-color:  #b40426;\n",
              "            color:  #f1f1f1;\n",
              "        }#T_5b1338ec_597a_11ec_98cd_0242ac1c0002row18_col0{\n",
              "            background-color:  #7396f5;\n",
              "            color:  #000000;\n",
              "        }#T_5b1338ec_597a_11ec_98cd_0242ac1c0002row19_col0{\n",
              "            background-color:  #dbdcde;\n",
              "            color:  #000000;\n",
              "        }#T_5b1338ec_597a_11ec_98cd_0242ac1c0002row20_col0,#T_5b1338ec_597a_11ec_98cd_0242ac1c0002row25_col0{\n",
              "            background-color:  #f4c6af;\n",
              "            color:  #000000;\n",
              "        }#T_5b1338ec_597a_11ec_98cd_0242ac1c0002row21_col0{\n",
              "            background-color:  #f5c1a9;\n",
              "            color:  #000000;\n",
              "        }#T_5b1338ec_597a_11ec_98cd_0242ac1c0002row22_col0,#T_5b1338ec_597a_11ec_98cd_0242ac1c0002row37_col0{\n",
              "            background-color:  #f6bfa6;\n",
              "            color:  #000000;\n",
              "        }#T_5b1338ec_597a_11ec_98cd_0242ac1c0002row23_col0{\n",
              "            background-color:  #ecd3c5;\n",
              "            color:  #000000;\n",
              "        }#T_5b1338ec_597a_11ec_98cd_0242ac1c0002row24_col0{\n",
              "            background-color:  #aac7fd;\n",
              "            color:  #000000;\n",
              "        }#T_5b1338ec_597a_11ec_98cd_0242ac1c0002row26_col0{\n",
              "            background-color:  #f2c9b4;\n",
              "            color:  #000000;\n",
              "        }#T_5b1338ec_597a_11ec_98cd_0242ac1c0002row27_col0{\n",
              "            background-color:  #536edd;\n",
              "            color:  #000000;\n",
              "        }#T_5b1338ec_597a_11ec_98cd_0242ac1c0002row28_col0{\n",
              "            background-color:  #eed0c0;\n",
              "            color:  #000000;\n",
              "        }#T_5b1338ec_597a_11ec_98cd_0242ac1c0002row29_col0{\n",
              "            background-color:  #f08b6e;\n",
              "            color:  #000000;\n",
              "        }#T_5b1338ec_597a_11ec_98cd_0242ac1c0002row30_col0{\n",
              "            background-color:  #e4d9d2;\n",
              "            color:  #000000;\n",
              "        }#T_5b1338ec_597a_11ec_98cd_0242ac1c0002row31_col0{\n",
              "            background-color:  #e7d7ce;\n",
              "            color:  #000000;\n",
              "        }#T_5b1338ec_597a_11ec_98cd_0242ac1c0002row32_col0,#T_5b1338ec_597a_11ec_98cd_0242ac1c0002row33_col0{\n",
              "            background-color:  #ebd3c6;\n",
              "            color:  #000000;\n",
              "        }#T_5b1338ec_597a_11ec_98cd_0242ac1c0002row35_col0{\n",
              "            background-color:  #f7ac8e;\n",
              "            color:  #000000;\n",
              "        }#T_5b1338ec_597a_11ec_98cd_0242ac1c0002row36_col0{\n",
              "            background-color:  #f7b99e;\n",
              "            color:  #000000;\n",
              "        }#T_5b1338ec_597a_11ec_98cd_0242ac1c0002row38_col0{\n",
              "            background-color:  #f7aa8c;\n",
              "            color:  #000000;\n",
              "        }#T_5b1338ec_597a_11ec_98cd_0242ac1c0002row39_col0{\n",
              "            background-color:  #445acc;\n",
              "            color:  #f1f1f1;\n",
              "        }#T_5b1338ec_597a_11ec_98cd_0242ac1c0002row40_col0{\n",
              "            background-color:  #9fbfff;\n",
              "            color:  #000000;\n",
              "        }#T_5b1338ec_597a_11ec_98cd_0242ac1c0002row41_col0{\n",
              "            background-color:  #f3c8b2;\n",
              "            color:  #000000;\n",
              "        }#T_5b1338ec_597a_11ec_98cd_0242ac1c0002row42_col0{\n",
              "            background-color:  #c5d6f2;\n",
              "            color:  #000000;\n",
              "        }</style><table id=\"T_5b1338ec_597a_11ec_98cd_0242ac1c0002\" class=\"dataframe\"><thead>    <tr>        <th class=\"blank level0\" ></th>        <th class=\"col_heading level0 col0\" >Louisiana</th>    </tr></thead><tbody>\n",
              "                <tr>\n",
              "                        <th id=\"T_5b1338ec_597a_11ec_98cd_0242ac1c0002level0_row0\" class=\"row_heading level0 row0\" >Alabama</th>\n",
              "                        <td id=\"T_5b1338ec_597a_11ec_98cd_0242ac1c0002row0_col0\" class=\"data row0 col0\" >0.712461</td>\n",
              "            </tr>\n",
              "            <tr>\n",
              "                        <th id=\"T_5b1338ec_597a_11ec_98cd_0242ac1c0002level0_row1\" class=\"row_heading level0 row1\" >Alaska</th>\n",
              "                        <td id=\"T_5b1338ec_597a_11ec_98cd_0242ac1c0002row1_col0\" class=\"data row1 col0\" >0.865775</td>\n",
              "            </tr>\n",
              "            <tr>\n",
              "                        <th id=\"T_5b1338ec_597a_11ec_98cd_0242ac1c0002level0_row2\" class=\"row_heading level0 row2\" >Arizona</th>\n",
              "                        <td id=\"T_5b1338ec_597a_11ec_98cd_0242ac1c0002row2_col0\" class=\"data row2 col0\" >0.875565</td>\n",
              "            </tr>\n",
              "            <tr>\n",
              "                        <th id=\"T_5b1338ec_597a_11ec_98cd_0242ac1c0002level0_row3\" class=\"row_heading level0 row3\" >Arkansas</th>\n",
              "                        <td id=\"T_5b1338ec_597a_11ec_98cd_0242ac1c0002row3_col0\" class=\"data row3 col0\" >0.859357</td>\n",
              "            </tr>\n",
              "            <tr>\n",
              "                        <th id=\"T_5b1338ec_597a_11ec_98cd_0242ac1c0002level0_row4\" class=\"row_heading level0 row4\" >California</th>\n",
              "                        <td id=\"T_5b1338ec_597a_11ec_98cd_0242ac1c0002row4_col0\" class=\"data row4 col0\" >0.811898</td>\n",
              "            </tr>\n",
              "            <tr>\n",
              "                        <th id=\"T_5b1338ec_597a_11ec_98cd_0242ac1c0002level0_row5\" class=\"row_heading level0 row5\" >Colorado</th>\n",
              "                        <td id=\"T_5b1338ec_597a_11ec_98cd_0242ac1c0002row5_col0\" class=\"data row5 col0\" >0.733303</td>\n",
              "            </tr>\n",
              "            <tr>\n",
              "                        <th id=\"T_5b1338ec_597a_11ec_98cd_0242ac1c0002level0_row6\" class=\"row_heading level0 row6\" >Connecticut</th>\n",
              "                        <td id=\"T_5b1338ec_597a_11ec_98cd_0242ac1c0002row6_col0\" class=\"data row6 col0\" >0.847697</td>\n",
              "            </tr>\n",
              "            <tr>\n",
              "                        <th id=\"T_5b1338ec_597a_11ec_98cd_0242ac1c0002level0_row7\" class=\"row_heading level0 row7\" >Delaware</th>\n",
              "                        <td id=\"T_5b1338ec_597a_11ec_98cd_0242ac1c0002row7_col0\" class=\"data row7 col0\" >0.863492</td>\n",
              "            </tr>\n",
              "            <tr>\n",
              "                        <th id=\"T_5b1338ec_597a_11ec_98cd_0242ac1c0002level0_row8\" class=\"row_heading level0 row8\" >District of Columbia</th>\n",
              "                        <td id=\"T_5b1338ec_597a_11ec_98cd_0242ac1c0002row8_col0\" class=\"data row8 col0\" >0.847958</td>\n",
              "            </tr>\n",
              "            <tr>\n",
              "                        <th id=\"T_5b1338ec_597a_11ec_98cd_0242ac1c0002level0_row9\" class=\"row_heading level0 row9\" >Florida</th>\n",
              "                        <td id=\"T_5b1338ec_597a_11ec_98cd_0242ac1c0002row9_col0\" class=\"data row9 col0\" >0.911590</td>\n",
              "            </tr>\n",
              "            <tr>\n",
              "                        <th id=\"T_5b1338ec_597a_11ec_98cd_0242ac1c0002level0_row10\" class=\"row_heading level0 row10\" >Georgia</th>\n",
              "                        <td id=\"T_5b1338ec_597a_11ec_98cd_0242ac1c0002row10_col0\" class=\"data row10 col0\" >0.831456</td>\n",
              "            </tr>\n",
              "            <tr>\n",
              "                        <th id=\"T_5b1338ec_597a_11ec_98cd_0242ac1c0002level0_row11\" class=\"row_heading level0 row11\" >Hawaii</th>\n",
              "                        <td id=\"T_5b1338ec_597a_11ec_98cd_0242ac1c0002row11_col0\" class=\"data row11 col0\" >0.769406</td>\n",
              "            </tr>\n",
              "            <tr>\n",
              "                        <th id=\"T_5b1338ec_597a_11ec_98cd_0242ac1c0002level0_row12\" class=\"row_heading level0 row12\" >Idaho</th>\n",
              "                        <td id=\"T_5b1338ec_597a_11ec_98cd_0242ac1c0002row12_col0\" class=\"data row12 col0\" >0.906959</td>\n",
              "            </tr>\n",
              "            <tr>\n",
              "                        <th id=\"T_5b1338ec_597a_11ec_98cd_0242ac1c0002level0_row13\" class=\"row_heading level0 row13\" >Illinois</th>\n",
              "                        <td id=\"T_5b1338ec_597a_11ec_98cd_0242ac1c0002row13_col0\" class=\"data row13 col0\" >0.916607</td>\n",
              "            </tr>\n",
              "            <tr>\n",
              "                        <th id=\"T_5b1338ec_597a_11ec_98cd_0242ac1c0002level0_row14\" class=\"row_heading level0 row14\" >Indiana</th>\n",
              "                        <td id=\"T_5b1338ec_597a_11ec_98cd_0242ac1c0002row14_col0\" class=\"data row14 col0\" >0.893235</td>\n",
              "            </tr>\n",
              "            <tr>\n",
              "                        <th id=\"T_5b1338ec_597a_11ec_98cd_0242ac1c0002level0_row15\" class=\"row_heading level0 row15\" >Kansas</th>\n",
              "                        <td id=\"T_5b1338ec_597a_11ec_98cd_0242ac1c0002row15_col0\" class=\"data row15 col0\" >0.869031</td>\n",
              "            </tr>\n",
              "            <tr>\n",
              "                        <th id=\"T_5b1338ec_597a_11ec_98cd_0242ac1c0002level0_row16\" class=\"row_heading level0 row16\" >Kentucky</th>\n",
              "                        <td id=\"T_5b1338ec_597a_11ec_98cd_0242ac1c0002row16_col0\" class=\"data row16 col0\" >0.843305</td>\n",
              "            </tr>\n",
              "            <tr>\n",
              "                        <th id=\"T_5b1338ec_597a_11ec_98cd_0242ac1c0002level0_row17\" class=\"row_heading level0 row17\" >Louisiana</th>\n",
              "                        <td id=\"T_5b1338ec_597a_11ec_98cd_0242ac1c0002row17_col0\" class=\"data row17 col0\" >1.000000</td>\n",
              "            </tr>\n",
              "            <tr>\n",
              "                        <th id=\"T_5b1338ec_597a_11ec_98cd_0242ac1c0002level0_row18\" class=\"row_heading level0 row18\" >Maine</th>\n",
              "                        <td id=\"T_5b1338ec_597a_11ec_98cd_0242ac1c0002row18_col0\" class=\"data row18 col0\" >0.763581</td>\n",
              "            </tr>\n",
              "            <tr>\n",
              "                        <th id=\"T_5b1338ec_597a_11ec_98cd_0242ac1c0002level0_row19\" class=\"row_heading level0 row19\" >Maryland</th>\n",
              "                        <td id=\"T_5b1338ec_597a_11ec_98cd_0242ac1c0002row19_col0\" class=\"data row19 col0\" >0.854431</td>\n",
              "            </tr>\n",
              "            <tr>\n",
              "                        <th id=\"T_5b1338ec_597a_11ec_98cd_0242ac1c0002level0_row20\" class=\"row_heading level0 row20\" >Massachusetts</th>\n",
              "                        <td id=\"T_5b1338ec_597a_11ec_98cd_0242ac1c0002row20_col0\" class=\"data row20 col0\" >0.890535</td>\n",
              "            </tr>\n",
              "            <tr>\n",
              "                        <th id=\"T_5b1338ec_597a_11ec_98cd_0242ac1c0002level0_row21\" class=\"row_heading level0 row21\" >Michigan</th>\n",
              "                        <td id=\"T_5b1338ec_597a_11ec_98cd_0242ac1c0002row21_col0\" class=\"data row21 col0\" >0.895001</td>\n",
              "            </tr>\n",
              "            <tr>\n",
              "                        <th id=\"T_5b1338ec_597a_11ec_98cd_0242ac1c0002level0_row22\" class=\"row_heading level0 row22\" >Mississippi</th>\n",
              "                        <td id=\"T_5b1338ec_597a_11ec_98cd_0242ac1c0002row22_col0\" class=\"data row22 col0\" >0.897579</td>\n",
              "            </tr>\n",
              "            <tr>\n",
              "                        <th id=\"T_5b1338ec_597a_11ec_98cd_0242ac1c0002level0_row23\" class=\"row_heading level0 row23\" >Missouri</th>\n",
              "                        <td id=\"T_5b1338ec_597a_11ec_98cd_0242ac1c0002row23_col0\" class=\"data row23 col0\" >0.875157</td>\n",
              "            </tr>\n",
              "            <tr>\n",
              "                        <th id=\"T_5b1338ec_597a_11ec_98cd_0242ac1c0002level0_row24\" class=\"row_heading level0 row24\" >Nevada</th>\n",
              "                        <td id=\"T_5b1338ec_597a_11ec_98cd_0242ac1c0002row24_col0\" class=\"data row24 col0\" >0.808118</td>\n",
              "            </tr>\n",
              "            <tr>\n",
              "                        <th id=\"T_5b1338ec_597a_11ec_98cd_0242ac1c0002level0_row25\" class=\"row_heading level0 row25\" >New Hampshire</th>\n",
              "                        <td id=\"T_5b1338ec_597a_11ec_98cd_0242ac1c0002row25_col0\" class=\"data row25 col0\" >0.889930</td>\n",
              "            </tr>\n",
              "            <tr>\n",
              "                        <th id=\"T_5b1338ec_597a_11ec_98cd_0242ac1c0002level0_row26\" class=\"row_heading level0 row26\" >New Jersey</th>\n",
              "                        <td id=\"T_5b1338ec_597a_11ec_98cd_0242ac1c0002row26_col0\" class=\"data row26 col0\" >0.886567</td>\n",
              "            </tr>\n",
              "            <tr>\n",
              "                        <th id=\"T_5b1338ec_597a_11ec_98cd_0242ac1c0002level0_row27\" class=\"row_heading level0 row27\" >New Mexico</th>\n",
              "                        <td id=\"T_5b1338ec_597a_11ec_98cd_0242ac1c0002row27_col0\" class=\"data row27 col0\" >0.735108</td>\n",
              "            </tr>\n",
              "            <tr>\n",
              "                        <th id=\"T_5b1338ec_597a_11ec_98cd_0242ac1c0002level0_row28\" class=\"row_heading level0 row28\" >New York</th>\n",
              "                        <td id=\"T_5b1338ec_597a_11ec_98cd_0242ac1c0002row28_col0\" class=\"data row28 col0\" >0.877979</td>\n",
              "            </tr>\n",
              "            <tr>\n",
              "                        <th id=\"T_5b1338ec_597a_11ec_98cd_0242ac1c0002level0_row29\" class=\"row_heading level0 row29\" >North Carolina</th>\n",
              "                        <td id=\"T_5b1338ec_597a_11ec_98cd_0242ac1c0002row29_col0\" class=\"data row29 col0\" >0.937675</td>\n",
              "            </tr>\n",
              "            <tr>\n",
              "                        <th id=\"T_5b1338ec_597a_11ec_98cd_0242ac1c0002level0_row30\" class=\"row_heading level0 row30\" >North Dakota</th>\n",
              "                        <td id=\"T_5b1338ec_597a_11ec_98cd_0242ac1c0002row30_col0\" class=\"data row30 col0\" >0.864617</td>\n",
              "            </tr>\n",
              "            <tr>\n",
              "                        <th id=\"T_5b1338ec_597a_11ec_98cd_0242ac1c0002level0_row31\" class=\"row_heading level0 row31\" >Ohio</th>\n",
              "                        <td id=\"T_5b1338ec_597a_11ec_98cd_0242ac1c0002row31_col0\" class=\"data row31 col0\" >0.867544</td>\n",
              "            </tr>\n",
              "            <tr>\n",
              "                        <th id=\"T_5b1338ec_597a_11ec_98cd_0242ac1c0002level0_row32\" class=\"row_heading level0 row32\" >Oklahoma</th>\n",
              "                        <td id=\"T_5b1338ec_597a_11ec_98cd_0242ac1c0002row32_col0\" class=\"data row32 col0\" >0.874151</td>\n",
              "            </tr>\n",
              "            <tr>\n",
              "                        <th id=\"T_5b1338ec_597a_11ec_98cd_0242ac1c0002level0_row33\" class=\"row_heading level0 row33\" >Oregon</th>\n",
              "                        <td id=\"T_5b1338ec_597a_11ec_98cd_0242ac1c0002row33_col0\" class=\"data row33 col0\" >0.873630</td>\n",
              "            </tr>\n",
              "            <tr>\n",
              "                        <th id=\"T_5b1338ec_597a_11ec_98cd_0242ac1c0002level0_row34\" class=\"row_heading level0 row34\" >Pennsylvania</th>\n",
              "                        <td id=\"T_5b1338ec_597a_11ec_98cd_0242ac1c0002row34_col0\" class=\"data row34 col0\" >0.869609</td>\n",
              "            </tr>\n",
              "            <tr>\n",
              "                        <th id=\"T_5b1338ec_597a_11ec_98cd_0242ac1c0002level0_row35\" class=\"row_heading level0 row35\" >South Carolina</th>\n",
              "                        <td id=\"T_5b1338ec_597a_11ec_98cd_0242ac1c0002row35_col0\" class=\"data row35 col0\" >0.913993</td>\n",
              "            </tr>\n",
              "            <tr>\n",
              "                        <th id=\"T_5b1338ec_597a_11ec_98cd_0242ac1c0002level0_row36\" class=\"row_heading level0 row36\" >Tennessee</th>\n",
              "                        <td id=\"T_5b1338ec_597a_11ec_98cd_0242ac1c0002row36_col0\" class=\"data row36 col0\" >0.903257</td>\n",
              "            </tr>\n",
              "            <tr>\n",
              "                        <th id=\"T_5b1338ec_597a_11ec_98cd_0242ac1c0002level0_row37\" class=\"row_heading level0 row37\" >Texas</th>\n",
              "                        <td id=\"T_5b1338ec_597a_11ec_98cd_0242ac1c0002row37_col0\" class=\"data row37 col0\" >0.897460</td>\n",
              "            </tr>\n",
              "            <tr>\n",
              "                        <th id=\"T_5b1338ec_597a_11ec_98cd_0242ac1c0002level0_row38\" class=\"row_heading level0 row38\" >Utah</th>\n",
              "                        <td id=\"T_5b1338ec_597a_11ec_98cd_0242ac1c0002row38_col0\" class=\"data row38 col0\" >0.915290</td>\n",
              "            </tr>\n",
              "            <tr>\n",
              "                        <th id=\"T_5b1338ec_597a_11ec_98cd_0242ac1c0002level0_row39\" class=\"row_heading level0 row39\" >Vermont</th>\n",
              "                        <td id=\"T_5b1338ec_597a_11ec_98cd_0242ac1c0002row39_col0\" class=\"data row39 col0\" >0.722085</td>\n",
              "            </tr>\n",
              "            <tr>\n",
              "                        <th id=\"T_5b1338ec_597a_11ec_98cd_0242ac1c0002level0_row40\" class=\"row_heading level0 row40\" >Virginia</th>\n",
              "                        <td id=\"T_5b1338ec_597a_11ec_98cd_0242ac1c0002row40_col0\" class=\"data row40 col0\" >0.799249</td>\n",
              "            </tr>\n",
              "            <tr>\n",
              "                        <th id=\"T_5b1338ec_597a_11ec_98cd_0242ac1c0002level0_row41\" class=\"row_heading level0 row41\" >Wisconsin</th>\n",
              "                        <td id=\"T_5b1338ec_597a_11ec_98cd_0242ac1c0002row41_col0\" class=\"data row41 col0\" >0.888765</td>\n",
              "            </tr>\n",
              "            <tr>\n",
              "                        <th id=\"T_5b1338ec_597a_11ec_98cd_0242ac1c0002level0_row42\" class=\"row_heading level0 row42\" >Wyoming</th>\n",
              "                        <td id=\"T_5b1338ec_597a_11ec_98cd_0242ac1c0002row42_col0\" class=\"data row42 col0\" >0.832619</td>\n",
              "            </tr>\n",
              "    </tbody></table>"
            ],
            "text/plain": [
              "<pandas.io.formats.style.Styler at 0x7f28e8062c50>"
            ]
          },
          "metadata": {},
          "execution_count": 20
        }
      ]
    },
    {
      "cell_type": "code",
      "metadata": {
        "id": "HM6jF1_Kd5In"
      },
      "source": [
        "maskmandate=maskmandate[(maskmandate.State.isin(mi.index))]#&(maskmandate.End_date>enddate)]"
      ],
      "execution_count": null,
      "outputs": []
    },
    {
      "cell_type": "code",
      "metadata": {
        "colab": {
          "base_uri": "https://localhost:8080/"
        },
        "id": "qUqy5Myrd5In",
        "outputId": "c44c4822-6125-4cfc-9dfb-55dc22a4c208"
      },
      "source": [
        "set(list(maskmandate.State))"
      ],
      "execution_count": null,
      "outputs": [
        {
          "output_type": "execute_result",
          "data": {
            "text/plain": [
              "{'Alabama',\n",
              " 'Alaska',\n",
              " 'Arizona',\n",
              " 'Arkansas',\n",
              " 'California',\n",
              " 'Colorado',\n",
              " 'Connecticut',\n",
              " 'Delaware',\n",
              " 'Florida',\n",
              " 'Georgia',\n",
              " 'Hawaii',\n",
              " 'Idaho',\n",
              " 'Illinois',\n",
              " 'Indiana',\n",
              " 'Kansas',\n",
              " 'Kentucky',\n",
              " 'Louisiana',\n",
              " 'Maine',\n",
              " 'Maryland',\n",
              " 'Massachusetts',\n",
              " 'Michigan',\n",
              " 'Mississippi',\n",
              " 'Missouri',\n",
              " 'Nevada',\n",
              " 'New Hampshire',\n",
              " 'New Jersey',\n",
              " 'New Mexico',\n",
              " 'New York',\n",
              " 'North Carolina',\n",
              " 'North Dakota',\n",
              " 'Ohio',\n",
              " 'Oklahoma',\n",
              " 'Oregon',\n",
              " 'Pennsylvania',\n",
              " 'South Carolina',\n",
              " 'Tennessee',\n",
              " 'Texas',\n",
              " 'Utah',\n",
              " 'Vermont',\n",
              " 'Virginia',\n",
              " 'Wisconsin',\n",
              " 'Wyoming'}"
            ]
          },
          "metadata": {},
          "execution_count": 22
        }
      ]
    },
    {
      "cell_type": "code",
      "metadata": {
        "id": "oBOBEHPld5In"
      },
      "source": [
        "final_series = dfpivot[[ 'Louisiana','Alabama',\n",
        " 'Alaska',\n",
        " 'Arizona',\n",
        " 'Arkansas',\n",
        " 'California',\n",
        " 'Colorado',\n",
        " 'Connecticut',\n",
        " 'Delaware',\n",
        " 'Florida',\n",
        " 'Georgia',\n",
        " 'Hawaii',\n",
        " 'Idaho',\n",
        " 'Illinois',\n",
        " 'Indiana',\n",
        " 'Kansas',\n",
        " 'Kentucky',\n",
        " 'Maine',\n",
        " 'Maryland',\n",
        " 'Massachusetts',\n",
        " 'Michigan',\n",
        " 'Mississippi',\n",
        " 'Missouri',\n",
        " 'Nevada',\n",
        " 'New Hampshire',\n",
        " 'New Jersey',\n",
        " 'New Mexico',\n",
        " 'New York',\n",
        " 'North Carolina',\n",
        " 'North Dakota',\n",
        " 'Ohio',\n",
        " 'Oklahoma',\n",
        " 'Oregon',\n",
        " 'Pennsylvania',\n",
        " 'South Carolina',\n",
        " 'Tennessee',\n",
        " 'Texas',\n",
        " 'Utah',\n",
        " 'Vermont',\n",
        " 'Virginia',\n",
        " 'Wisconsin',\n",
        " 'Wyoming']]\n",
        " \n",
        "final_series.to_csv(\"Louisiana_enf.csv\")"
      ],
      "execution_count": null,
      "outputs": []
    },
    {
      "cell_type": "code",
      "metadata": {
        "id": "81HtRnsc0qlj"
      },
      "source": [
        ""
      ],
      "execution_count": null,
      "outputs": []
    },
    {
      "cell_type": "markdown",
      "metadata": {
        "id": "YvTHNDLp2xh8"
      },
      "source": [
        "# Oregon reissue"
      ]
    },
    {
      "cell_type": "code",
      "metadata": {
        "id": "MuE40Vnp2xiB"
      },
      "source": [
        "import datetime\n",
        "from datetime import date\n",
        "from dateutil.relativedelta import relativedelta,MO"
      ],
      "execution_count": 6,
      "outputs": []
    },
    {
      "cell_type": "code",
      "metadata": {
        "colab": {
          "base_uri": "https://localhost:8080/"
        },
        "id": "WRXZphBG2xiC",
        "outputId": "61bfbf50-3793-4762-e4f4-b5b374beb9b6"
      },
      "source": [
        "dfpivot.Oregon.head(10)"
      ],
      "execution_count": 7,
      "outputs": [
        {
          "output_type": "execute_result",
          "data": {
            "text/plain": [
              "time_value\n",
              "2020-01-27    0.000000\n",
              "2020-02-03    0.000000\n",
              "2020-02-10    0.000000\n",
              "2020-02-17    0.000000\n",
              "2020-02-24    0.000000\n",
              "2020-03-02    0.070730\n",
              "2020-03-09    0.259342\n",
              "2020-03-16    0.589413\n",
              "2020-03-23    3.583632\n",
              "2020-03-30    9.784258\n",
              "Name: Oregon, dtype: float64"
            ]
          },
          "metadata": {},
          "execution_count": 7
        }
      ]
    },
    {
      "cell_type": "code",
      "metadata": {
        "id": "9qwde58V2xiC"
      },
      "source": [
        "dfpivot_cor = dfpivot[(dfpivot.index >= \"2020-03-16\")&(dfpivot.index <= \"2021-08-23\")]\n"
      ],
      "execution_count": 8,
      "outputs": []
    },
    {
      "cell_type": "code",
      "metadata": {
        "colab": {
          "base_uri": "https://localhost:8080/"
        },
        "id": "gKRXuNQi2xiC",
        "outputId": "e404c701-0d3c-4d38-e157-e43ae69c1a4a"
      },
      "source": [
        "pd.to_datetime(\"2021-8-30\")+relativedelta(weeks=+8)"
      ],
      "execution_count": 9,
      "outputs": [
        {
          "output_type": "execute_result",
          "data": {
            "text/plain": [
              "Timestamp('2021-10-25 00:00:00')"
            ]
          },
          "metadata": {},
          "execution_count": 9
        }
      ]
    },
    {
      "cell_type": "code",
      "metadata": {
        "id": "sICEHaw62xiC",
        "colab": {
          "base_uri": "https://localhost:8080/"
        },
        "outputId": "1527f696-b3b5-4df1-b7ff-67dfe581139a"
      },
      "source": [
        "print(dfpivot_cor.head(1))\n",
        "print(dfpivot_cor.tail(1))"
      ],
      "execution_count": 10,
      "outputs": [
        {
          "output_type": "stream",
          "name": "stdout",
          "text": [
            "             Alabama    Alaska   Arizona  ...  West Virginia  Wisconsin   Wyoming\n",
            "time_value                                ...                                    \n",
            "2020-03-16  0.731479  0.138345  0.188644  ...            0.0   0.822953  0.343449\n",
            "\n",
            "[1 rows x 52 columns]\n",
            "               Alabama      Alaska  ...   Wisconsin    Wyoming\n",
            "time_value                          ...                       \n",
            "2021-08-23  574.821011  463.041102  ...  181.461101  449.57481\n",
            "\n",
            "[1 rows x 52 columns]\n"
          ]
        }
      ]
    },
    {
      "cell_type": "code",
      "metadata": {
        "colab": {
          "base_uri": "https://localhost:8080/"
        },
        "id": "vjZLKCMl2xiC",
        "outputId": "814fe233-21f4-4afd-b065-e18a0404b566"
      },
      "source": [
        "maskmandate = pd.read_csv(\"/Statewidemaskorders.csv\")\n",
        "maskmandate[['Start_date', 'End_date']] = maskmandate['Effective'].str.split(' - ', expand=True)\n",
        "maskmandate['Start_date']=pd.to_datetime(maskmandate['Start_date'])\n",
        "maskmandate.End_date[maskmandate.End_date == 'present'] = \"November 21, 2021\"\n",
        "maskmandate['End_date']=pd.to_datetime(maskmandate['End_date'])\n",
        "state_names=[\"Alabama\", \"Alaska\", \"Arizona\", \"Arkansas\", \"California\", \"Colorado\", \"Connecticut\", \n",
        "             \"Delaware\", \"Florida\", \"Georgia\", \"Hawaii\", \"Idaho\", \"Illinois\", \"Indiana\", \"Iowa\", \n",
        "             \"Kansas\", \"Kentucky\", \"Louisiana\", \"Maine\", \"Maryland\", \"Massachusetts\", \"Michigan\", \n",
        "             \"Minnesota\", \"Mississippi\", \"Missouri\", \"Montana\", \"Nebraska\", \"Nevada\", \"New Hampshire\", \n",
        "             \"New Jersey\", \"New Mexico\", \"New York\", \"North Carolina\", \"North Dakota\", \"Ohio\", \"Oklahoma\", \n",
        "             \"Oregon\", \"Pennsylvania\", \"Rhode Island\", \"South Carolina\", \"South Dakota\", \"Tennessee\", \"Texas\", \n",
        "             \"Utah\", \"Vermont\", \"Virginia\", \"Washington\", \"West Virginia\", \"Wisconsin\", \"Wyoming\"]\n",
        "nomandate = list(set(state_names) - set(maskmandate.State.values))\n",
        "nomandatedf = pd.DataFrame(data={'State':nomandate})\n",
        "maskmandate = maskmandate.append(nomandatedf)"
      ],
      "execution_count": 11,
      "outputs": [
        {
          "output_type": "stream",
          "name": "stderr",
          "text": [
            "/usr/local/lib/python3.7/dist-packages/ipykernel_launcher.py:4: SettingWithCopyWarning: \n",
            "A value is trying to be set on a copy of a slice from a DataFrame\n",
            "\n",
            "See the caveats in the documentation: https://pandas.pydata.org/pandas-docs/stable/user_guide/indexing.html#returning-a-view-versus-a-copy\n",
            "  after removing the cwd from sys.path.\n"
          ]
        }
      ]
    },
    {
      "cell_type": "code",
      "source": [
        "nomandate"
      ],
      "metadata": {
        "colab": {
          "base_uri": "https://localhost:8080/"
        },
        "id": "fRahW1etGeNf",
        "outputId": "8e7a97d1-395d-43e4-e576-1a39a1805f50"
      },
      "execution_count": 12,
      "outputs": [
        {
          "output_type": "execute_result",
          "data": {
            "text/plain": [
              "['Tennessee',\n",
              " 'Missouri',\n",
              " 'South Carolina',\n",
              " 'Idaho',\n",
              " 'Arizona',\n",
              " 'Florida',\n",
              " 'Georgia',\n",
              " 'Nebraska',\n",
              " 'Alaska',\n",
              " 'Oklahoma',\n",
              " 'South Dakota']"
            ]
          },
          "metadata": {},
          "execution_count": 12
        }
      ]
    },
    {
      "cell_type": "code",
      "metadata": {
        "colab": {
          "base_uri": "https://localhost:8080/",
          "height": 1000
        },
        "id": "ju774NCV2xiC",
        "outputId": "530c480a-f750-4226-c5da-25bdc4419053"
      },
      "source": [
        "corr = dfpivot_cor.pct_change().dropna().corr()\n",
        "mi = pd.DataFrame(corr.Oregon)\n",
        "mi = mi[mi.Oregon>0.7]\n",
        "mi.style.background_gradient(cmap='coolwarm')"
      ],
      "execution_count": 13,
      "outputs": [
        {
          "output_type": "execute_result",
          "data": {
            "text/html": [
              "<style  type=\"text/css\" >\n",
              "#T_410f3344_59e6_11ec_8b3e_0242ac1c0002row0_col0{\n",
              "            background-color:  #ebd3c6;\n",
              "            color:  #000000;\n",
              "        }#T_410f3344_59e6_11ec_8b3e_0242ac1c0002row1_col0,#T_410f3344_59e6_11ec_8b3e_0242ac1c0002row38_col0{\n",
              "            background-color:  #f6a283;\n",
              "            color:  #000000;\n",
              "        }#T_410f3344_59e6_11ec_8b3e_0242ac1c0002row2_col0{\n",
              "            background-color:  #e2dad5;\n",
              "            color:  #000000;\n",
              "        }#T_410f3344_59e6_11ec_8b3e_0242ac1c0002row3_col0{\n",
              "            background-color:  #80a3fa;\n",
              "            color:  #000000;\n",
              "        }#T_410f3344_59e6_11ec_8b3e_0242ac1c0002row4_col0{\n",
              "            background-color:  #aac7fd;\n",
              "            color:  #000000;\n",
              "        }#T_410f3344_59e6_11ec_8b3e_0242ac1c0002row5_col0{\n",
              "            background-color:  #dfdbd9;\n",
              "            color:  #000000;\n",
              "        }#T_410f3344_59e6_11ec_8b3e_0242ac1c0002row6_col0{\n",
              "            background-color:  #e9d5cb;\n",
              "            color:  #000000;\n",
              "        }#T_410f3344_59e6_11ec_8b3e_0242ac1c0002row7_col0{\n",
              "            background-color:  #86a9fc;\n",
              "            color:  #000000;\n",
              "        }#T_410f3344_59e6_11ec_8b3e_0242ac1c0002row8_col0{\n",
              "            background-color:  #f6a385;\n",
              "            color:  #000000;\n",
              "        }#T_410f3344_59e6_11ec_8b3e_0242ac1c0002row9_col0{\n",
              "            background-color:  #bcd2f7;\n",
              "            color:  #000000;\n",
              "        }#T_410f3344_59e6_11ec_8b3e_0242ac1c0002row10_col0{\n",
              "            background-color:  #d3dbe7;\n",
              "            color:  #000000;\n",
              "        }#T_410f3344_59e6_11ec_8b3e_0242ac1c0002row11_col0{\n",
              "            background-color:  #f7b99e;\n",
              "            color:  #000000;\n",
              "        }#T_410f3344_59e6_11ec_8b3e_0242ac1c0002row12_col0{\n",
              "            background-color:  #f7b093;\n",
              "            color:  #000000;\n",
              "        }#T_410f3344_59e6_11ec_8b3e_0242ac1c0002row13_col0{\n",
              "            background-color:  #f5a081;\n",
              "            color:  #000000;\n",
              "        }#T_410f3344_59e6_11ec_8b3e_0242ac1c0002row14_col0{\n",
              "            background-color:  #506bda;\n",
              "            color:  #000000;\n",
              "        }#T_410f3344_59e6_11ec_8b3e_0242ac1c0002row15_col0{\n",
              "            background-color:  #f2c9b4;\n",
              "            color:  #000000;\n",
              "        }#T_410f3344_59e6_11ec_8b3e_0242ac1c0002row16_col0{\n",
              "            background-color:  #f7b89c;\n",
              "            color:  #000000;\n",
              "        }#T_410f3344_59e6_11ec_8b3e_0242ac1c0002row17_col0{\n",
              "            background-color:  #ead4c8;\n",
              "            color:  #000000;\n",
              "        }#T_410f3344_59e6_11ec_8b3e_0242ac1c0002row18_col0{\n",
              "            background-color:  #96b7ff;\n",
              "            color:  #000000;\n",
              "        }#T_410f3344_59e6_11ec_8b3e_0242ac1c0002row19_col0,#T_410f3344_59e6_11ec_8b3e_0242ac1c0002row30_col0{\n",
              "            background-color:  #eed0c0;\n",
              "            color:  #000000;\n",
              "        }#T_410f3344_59e6_11ec_8b3e_0242ac1c0002row20_col0{\n",
              "            background-color:  #e3d9d3;\n",
              "            color:  #000000;\n",
              "        }#T_410f3344_59e6_11ec_8b3e_0242ac1c0002row21_col0{\n",
              "            background-color:  #f7b79b;\n",
              "            color:  #000000;\n",
              "        }#T_410f3344_59e6_11ec_8b3e_0242ac1c0002row22_col0{\n",
              "            background-color:  #5b7ae5;\n",
              "            color:  #000000;\n",
              "        }#T_410f3344_59e6_11ec_8b3e_0242ac1c0002row23_col0{\n",
              "            background-color:  #f6bda2;\n",
              "            color:  #000000;\n",
              "        }#T_410f3344_59e6_11ec_8b3e_0242ac1c0002row24_col0{\n",
              "            background-color:  #f0cdbb;\n",
              "            color:  #000000;\n",
              "        }#T_410f3344_59e6_11ec_8b3e_0242ac1c0002row25_col0{\n",
              "            background-color:  #c7d7f0;\n",
              "            color:  #000000;\n",
              "        }#T_410f3344_59e6_11ec_8b3e_0242ac1c0002row26_col0{\n",
              "            background-color:  #f4c6af;\n",
              "            color:  #000000;\n",
              "        }#T_410f3344_59e6_11ec_8b3e_0242ac1c0002row27_col0,#T_410f3344_59e6_11ec_8b3e_0242ac1c0002row36_col0{\n",
              "            background-color:  #f7b194;\n",
              "            color:  #000000;\n",
              "        }#T_410f3344_59e6_11ec_8b3e_0242ac1c0002row28_col0{\n",
              "            background-color:  #f2cab5;\n",
              "            color:  #000000;\n",
              "        }#T_410f3344_59e6_11ec_8b3e_0242ac1c0002row29_col0{\n",
              "            background-color:  #f7a688;\n",
              "            color:  #000000;\n",
              "        }#T_410f3344_59e6_11ec_8b3e_0242ac1c0002row31_col0{\n",
              "            background-color:  #f5c2aa;\n",
              "            color:  #000000;\n",
              "        }#T_410f3344_59e6_11ec_8b3e_0242ac1c0002row32_col0{\n",
              "            background-color:  #edd1c2;\n",
              "            color:  #000000;\n",
              "        }#T_410f3344_59e6_11ec_8b3e_0242ac1c0002row33_col0{\n",
              "            background-color:  #b40426;\n",
              "            color:  #f1f1f1;\n",
              "        }#T_410f3344_59e6_11ec_8b3e_0242ac1c0002row34_col0{\n",
              "            background-color:  #f5c0a7;\n",
              "            color:  #000000;\n",
              "        }#T_410f3344_59e6_11ec_8b3e_0242ac1c0002row35_col0{\n",
              "            background-color:  #6c8ff1;\n",
              "            color:  #000000;\n",
              "        }#T_410f3344_59e6_11ec_8b3e_0242ac1c0002row37_col0{\n",
              "            background-color:  #efcfbf;\n",
              "            color:  #000000;\n",
              "        }#T_410f3344_59e6_11ec_8b3e_0242ac1c0002row39_col0{\n",
              "            background-color:  #f59d7e;\n",
              "            color:  #000000;\n",
              "        }#T_410f3344_59e6_11ec_8b3e_0242ac1c0002row40_col0{\n",
              "            background-color:  #3b4cc0;\n",
              "            color:  #f1f1f1;\n",
              "        }#T_410f3344_59e6_11ec_8b3e_0242ac1c0002row41_col0{\n",
              "            background-color:  #97b8ff;\n",
              "            color:  #000000;\n",
              "        }#T_410f3344_59e6_11ec_8b3e_0242ac1c0002row42_col0{\n",
              "            background-color:  #f7ba9f;\n",
              "            color:  #000000;\n",
              "        }#T_410f3344_59e6_11ec_8b3e_0242ac1c0002row43_col0{\n",
              "            background-color:  #dddcdc;\n",
              "            color:  #000000;\n",
              "        }</style><table id=\"T_410f3344_59e6_11ec_8b3e_0242ac1c0002\" class=\"dataframe\"><thead>    <tr>        <th class=\"blank level0\" ></th>        <th class=\"col_heading level0 col0\" >Oregon</th>    </tr></thead><tbody>\n",
              "                <tr>\n",
              "                        <th id=\"T_410f3344_59e6_11ec_8b3e_0242ac1c0002level0_row0\" class=\"row_heading level0 row0\" >Alaska</th>\n",
              "                        <td id=\"T_410f3344_59e6_11ec_8b3e_0242ac1c0002row0_col0\" class=\"data row0 col0\" >0.870293</td>\n",
              "            </tr>\n",
              "            <tr>\n",
              "                        <th id=\"T_410f3344_59e6_11ec_8b3e_0242ac1c0002level0_row1\" class=\"row_heading level0 row1\" >Arizona</th>\n",
              "                        <td id=\"T_410f3344_59e6_11ec_8b3e_0242ac1c0002row1_col0\" class=\"data row1 col0\" >0.919890</td>\n",
              "            </tr>\n",
              "            <tr>\n",
              "                        <th id=\"T_410f3344_59e6_11ec_8b3e_0242ac1c0002level0_row2\" class=\"row_heading level0 row2\" >Arkansas</th>\n",
              "                        <td id=\"T_410f3344_59e6_11ec_8b3e_0242ac1c0002row2_col0\" class=\"data row2 col0\" >0.859285</td>\n",
              "            </tr>\n",
              "            <tr>\n",
              "                        <th id=\"T_410f3344_59e6_11ec_8b3e_0242ac1c0002level0_row3\" class=\"row_heading level0 row3\" >California</th>\n",
              "                        <td id=\"T_410f3344_59e6_11ec_8b3e_0242ac1c0002row3_col0\" class=\"data row3 col0\" >0.768228</td>\n",
              "            </tr>\n",
              "            <tr>\n",
              "                        <th id=\"T_410f3344_59e6_11ec_8b3e_0242ac1c0002level0_row4\" class=\"row_heading level0 row4\" >Colorado</th>\n",
              "                        <td id=\"T_410f3344_59e6_11ec_8b3e_0242ac1c0002row4_col0\" class=\"data row4 col0\" >0.803373</td>\n",
              "            </tr>\n",
              "            <tr>\n",
              "                        <th id=\"T_410f3344_59e6_11ec_8b3e_0242ac1c0002level0_row5\" class=\"row_heading level0 row5\" >Connecticut</th>\n",
              "                        <td id=\"T_410f3344_59e6_11ec_8b3e_0242ac1c0002row5_col0\" class=\"data row5 col0\" >0.855383</td>\n",
              "            </tr>\n",
              "            <tr>\n",
              "                        <th id=\"T_410f3344_59e6_11ec_8b3e_0242ac1c0002level0_row6\" class=\"row_heading level0 row6\" >Delaware</th>\n",
              "                        <td id=\"T_410f3344_59e6_11ec_8b3e_0242ac1c0002row6_col0\" class=\"data row6 col0\" >0.866766</td>\n",
              "            </tr>\n",
              "            <tr>\n",
              "                        <th id=\"T_410f3344_59e6_11ec_8b3e_0242ac1c0002level0_row7\" class=\"row_heading level0 row7\" >District of Columbia</th>\n",
              "                        <td id=\"T_410f3344_59e6_11ec_8b3e_0242ac1c0002row7_col0\" class=\"data row7 col0\" >0.773871</td>\n",
              "            </tr>\n",
              "            <tr>\n",
              "                        <th id=\"T_410f3344_59e6_11ec_8b3e_0242ac1c0002level0_row8\" class=\"row_heading level0 row8\" >Florida</th>\n",
              "                        <td id=\"T_410f3344_59e6_11ec_8b3e_0242ac1c0002row8_col0\" class=\"data row8 col0\" >0.918844</td>\n",
              "            </tr>\n",
              "            <tr>\n",
              "                        <th id=\"T_410f3344_59e6_11ec_8b3e_0242ac1c0002level0_row9\" class=\"row_heading level0 row9\" >Georgia</th>\n",
              "                        <td id=\"T_410f3344_59e6_11ec_8b3e_0242ac1c0002row9_col0\" class=\"data row9 col0\" >0.820094</td>\n",
              "            </tr>\n",
              "            <tr>\n",
              "                        <th id=\"T_410f3344_59e6_11ec_8b3e_0242ac1c0002level0_row10\" class=\"row_heading level0 row10\" >Hawaii</th>\n",
              "                        <td id=\"T_410f3344_59e6_11ec_8b3e_0242ac1c0002row10_col0\" class=\"data row10 col0\" >0.842089</td>\n",
              "            </tr>\n",
              "            <tr>\n",
              "                        <th id=\"T_410f3344_59e6_11ec_8b3e_0242ac1c0002level0_row11\" class=\"row_heading level0 row11\" >Idaho</th>\n",
              "                        <td id=\"T_410f3344_59e6_11ec_8b3e_0242ac1c0002row11_col0\" class=\"data row11 col0\" >0.900585</td>\n",
              "            </tr>\n",
              "            <tr>\n",
              "                        <th id=\"T_410f3344_59e6_11ec_8b3e_0242ac1c0002level0_row12\" class=\"row_heading level0 row12\" >Illinois</th>\n",
              "                        <td id=\"T_410f3344_59e6_11ec_8b3e_0242ac1c0002row12_col0\" class=\"data row12 col0\" >0.908549</td>\n",
              "            </tr>\n",
              "            <tr>\n",
              "                        <th id=\"T_410f3344_59e6_11ec_8b3e_0242ac1c0002level0_row13\" class=\"row_heading level0 row13\" >Indiana</th>\n",
              "                        <td id=\"T_410f3344_59e6_11ec_8b3e_0242ac1c0002row13_col0\" class=\"data row13 col0\" >0.921032</td>\n",
              "            </tr>\n",
              "            <tr>\n",
              "                        <th id=\"T_410f3344_59e6_11ec_8b3e_0242ac1c0002level0_row14\" class=\"row_heading level0 row14\" >Iowa</th>\n",
              "                        <td id=\"T_410f3344_59e6_11ec_8b3e_0242ac1c0002row14_col0\" class=\"data row14 col0\" >0.727229</td>\n",
              "            </tr>\n",
              "            <tr>\n",
              "                        <th id=\"T_410f3344_59e6_11ec_8b3e_0242ac1c0002level0_row15\" class=\"row_heading level0 row15\" >Kansas</th>\n",
              "                        <td id=\"T_410f3344_59e6_11ec_8b3e_0242ac1c0002row15_col0\" class=\"data row15 col0\" >0.884791</td>\n",
              "            </tr>\n",
              "            <tr>\n",
              "                        <th id=\"T_410f3344_59e6_11ec_8b3e_0242ac1c0002level0_row16\" class=\"row_heading level0 row16\" >Kentucky</th>\n",
              "                        <td id=\"T_410f3344_59e6_11ec_8b3e_0242ac1c0002row16_col0\" class=\"data row16 col0\" >0.901297</td>\n",
              "            </tr>\n",
              "            <tr>\n",
              "                        <th id=\"T_410f3344_59e6_11ec_8b3e_0242ac1c0002level0_row17\" class=\"row_heading level0 row17\" >Louisiana</th>\n",
              "                        <td id=\"T_410f3344_59e6_11ec_8b3e_0242ac1c0002row17_col0\" class=\"data row17 col0\" >0.869298</td>\n",
              "            </tr>\n",
              "            <tr>\n",
              "                        <th id=\"T_410f3344_59e6_11ec_8b3e_0242ac1c0002level0_row18\" class=\"row_heading level0 row18\" >Maine</th>\n",
              "                        <td id=\"T_410f3344_59e6_11ec_8b3e_0242ac1c0002row18_col0\" class=\"data row18 col0\" >0.787194</td>\n",
              "            </tr>\n",
              "            <tr>\n",
              "                        <th id=\"T_410f3344_59e6_11ec_8b3e_0242ac1c0002level0_row19\" class=\"row_heading level0 row19\" >Maryland</th>\n",
              "                        <td id=\"T_410f3344_59e6_11ec_8b3e_0242ac1c0002row19_col0\" class=\"data row19 col0\" >0.874761</td>\n",
              "            </tr>\n",
              "            <tr>\n",
              "                        <th id=\"T_410f3344_59e6_11ec_8b3e_0242ac1c0002level0_row20\" class=\"row_heading level0 row20\" >Massachusetts</th>\n",
              "                        <td id=\"T_410f3344_59e6_11ec_8b3e_0242ac1c0002row20_col0\" class=\"data row20 col0\" >0.860224</td>\n",
              "            </tr>\n",
              "            <tr>\n",
              "                        <th id=\"T_410f3344_59e6_11ec_8b3e_0242ac1c0002level0_row21\" class=\"row_heading level0 row21\" >Michigan</th>\n",
              "                        <td id=\"T_410f3344_59e6_11ec_8b3e_0242ac1c0002row21_col0\" class=\"data row21 col0\" >0.903355</td>\n",
              "            </tr>\n",
              "            <tr>\n",
              "                        <th id=\"T_410f3344_59e6_11ec_8b3e_0242ac1c0002level0_row22\" class=\"row_heading level0 row22\" >Minnesota</th>\n",
              "                        <td id=\"T_410f3344_59e6_11ec_8b3e_0242ac1c0002row22_col0\" class=\"data row22 col0\" >0.737040</td>\n",
              "            </tr>\n",
              "            <tr>\n",
              "                        <th id=\"T_410f3344_59e6_11ec_8b3e_0242ac1c0002level0_row23\" class=\"row_heading level0 row23\" >Mississippi</th>\n",
              "                        <td id=\"T_410f3344_59e6_11ec_8b3e_0242ac1c0002row23_col0\" class=\"data row23 col0\" >0.896636</td>\n",
              "            </tr>\n",
              "            <tr>\n",
              "                        <th id=\"T_410f3344_59e6_11ec_8b3e_0242ac1c0002level0_row24\" class=\"row_heading level0 row24\" >Missouri</th>\n",
              "                        <td id=\"T_410f3344_59e6_11ec_8b3e_0242ac1c0002row24_col0\" class=\"data row24 col0\" >0.879153</td>\n",
              "            </tr>\n",
              "            <tr>\n",
              "                        <th id=\"T_410f3344_59e6_11ec_8b3e_0242ac1c0002level0_row25\" class=\"row_heading level0 row25\" >Nevada</th>\n",
              "                        <td id=\"T_410f3344_59e6_11ec_8b3e_0242ac1c0002row25_col0\" class=\"data row25 col0\" >0.829859</td>\n",
              "            </tr>\n",
              "            <tr>\n",
              "                        <th id=\"T_410f3344_59e6_11ec_8b3e_0242ac1c0002level0_row26\" class=\"row_heading level0 row26\" >New Hampshire</th>\n",
              "                        <td id=\"T_410f3344_59e6_11ec_8b3e_0242ac1c0002row26_col0\" class=\"data row26 col0\" >0.887474</td>\n",
              "            </tr>\n",
              "            <tr>\n",
              "                        <th id=\"T_410f3344_59e6_11ec_8b3e_0242ac1c0002level0_row27\" class=\"row_heading level0 row27\" >New Jersey</th>\n",
              "                        <td id=\"T_410f3344_59e6_11ec_8b3e_0242ac1c0002row27_col0\" class=\"data row27 col0\" >0.907292</td>\n",
              "            </tr>\n",
              "            <tr>\n",
              "                        <th id=\"T_410f3344_59e6_11ec_8b3e_0242ac1c0002level0_row28\" class=\"row_heading level0 row28\" >New York</th>\n",
              "                        <td id=\"T_410f3344_59e6_11ec_8b3e_0242ac1c0002row28_col0\" class=\"data row28 col0\" >0.883735</td>\n",
              "            </tr>\n",
              "            <tr>\n",
              "                        <th id=\"T_410f3344_59e6_11ec_8b3e_0242ac1c0002level0_row29\" class=\"row_heading level0 row29\" >North Carolina</th>\n",
              "                        <td id=\"T_410f3344_59e6_11ec_8b3e_0242ac1c0002row29_col0\" class=\"data row29 col0\" >0.916720</td>\n",
              "            </tr>\n",
              "            <tr>\n",
              "                        <th id=\"T_410f3344_59e6_11ec_8b3e_0242ac1c0002level0_row30\" class=\"row_heading level0 row30\" >North Dakota</th>\n",
              "                        <td id=\"T_410f3344_59e6_11ec_8b3e_0242ac1c0002row30_col0\" class=\"data row30 col0\" >0.874843</td>\n",
              "            </tr>\n",
              "            <tr>\n",
              "                        <th id=\"T_410f3344_59e6_11ec_8b3e_0242ac1c0002level0_row31\" class=\"row_heading level0 row31\" >Ohio</th>\n",
              "                        <td id=\"T_410f3344_59e6_11ec_8b3e_0242ac1c0002row31_col0\" class=\"data row31 col0\" >0.890965</td>\n",
              "            </tr>\n",
              "            <tr>\n",
              "                        <th id=\"T_410f3344_59e6_11ec_8b3e_0242ac1c0002level0_row32\" class=\"row_heading level0 row32\" >Oklahoma</th>\n",
              "                        <td id=\"T_410f3344_59e6_11ec_8b3e_0242ac1c0002row32_col0\" class=\"data row32 col0\" >0.873977</td>\n",
              "            </tr>\n",
              "            <tr>\n",
              "                        <th id=\"T_410f3344_59e6_11ec_8b3e_0242ac1c0002level0_row33\" class=\"row_heading level0 row33\" >Oregon</th>\n",
              "                        <td id=\"T_410f3344_59e6_11ec_8b3e_0242ac1c0002row33_col0\" class=\"data row33 col0\" >1.000000</td>\n",
              "            </tr>\n",
              "            <tr>\n",
              "                        <th id=\"T_410f3344_59e6_11ec_8b3e_0242ac1c0002level0_row34\" class=\"row_heading level0 row34\" >Pennsylvania</th>\n",
              "                        <td id=\"T_410f3344_59e6_11ec_8b3e_0242ac1c0002row34_col0\" class=\"data row34 col0\" >0.893067</td>\n",
              "            </tr>\n",
              "            <tr>\n",
              "                        <th id=\"T_410f3344_59e6_11ec_8b3e_0242ac1c0002level0_row35\" class=\"row_heading level0 row35\" >Puerto Rico Commonwealth</th>\n",
              "                        <td id=\"T_410f3344_59e6_11ec_8b3e_0242ac1c0002row35_col0\" class=\"data row35 col0\" >0.751674</td>\n",
              "            </tr>\n",
              "            <tr>\n",
              "                        <th id=\"T_410f3344_59e6_11ec_8b3e_0242ac1c0002level0_row36\" class=\"row_heading level0 row36\" >South Carolina</th>\n",
              "                        <td id=\"T_410f3344_59e6_11ec_8b3e_0242ac1c0002row36_col0\" class=\"data row36 col0\" >0.907161</td>\n",
              "            </tr>\n",
              "            <tr>\n",
              "                        <th id=\"T_410f3344_59e6_11ec_8b3e_0242ac1c0002level0_row37\" class=\"row_heading level0 row37\" >Tennessee</th>\n",
              "                        <td id=\"T_410f3344_59e6_11ec_8b3e_0242ac1c0002row37_col0\" class=\"data row37 col0\" >0.876851</td>\n",
              "            </tr>\n",
              "            <tr>\n",
              "                        <th id=\"T_410f3344_59e6_11ec_8b3e_0242ac1c0002level0_row38\" class=\"row_heading level0 row38\" >Texas</th>\n",
              "                        <td id=\"T_410f3344_59e6_11ec_8b3e_0242ac1c0002row38_col0\" class=\"data row38 col0\" >0.919994</td>\n",
              "            </tr>\n",
              "            <tr>\n",
              "                        <th id=\"T_410f3344_59e6_11ec_8b3e_0242ac1c0002level0_row39\" class=\"row_heading level0 row39\" >Utah</th>\n",
              "                        <td id=\"T_410f3344_59e6_11ec_8b3e_0242ac1c0002row39_col0\" class=\"data row39 col0\" >0.923959</td>\n",
              "            </tr>\n",
              "            <tr>\n",
              "                        <th id=\"T_410f3344_59e6_11ec_8b3e_0242ac1c0002level0_row40\" class=\"row_heading level0 row40\" >Vermont</th>\n",
              "                        <td id=\"T_410f3344_59e6_11ec_8b3e_0242ac1c0002row40_col0\" class=\"data row40 col0\" >0.705529</td>\n",
              "            </tr>\n",
              "            <tr>\n",
              "                        <th id=\"T_410f3344_59e6_11ec_8b3e_0242ac1c0002level0_row41\" class=\"row_heading level0 row41\" >Virginia</th>\n",
              "                        <td id=\"T_410f3344_59e6_11ec_8b3e_0242ac1c0002row41_col0\" class=\"data row41 col0\" >0.787891</td>\n",
              "            </tr>\n",
              "            <tr>\n",
              "                        <th id=\"T_410f3344_59e6_11ec_8b3e_0242ac1c0002level0_row42\" class=\"row_heading level0 row42\" >Wisconsin</th>\n",
              "                        <td id=\"T_410f3344_59e6_11ec_8b3e_0242ac1c0002row42_col0\" class=\"data row42 col0\" >0.899800</td>\n",
              "            </tr>\n",
              "            <tr>\n",
              "                        <th id=\"T_410f3344_59e6_11ec_8b3e_0242ac1c0002level0_row43\" class=\"row_heading level0 row43\" >Wyoming</th>\n",
              "                        <td id=\"T_410f3344_59e6_11ec_8b3e_0242ac1c0002row43_col0\" class=\"data row43 col0\" >0.853719</td>\n",
              "            </tr>\n",
              "    </tbody></table>"
            ],
            "text/plain": [
              "<pandas.io.formats.style.Styler at 0x7fad704d2a10>"
            ]
          },
          "metadata": {},
          "execution_count": 13
        }
      ]
    },
    {
      "cell_type": "code",
      "metadata": {
        "id": "gbWg6IlI2xiC"
      },
      "source": [
        "maskmandate=maskmandate[(maskmandate.State.isin(mi.index))]#&(maskmandate.End_date>enddate)]"
      ],
      "execution_count": 14,
      "outputs": []
    },
    {
      "cell_type": "code",
      "metadata": {
        "colab": {
          "base_uri": "https://localhost:8080/"
        },
        "id": "3TkmozgR2xiC",
        "outputId": "2f364cc7-a917-4688-985e-12f086d74cec"
      },
      "source": [
        "set(list(maskmandate.State))"
      ],
      "execution_count": 15,
      "outputs": [
        {
          "output_type": "execute_result",
          "data": {
            "text/plain": [
              "{'Alaska',\n",
              " 'Arizona',\n",
              " 'Arkansas',\n",
              " 'California',\n",
              " 'Colorado',\n",
              " 'Connecticut',\n",
              " 'Delaware',\n",
              " 'Florida',\n",
              " 'Georgia',\n",
              " 'Hawaii',\n",
              " 'Idaho',\n",
              " 'Illinois',\n",
              " 'Indiana',\n",
              " 'Iowa',\n",
              " 'Kansas',\n",
              " 'Kentucky',\n",
              " 'Louisiana',\n",
              " 'Maine',\n",
              " 'Maryland',\n",
              " 'Massachusetts',\n",
              " 'Michigan',\n",
              " 'Minnesota',\n",
              " 'Mississippi',\n",
              " 'Missouri',\n",
              " 'Nevada',\n",
              " 'New Hampshire',\n",
              " 'New Jersey',\n",
              " 'New York',\n",
              " 'North Carolina',\n",
              " 'North Dakota',\n",
              " 'Ohio',\n",
              " 'Oklahoma',\n",
              " 'Oregon',\n",
              " 'Pennsylvania',\n",
              " 'South Carolina',\n",
              " 'Tennessee',\n",
              " 'Texas',\n",
              " 'Utah',\n",
              " 'Vermont',\n",
              " 'Virginia',\n",
              " 'Wisconsin',\n",
              " 'Wyoming'}"
            ]
          },
          "metadata": {},
          "execution_count": 15
        }
      ]
    },
    {
      "cell_type": "code",
      "metadata": {
        "id": "rM0UMTLv2xiD"
      },
      "source": [
        "final_series = dfpivot[['Oregon','Alaska',\n",
        " 'Arizona',\n",
        " 'Arkansas',\n",
        " 'California',\n",
        " 'Colorado',\n",
        " 'Connecticut',\n",
        " 'Delaware',\n",
        " 'Florida',\n",
        " 'Georgia',\n",
        " 'Hawaii',\n",
        " 'Idaho',\n",
        " 'Illinois',\n",
        " 'Indiana',\n",
        " 'Iowa',\n",
        " 'Kansas',\n",
        " 'Kentucky',\n",
        " 'Louisiana',\n",
        " 'Maine',\n",
        " 'Maryland',\n",
        " 'Massachusetts',\n",
        " 'Michigan',\n",
        " 'Minnesota',\n",
        " 'Mississippi',\n",
        " 'Missouri',\n",
        " 'Nevada',\n",
        " 'New Hampshire',\n",
        " 'New Jersey',\n",
        " 'New York',\n",
        " 'North Carolina',\n",
        " 'North Dakota',\n",
        " 'Ohio',\n",
        " 'Oklahoma',\n",
        " 'Pennsylvania',\n",
        " 'South Carolina',\n",
        " 'Tennessee',\n",
        " 'Texas',\n",
        " 'Utah',\n",
        " 'Vermont',\n",
        " 'Virginia',\n",
        " 'Wisconsin',\n",
        " 'Wyoming']]\n",
        " \n",
        "final_series.to_csv(\"Oregon_enf.csv\")"
      ],
      "execution_count": 16,
      "outputs": []
    },
    {
      "cell_type": "code",
      "source": [
        ""
      ],
      "metadata": {
        "id": "KOtbChkF38JP"
      },
      "execution_count": null,
      "outputs": []
    }
  ]
}